{
 "cells": [
  {
   "cell_type": "markdown",
   "id": "f60d2d64",
   "metadata": {
    "tags": [
     "title"
    ]
   },
   "source": [
    "# \"Public opinion should be suspended until further report\": A Data-Assisted Analysis of International Newspaper Coverage of the Explosion of the *USS Maine* (1898)"
   ]
  },
  {
   "cell_type": "markdown",
   "id": "79f5583c",
   "metadata": {
    "tags": [
     "contributor"
    ]
   },
   "source": [
    "### Adán Lerma-Mayer"
   ]
  },
  {
   "cell_type": "markdown",
   "id": "1b4f97b6",
   "metadata": {
    "heading_collapsed": true,
    "tags": [
     "contributor"
    ]
   },
   "source": [
    "### Ernesto Priani"
   ]
  },
  {
   "cell_type": "markdown",
   "id": "a164447e",
   "metadata": {
    "heading_collapsed": true,
    "tags": [
     "contributor"
    ]
   },
   "source": [
    "### Marc Priewe"
   ]
  },
  {
   "cell_type": "markdown",
   "id": "fc5a3c51",
   "metadata": {
    "heading_collapsed": true,
    "tags": [
     "title"
    ]
   },
   "source": [
    "## Abstract"
   ]
  },
  {
   "cell_type": "markdown",
   "id": "d23e8223",
   "metadata": {
    "hidden": true,
    "tags": [
     "abstract"
    ]
   },
   "source": [
    "In this paper, we investigate the first week of international newspaper coverage about the armored cruiser *USS Maine* explosion in Havana harbor on February 15, 1898. This event, in part, triggered the Spanish American War, which marked a changing of the imperial guards in the Western Hemisphere at the end of the nineteenth century. Using a selection of digitized newspapers from seven countries and employing statistical methods of quantitative analysis as well as close reading approaches, we take a new and comparative look at the initial coverage of the event from various national perspectives. Our research into the available newspaper data shows how editors molded the information that arrived via news agencies and other newspapers during the first week after the event into reports that added and reflected different biases concerning the explosion for specific national and regional audiences. "
   ]
  },
  {
   "cell_type": "markdown",
   "id": "9a8cdd30",
   "metadata": {
    "hidden": true,
    "tags": [
     "keywords"
    ]
   },
   "source": [
    "Keywords: digital history, transnational journalism studies, opinion-making in newspapers, Spanish American War."
   ]
  },
  {
   "cell_type": "markdown",
   "id": "d8ba545d",
   "metadata": {},
   "source": [
    "## Introduction"
   ]
  },
  {
   "cell_type": "markdown",
   "id": "987da418",
   "metadata": {},
   "source": [
    "On April 19, 1898, the United States Congress recognized the independence of Cuba and authorized President William McKinley in a joint resolution to remove Spanish armed forces from the island. The ensuing war with Spain over its remaining colonies in the Western Hemisphere, which lasted only a few months, would propel the United States to a center-stage position in the concert of imperial powers at the time. Before this epochal decision in the spring of 1898, the United States had remained officially neutral in the recent resurgences of Cuban military resistance against Spanish colonial oppression, yet increasingly engaged in various ways and degrees in the conflict. Aside from sending contraband weapons to Cuban rebels and engaging in secret diplomacy with Spain, it was especially the incessant reporting in American newspapers about the cruelties and atrocities of Spanish colonial rule that helped the cause of *Cuba Libre* by creating an enemy-image that would later aid in justifying war."
   ]
  },
  {
   "cell_type": "markdown",
   "id": "c08c8a61",
   "metadata": {},
   "source": [
    "Some historians have argued that the press played a central role in the decision of the United States government to enter into war with Spain by providing the necessary propaganda to gin up support for sending American men off to the battlefield (<cite data-cite=\"6095605/SBVQYHFC\"></cite>, <cite data-cite=\"6095605/3K5NG55P\"></cite> 201, <cite data-cite=\"6095605/6TXMVZNM\"></cite> 8). At least since the mid-1890s, parts of the American press had been instrumental in generating enthusiasm for expansionism beyond the nation's territorial boundaries on the heels of *Manifest Destiny*. The emerging yellow press, especially, took up the cause of spreading the narrative of American virtue, duty, and superiority that ultimately justified and demanded military interventions. William Randolph Hearst's *New York Journal* and Joseph Pulitzer's *New York World* were the center of the sensational press and significantly influenced political decisions of the time. The growing conflict between Cuban rebels and Spanish troops partly spurred the rise of yellow journalism in the United States, a topic that New York papers had picked up almost daily since 1895. Relying on the familiar narrative of an underdog seeking liberation from an evil colonial ruler, and often consisting of \"harrowing tales of women victims of Spanish cruelty\" (<cite data-cite=\"6095605/ZX5QAL9Y\"></cite> 93), most of the reports printed in the yellow press showed islanders as victims and the Spanish colonial government as brutal perpetrators of discrimination, oppression, and violence. Rumors and biased reports by the Cuban *junta*, a pro-independence organization in New York with close geographic and ideological proximity to the nearby yellow press, often fueled topics and stories at the time (<cite data-cite=\"6095605/6APGTG5J\"></cite> 14, <cite data-cite=\"6095605/46XUDA7Z\"></cite> 28, <cite data-cite=\"6095605/QNF6PJQD\"></cite> 12-14, <cite data-cite=\"6095605/8KWJRM5V\"></cite> 36-37). William Hearst is mainly credited for using his sensationalistic newspaper to create a pro-war public sentiment, at least since 1897, in order to generate profit and to cement his role in the Spanish-American War, which he went so far as to call the \"Journal's war\" (cited in <cite data-cite=\"6095605/SBVQYHFC\"></cite> 266). The imminent war in Cuba energized the competition between Hearst and Pulitzer, in which one not only tried to outdo the other with the latest scoop, but they accused the other paper of slow or false reporting. Both papers also rallied for war in response to the explosion of the *Maine* almost immediately, with Hearst's Journal leading the call to arms (<cite data-cite=\"6095605/P97L8XTZ\"></cite> 65-70). "
   ]
  },
  {
   "cell_type": "markdown",
   "id": "71d24dbe",
   "metadata": {},
   "source": [
    "Nevertheless, the exact role of the press in causing the United States to enter into war with Spain is still debated among historians, not least because yellow journalism did not spread widely or evenly across the country (<cite data-cite=\"6095605/ZX5QAL9Y\"></cite> 19, 443, <cite data-cite=\"6095605/46XUDA7Z\"></cite> 62, 72). It is safe to assume that American newspapers aided in the rally-around-the-flag effect, an outburst of public sentiment and agreement with the goals of the wartime nation; however, this was not the sole motivator for McKinley to opt for military intervention in Cuba (<cite data-cite=\"6095605/R48SEVSY\"></cite> 24, <cite data-cite=\"6095605/6DQ7MKZ3\"></cite> 150). Historians have persistently disagreed over what caused the United States to begin a war with Spain over Cuba, including the role of the press. In his 1992 study, Offner contends that for the U.S., the war was unavoidable due to the different political goals of the involved actors and necessary because only the United States had the military means to intervene in the colonial war on the island. However, such an exceptionalist view of this chapter in American history leaves out the imperialist and racist assumptions by many in Washington that the Cubans were unfit for self-government (<cite data-cite=\"6095605/QBEIUL7M\"></cite>). Other studies place the blame on a bellicose (yellow) press catering to public demands for war against the main political and economic interests of the United States (<cite data-cite=\"6095605/ZX5QAL9Y\"></cite>). Perez focuses on the U.S.'s economic developments and business interests concerning Cuba to explain the primary motivations for war. In a more recent study, McCullough highlights the role of Christian nationalism as a driving force behind U.S. expansionism clad as humanitarianism. In addition, the focus of many scholarly approaches has re-centered on McKinley (cf. <cite data-cite=\"6095605/H3L2CQG4\"></cite>). Michaela Hampf showed how the war was a domestic pressure valve to release several political and social tensions that had become apparent, especially since the economic depression of 1893 ( <cite data-cite=\"6095605/HNWNC6RC\"></cite> 378-454).  \n"
   ]
  },
  {
   "cell_type": "markdown",
   "id": "c59af668",
   "metadata": {},
   "source": [
    "Upon closer inspection of the records, historians have provided a more nuanced picture, one that refutes the claim that the yellow press was mainly, if not solely, responsible for driving the United States into war with Spain. George Auxier's research has shown, for instance, that Midwestern newspapers, while maintaining a firm sense of patriotism, were more cautious in calling for war with Spain and quite suspicious of the arrogant nationalism, or jingoism, displayed by the leading New York papers (<cite data-cite=\"6095605/8B7QHMNB\"></cite>). Spencer and Overholser, in a similar vein, write: \"The dividing line between the Yellow Press of the East and the middle-of-the-road press in the Midwest was quite noticeable in the coverage of the sinking of the U.S. armored cruiser *Maine* in Havana harbor (<cite data-cite=\"6095605/6DQ7MKZ3\"></cite>). While the New York press howled for war, the Minnesota press urged caution and contemplation\" (129), and the Kansas press reported similarly (<cite data-cite=\"6095605/TXZGKNJI\"></cite>). Moreover, as Piero Gleijeses has shown, opposition to the war was quite prominent in (public) opinions expressed in nationwide editorials and in the more general reporting on the events that led up to the war. Not all newspapers subscribed to and re-printed news from Hearst and Pulitzer. Many relied on the more restrained and \"conservative\" reports sold and circulated by the Associated Press (A.P.) or on a combination of several news services (<cite data-cite=\"6095605/TE5IANE9\"></cite> 6-7, <cite data-cite=\"6095605/ZX5QAL9Y\"></cite> 131). At the time, Melville E. Stone, a renowned pacifist who opposed generating enthusiasm for war through the news media, owned the A.P. network. Even though A.P., too, would later send their dispatch boats with reporters to Cuba and other battlefields of the Spanish-American war, their news reporting tended to be more accurate and less geared toward sensationalism than the competing New York yellow papers (<cite data-cite=\"6095605/3K5NG55P\"></cite> 25). "
   ]
  },
  {
   "cell_type": "markdown",
   "id": "53b2ab36",
   "metadata": {},
   "source": [
    "The present study aims to shed further light on the newspaper reporting preceding the decision of the United States to engage militarily in Cuba and other Spanish colonies by studying a collection of digitized newspaper articles from the United States, Spain, Mexico, Germany, the United Kingdom, the Netherlands, and Finland that report on what is generally seen as the pivotal event on the road to the Spanish-American war: the sinking of the *USS Maine* in the island's capital harbor. The year had begun with violent riots in Havana that received comprehensive coverage in the United States and caused growing concerns over human rights and the protection of American economic interests. As one result, President McKinley sent one of the most modern ships in the navy fleet, the armored cruiser *Maine*, painted in white, on a \"friendly\" visit from Key West to Havana on January 24. Diplomatic tensions between Spain and the United States mounted when news broke on February 9 that a letter by Spanish diplomat Dupuy De Lome had been intercepted by the Cuban *junta* and published by the New York yellow press in which he denigrated McKinley as weak and cowardly (<cite data-cite=\"6095605/TE5IANE9\"></cite> 92-97). Less than a week later, on February 15, 1898, at 9:40 pm, the *Maine* exploded in Havana harbor, killing 266 men, amounting to two-thirds of its crew. Given the already existing public animosities toward Spain expressed in many newspapers of the day, it was no coincidence that for many observers, the culprit under whose behest or at least auspices the explosion had taken place was Spain (<cite data-cite=\"6095605/46XUDA7Z\"></cite> 62, <cite data-cite=\"6095605/CHKZZDP8\"></cite> 170). "
   ]
  },
  {
   "cell_type": "markdown",
   "id": "60667029",
   "metadata": {},
   "source": [
    "On March 28, 1898, an official investigation by U.S. experts concluded that the sinking of the cruiser had been caused externally by a mine, yet no person or group was made responsible. The wreck of the *Maine* has since been examined numerous times to find the cause of the sinking. While the first report in 1898 (confirmed in 1911) claimed that an external mine was responsible, a re-examination undertaken in 1976 had found the cause to be internal, due to negligence, or by mere accident. In an extensive computer-aided simulation of the available data, *National Geographic Magazine* concluded in 1999 that both causes were possible without providing sufficient evidence for either claim (<cite data-cite=\"6095605/FD8IKH5J\"></cite>). In the newspapers studied for this project, no account blames the explosion explicitly on the Cuban *Junta*, which could have had an interest in causing the United States to (finally) intervene on the island and free its people from Spanish colonialism. Although rumors about various possible acts of conspiracy were circulating in the yellow papers shortly after the explosion, opinion leaders did not discuss them as viable causes. Also, in our corpus, there are no references to the conspiracy theory, first traceable in print in Tiburcio P. Castañeda's 1925 book *La explosión del *Maine* y la guerra de los Estados Unidos con España*, that \"war hawks\" in the U.S. government, especially Assistant Secretary of the Navy, Theodore Roosevelt, \"conceal[ed] the real cause of the disaster from the American public in order to proceed to war and the conquest of the Philippines\" (<cite data-cite=\"6095605/X6AY9XQ3\"></cite> 205)."
   ]
  },
  {
   "cell_type": "markdown",
   "id": "f2764529",
   "metadata": {},
   "source": [
    "For our case study, we rely on 1,627 newspaper articles published in seven countries during the first week after the explosion of the *Maine*. In order to extract usable data from the digital newspaper archives available to us, we used several search terms related to the event. We then applied text mining tools and topic-based annotations to compare newspaper reporting on this specific historical event more granularly than previously possible. Since our corpus is based on digitized newspapers from various national archives, we can detect different trends compared to research methods that rely primarily on interpreting editorials from a comparatively small selection of newspapers housed in libraries or archives. Our scalable reading approach consists of a combination of a bird's-eye and a microscopic view of documents (international newspapers) that represent a specific historical event (the explosion of the *Maine*), allowing us to study the attitudes of the press beyond the borders of the American Northeast and its yellow press subsidiaries and the Midwestern papers. This reading approach to digitized newspapers employs close and distant reading methods, enabling one to assess how newspapers reflected and helped mold public opinion in the Western Hemisphere and Europe during the spring of 1898. What we see unfold in the data is how expansionist and anti-expansionist movements found expression in newspaper reporting following the sinking of the *Maine* in virtually all of the countries studied. These two factions quarreled vociferously over the right path of the country in international affairs, especially in the United States. Taking on a remaining, although declining, imperial power such as Spain and potentially having to step in as colonists themselves caused both unease and excitement among American politicians, the broader public, and the media. However, the events in Cuba, Washington, and Madrid were also closely monitored by traditional and aspiring imperial powers, among them (and with varying efforts and degrees) Great Britain, Germany, the Netherlands, and even Cuba's neighbor Mexico (<cite data-cite=\"6095605/4BGQ3G5T\"></cite>)."
   ]
  },
  {
   "cell_type": "markdown",
   "id": "8afb3ade",
   "metadata": {},
   "source": [
    "We aim to generate further insight into newspaper reporting in these countries by asking the following guiding questions: How did different newspapers in different countries react to the emerging shifts in imperial powers in the Americas that the *Maine* incident seemed to signal? To what extent was this event seen as a sign of war by newspapers in countries with varying interests in a possible conflict between the United States and Spain over Cuba? In addressing these questions, we seek to test a common hypothesis in historical research on the Spanish-American War, namely that \"during the latter part of February, the newspapers seemed to be led gradually to the conclusion that war was inevitable\" (<cite data-cite=\"6095605/TE5IANE9\"></cite> 105). While *the World, the Journal*, and their yellow press subsidiaries in the United States did, in fact, pronounce Spain guilty almost immediately, our research shows a more nuanced reaction by the American as well as by the international press in the first week after the sinking of the *Maine*. In the following, we will first outline the selection of primary source material and the methods chosen and developed for the analysis. This includes an assessment of the obstacles we encountered, such as the selection of newspapers in the collection of digitized documents or OCR errors contained in the available data. Then, we provide our reading reports of the press coverage in seven countries involved in the ensuing conflict between Spain and the U.S. to varying degrees. These reports are enhanced by a comparative analysis of opinion-making in the chosen national newspapers based on the data generated from our working corpus. This scalable reading approach is consistently informed by secondary literature on the conflict and the roles and functions that newspapers played at the time. "
   ]
  },
  {
   "cell_type": "markdown",
   "id": "cd510045",
   "metadata": {
    "tags": [
     "hermeneutics"
    ]
   },
   "source": [
    "## Digging into Data: Corpora and Methods"
   ]
  },
  {
   "cell_type": "markdown",
   "id": "37d2b9eb",
   "metadata": {
    "tags": [
     "hermeneutics"
    ]
   },
   "source": [
    "Our exploration of nineteenth-century news reporting is based on a collection of digitized newspapers from ten national databases, which was assembled and clustered by an international research group working on *Oceanic Exchanges: Tracing Global Information Networks in Historical Newspaper Repositories, 1840-1914* (2017-2020). This collection presents opportunities and challenges for scholars researching how newspapers mediated past events to a broader public. On the one hand, the publicly funded digital holdings allow unprecedented access to primary materials housed in archives that had often been too far apart to consult in person. On the other hand, the state and quality of newspaper digitization projects in different countries vary significantly, for instance, concerning the quality of Optical Character Recognition (OCR), the extent of metadata inclusion, or the use of article separation when displaying and downloading individual articles (cf. <cite data-cite=\"6095605/T34HBCBC\"></cite>). Moreover, while some national archives (Finland, the Netherlands, and Australia, for instance) offer all of their available historical newspapers as digital facsimiles, other collections are based on selection criteria that are not always transparent for users, resulting, for instance, in a lack of data from Cuba, from Vienna in the German-language archives or from late-nineteenth-century yellow press newspapers in the corpus of *Chronicling America*. These and other shortcomings in the quality and quantity of the data can potentially lead to skewed results and force researchers to proceed with caution when analyzing and interpreting digitized newspapers as data (cf. <cite data-cite=\"6095605/MS9GS47Z\"></cite>).\n"
   ]
  },
  {
   "cell_type": "markdown",
   "id": "09f9b528",
   "metadata": {
    "tags": [
     "hermeneutics"
    ]
   },
   "source": [
    "We then employed data-assisted methods to explore our corpus further. As Miguel Escobar explains, we use data to transform our view of a question or problem with a data-assisted method. It is, in essence, a strategy of defamiliarization from the text in order to generate new perspectives on it. In our case, we take a scalable reading approach that combines traditional close reading practices borrowed from Literary Studies and History with data-assisted, \"distant reading\" (<cite data-cite=\"6095605/BW8UK5UU\"></cite>) approaches that have gained prominence in Digital Humanities research in recent years. We understand \"close reading\" to refer to the detailed analysis of individual newspaper items read by human beings and the manual annotation and interpretation of data provided by information technology. Distant reading is \"a condition of knowledge\" because while it offers a bird's-eye perspective on large data sets that would be impossible to read by a single human being, distant reading also \"allows us to focus on units that are much smaller than the text\" (<cite data-cite=\"6095605/BW8UK5UU\"></cite>), such as specific words and subjects in a heap of news data. This approach enables us to contrast and enrich data processing results with the assumptions we have formed while reading the news reports and the scholarly literature on the *Maine* case."
   ]
  },
  {
   "cell_type": "markdown",
   "id": "d6bfbaed",
   "metadata": {
    "tags": [
     "hermeneutics"
    ]
   },
   "source": [
    "We gathered our subcorpus of newspaper articles on the explosion from the larger corpus made available through the *Oceanic Exchanges* research consortium. In order to keep the data manageable and to ensure that the bulk of reporting that we aim to compare references the same event, we decided to search for articles published between February 16 and 23, 1898, the time between the explosion and the day when Congress appropriated 50 million dollars to prepare for war with Spain. We later decided to add data for the same time frame from the Spanish newspaper collection provided through the *Hemeroteca Digital de Biblioteca Nacional de España*, because Spain was a central protagonist in the controversy around the explosion of the *USS Maine* and the ensuing war and was thus vital for a meaningful investigation of international newspaper coverage of a single event."
   ]
  },
  {
   "cell_type": "markdown",
   "id": "2165b34e",
   "metadata": {
    "tags": [
     "hermeneutics"
    ]
   },
   "source": [
    "We also separated the German-language newspapers geographically into those from Germany and Austria-Hungary according to their respective national borders at the time of publication. However, because we only had a statistically insignificant number of articles from Austria-Hungary, and since we lacked access to digitized newspapers from Vienna, we had to exclude this data from our analysis, even though Austria-Hungary played an essential role in the conflict between Spain and the U.S. given its close familial connections to the Spanish monarchy at the time.\n"
   ]
  },
  {
   "cell_type": "markdown",
   "id": "4383638c",
   "metadata": {
    "tags": [
     "hermeneutics"
    ]
   },
   "source": [
    "Then, we searched for the following words in our working corpus: \"Maine,\" \"USS Maine,\" \"Kruiser,\" \"Explosion\" (in Finnish \"räjähdys\"), \"\"Havana\", \"Cuban\", and \"Espanja\"\". Our extensive and multiple keyword searches resulted in 1,627 stories published on the explosion of the *Maine* during the first week after the event (see [table 1](#anchor-table-1)). "
   ]
  },
  {
   "cell_type": "code",
   "execution_count": 1,
   "id": "d7260b63",
   "metadata": {
    "tags": [
     "hermeneutics",
     "table-1"
    ]
   },
   "outputs": [
    {
     "data": {
      "text/html": [
       "<style type=\"text/css\">\n",
       "#T_08e8a_row0_col0, #T_08e8a_row0_col1, #T_08e8a_row0_col2, #T_08e8a_row0_col3, #T_08e8a_row0_col4, #T_08e8a_row0_col5, #T_08e8a_row0_col6, #T_08e8a_row0_col7, #T_08e8a_row0_col8, #T_08e8a_row0_col9, #T_08e8a_row1_col0, #T_08e8a_row1_col1, #T_08e8a_row1_col2, #T_08e8a_row1_col3, #T_08e8a_row1_col4, #T_08e8a_row1_col5, #T_08e8a_row1_col6, #T_08e8a_row1_col7, #T_08e8a_row1_col8, #T_08e8a_row1_col9, #T_08e8a_row2_col0, #T_08e8a_row2_col1, #T_08e8a_row2_col2, #T_08e8a_row2_col3, #T_08e8a_row2_col4, #T_08e8a_row2_col5, #T_08e8a_row2_col6, #T_08e8a_row2_col7, #T_08e8a_row2_col8, #T_08e8a_row2_col9, #T_08e8a_row3_col0, #T_08e8a_row3_col1, #T_08e8a_row3_col2, #T_08e8a_row3_col3, #T_08e8a_row3_col4, #T_08e8a_row3_col5, #T_08e8a_row3_col6, #T_08e8a_row3_col7, #T_08e8a_row3_col8, #T_08e8a_row3_col9, #T_08e8a_row4_col0, #T_08e8a_row4_col1, #T_08e8a_row4_col2, #T_08e8a_row4_col3, #T_08e8a_row4_col4, #T_08e8a_row4_col5, #T_08e8a_row4_col6, #T_08e8a_row4_col7, #T_08e8a_row4_col8, #T_08e8a_row4_col9, #T_08e8a_row5_col0, #T_08e8a_row5_col1, #T_08e8a_row5_col2, #T_08e8a_row5_col3, #T_08e8a_row5_col4, #T_08e8a_row5_col5, #T_08e8a_row5_col6, #T_08e8a_row5_col7, #T_08e8a_row5_col8, #T_08e8a_row5_col9 {\n",
       "  text-align: left;\n",
       "}\n",
       "</style>\n",
       "<table id=\"T_08e8a_\">\n",
       "  <thead>\n",
       "    <tr>\n",
       "      <th class=\"blank level0\" >&nbsp;</th>\n",
       "      <th class=\"col_heading level0 col0\" >Date</th>\n",
       "      <th class=\"col_heading level0 col1\" >Title (Newspaper)</th>\n",
       "      <th class=\"col_heading level0 col2\" >Location</th>\n",
       "      <th class=\"col_heading level0 col3\" >Country</th>\n",
       "      <th class=\"col_heading level0 col4\" >Search term</th>\n",
       "      <th class=\"col_heading level0 col5\" >Text</th>\n",
       "      <th class=\"col_heading level0 col6\" >Language</th>\n",
       "      <th class=\"col_heading level0 col7\" >“English Translation = GoogleTranslate(E*;“auto“;“en“)</th>\n",
       "      <th class=\"col_heading level0 col8\" >Corpus</th>\n",
       "      <th class=\"col_heading level0 col9\" >Link</th>\n",
       "    </tr>\n",
       "  </thead>\n",
       "  <tbody>\n",
       "    <tr>\n",
       "      <th id=\"T_08e8a_level0_row0\" class=\"row_heading level0 row0\" >0</th>\n",
       "      <td id=\"T_08e8a_row0_col0\" class=\"data row0 col0\" >02-16-1898</td>\n",
       "      <td id=\"T_08e8a_row0_col1\" class=\"data row0 col1\" >Berliner Tageblatt</td>\n",
       "      <td id=\"T_08e8a_row0_col2\" class=\"data row0 col2\" >Berlin</td>\n",
       "      <td id=\"T_08e8a_row0_col3\" class=\"data row0 col3\" >Germany</td>\n",
       "      <td id=\"T_08e8a_row0_col4\" class=\"data row0 col4\" >USS Maine</td>\n",
       "      <td id=\"T_08e8a_row0_col5\" class=\"data row0 col5\" >“Die Nachricht von einer schre «rplofion an eines amerikanischen Kriegsschiffes meldet ein Telegramm a»…“</td>\n",
       "      <td id=\"T_08e8a_row0_col6\" class=\"data row0 col6\" > German</td>\n",
       "      <td id=\"T_08e8a_row0_col7\" class=\"data row0 col7\" > “The news of a Schre “rplofion on an American warship reports a telegram a“…“ </td>\n",
       "      <td id=\"T_08e8a_row0_col8\" class=\"data row0 col8\" > Staatsbibliothek zu Berlin </td>\n",
       "      <td id=\"T_08e8a_row0_col9\" class=\"data row0 col9\" > http://www.theeuropeanlibrary.org/tel4/newspapers/issue/3000098461619hp=4&count=10&page=4&query=USS+Maine&decade=1890-1899&month=2</td>\n",
       "    </tr>\n",
       "    <tr>\n",
       "      <th id=\"T_08e8a_level0_row1\" class=\"row_heading level0 row1\" >1</th>\n",
       "      <td id=\"T_08e8a_row1_col0\" class=\"data row1 col0\" >02-16-1898</td>\n",
       "      <td id=\"T_08e8a_row1_col1\" class=\"data row1 col1\" >The Sun</td>\n",
       "      <td id=\"T_08e8a_row1_col2\" class=\"data row1 col2\" >New York NY</td>\n",
       "      <td id=\"T_08e8a_row1_col3\" class=\"data row1 col3\" >USA</td>\n",
       "      <td id=\"T_08e8a_row1_col4\" class=\"data row1 col4\" >Maine</td>\n",
       "      <td id=\"T_08e8a_row1_col5\" class=\"data row1 col5\" >“Till MAINE BLOWN UP. Our Warship Wreoked in Havana Harbor. ONE HUNDRED MEN KILLED…“</td>\n",
       "      <td id=\"T_08e8a_row1_col6\" class=\"data row1 col6\" >English</td>\n",
       "      <td id=\"T_08e8a_row1_col7\" class=\"data row1 col7\" >“Till MAINE BLOWN UP. Our Warship Wreoked in Havana Harbor. ONE HUNDRED MEN KILLED…“</td>\n",
       "      <td id=\"T_08e8a_row1_col8\" class=\"data row1 col8\" >Chronicling America</td>\n",
       "      <td id=\"T_08e8a_row1_col9\" class=\"data row1 col9\" >https://chroniclingamerica.loc.gov/lccn/sn83030272/1898-02-16/ed-1/seq-1/ocr.txt</td>\n",
       "    </tr>\n",
       "    <tr>\n",
       "      <th id=\"T_08e8a_level0_row2\" class=\"row_heading level0 row2\" >2</th>\n",
       "      <td id=\"T_08e8a_row2_col0\" class=\"data row2 col0\" >02-16-1898</td>\n",
       "      <td id=\"T_08e8a_row2_col1\" class=\"data row2 col1\" >El Correo militar</td>\n",
       "      <td id=\"T_08e8a_row2_col2\" class=\"data row2 col2\" >Madrid</td>\n",
       "      <td id=\"T_08e8a_row2_col3\" class=\"data row2 col3\" >Spain</td>\n",
       "      <td id=\"T_08e8a_row2_col4\" class=\"data row2 col4\" >maine</td>\n",
       "      <td id=\"T_08e8a_row2_col5\" class=\"data row2 col5\" >“En el puerto de la Habana. La voladura del Maine. Rumores…“</td>\n",
       "      <td id=\"T_08e8a_row2_col6\" class=\"data row2 col6\" >Spanish</td>\n",
       "      <td id=\"T_08e8a_row2_col7\" class=\"data row2 col7\" >“In the port of Havana. Blowing up the Maine. Rumors…“</td>\n",
       "      <td id=\"T_08e8a_row2_col8\" class=\"data row2 col8\" >Hemeroteca Digital. Biblioteca Nacional de España</td>\n",
       "      <td id=\"T_08e8a_row2_col9\" class=\"data row2 col9\" >Página 101 de los resultados. https://bit.ly/2GZ3kKM</td>\n",
       "    </tr>\n",
       "    <tr>\n",
       "      <th id=\"T_08e8a_level0_row3\" class=\"row_heading level0 row3\" >3</th>\n",
       "      <td id=\"T_08e8a_row3_col0\" class=\"data row3 col0\" >02-17-1898</td>\n",
       "      <td id=\"T_08e8a_row3_col1\" class=\"data row3 col1\" >El Imparcial</td>\n",
       "      <td id=\"T_08e8a_row3_col2\" class=\"data row3 col2\" >Ciudad de México</td>\n",
       "      <td id=\"T_08e8a_row3_col3\" class=\"data row3 col3\" >Mexico</td>\n",
       "      <td id=\"T_08e8a_row3_col4\" class=\"data row3 col4\" >Maine</td>\n",
       "      <td id=\"T_08e8a_row3_col5\" class=\"data row3 col5\" >“La explosión del “Maine“ 252 MUERTOS se ignora la causa…“</td>\n",
       "      <td id=\"T_08e8a_row3_col6\" class=\"data row3 col6\" >Spanish</td>\n",
       "      <td id=\"T_08e8a_row3_col7\" class=\"data row3 col7\" >“The explosion of the “Maine“ 252 DEAD the cause is unknown…“</td>\n",
       "      <td id=\"T_08e8a_row3_col8\" class=\"data row3 col8\" >Hemeroteca Nacional Digital de México</td>\n",
       "      <td id=\"T_08e8a_row3_col9\" class=\"data row3 col9\" >https://goo.gl/rsQDdB</td>\n",
       "    </tr>\n",
       "    <tr>\n",
       "      <th id=\"T_08e8a_level0_row4\" class=\"row_heading level0 row4\" >4</th>\n",
       "      <td id=\"T_08e8a_row4_col0\" class=\"data row4 col0\" >02-17-1898</td>\n",
       "      <td id=\"T_08e8a_row4_col1\" class=\"data row4 col1\" >Daily News</td>\n",
       "      <td id=\"T_08e8a_row4_col2\" class=\"data row4 col2\" >London</td>\n",
       "      <td id=\"T_08e8a_row4_col3\" class=\"data row4 col3\" >Great Britain</td>\n",
       "      <td id=\"T_08e8a_row4_col4\" class=\"data row4 col4\" >Maine</td>\n",
       "      <td id=\"T_08e8a_row4_col5\" class=\"data row4 col5\" >“A Ctholic I University. Tam debate in Athe House of Mm mons yesterday oa Mr. Dialon's amendmsent…“</td>\n",
       "      <td id=\"T_08e8a_row4_col6\" class=\"data row4 col6\" >English</td>\n",
       "      <td id=\"T_08e8a_row4_col7\" class=\"data row4 col7\" >“A Ctholic I University. Tam debate in Athe House of Mm mons yesterday oa Mr. Dialon's amendmsent…“</td>\n",
       "      <td id=\"T_08e8a_row4_col8\" class=\"data row4 col8\" >Gale Nineteenth Century British Newspapers</td>\n",
       "      <td id=\"T_08e8a_row4_col9\" class=\"data row4 col9\" ></td>\n",
       "    </tr>\n",
       "    <tr>\n",
       "      <th id=\"T_08e8a_level0_row5\" class=\"row_heading level0 row5\" >5</th>\n",
       "      <td id=\"T_08e8a_row5_col0\" class=\"data row5 col0\" >02-17-1898</td>\n",
       "      <td id=\"T_08e8a_row5_col1\" class=\"data row5 col1\" >De Locomotief</td>\n",
       "      <td id=\"T_08e8a_row5_col2\" class=\"data row5 col2\" >Amsterdam</td>\n",
       "      <td id=\"T_08e8a_row5_col3\" class=\"data row5 col3\" >Netherlands</td>\n",
       "      <td id=\"T_08e8a_row5_col4\" class=\"data row5 col4\" >USS Maine</td>\n",
       "      <td id=\"T_08e8a_row5_col5\" class=\"data row5 col5\" >“Spanje en de Vereenigde Staten. De Regeering van de Vereenigde Staten beeft aan die van Spanje ver zocht…“</td>\n",
       "      <td id=\"T_08e8a_row5_col6\" class=\"data row5 col6\" >Dutch</td>\n",
       "      <td id=\"T_08e8a_row5_col7\" class=\"data row5 col7\" >“Spain and the United States. The Government of the United States shakes that of Spain far sought…“</td>\n",
       "      <td id=\"T_08e8a_row5_col8\" class=\"data row5 col8\" >Koniklijke Bibliotheek</td>\n",
       "      <td id=\"T_08e8a_row5_col9\" class=\"data row5 col9\" >http://www.theeuropeanlibrary.org/tel4/newspapers/issue/3000113019623?hp=3&count=10&page=3&query=USS+Maine&decade=1890-1899&month=2&year=1898&day=17&y=1098.0&x=2739.0</td>\n",
       "    </tr>\n",
       "  </tbody>\n",
       "</table>\n"
      ],
      "text/plain": [
       "<pandas.io.formats.style.Styler at 0x7f782871e550>"
      ]
     },
     "metadata": {
      "jdh": {
       "object": {
        "source": [
         "Working Corpus The Explosion of the USS *Maine*, February 16-23, 1898 (excerpt).",
         "https://docs.google.com/spreadsheets/d/17bIAqzZ42bUsQq3Y_z-XtAQIBPFgqzE9U4vpjWiVRNs/edit?usp=sharing"
        ]
       }
      }
     },
     "output_type": "display_data"
    }
   ],
   "source": [
    "import pandas as pd\n",
    "\n",
    "\n",
    "df_table1 = pd.read_csv(\"https://raw.githubusercontent.com/mpriewe/repo_article_maine/main/script/corpus.csv\", na_filter=False)\n",
    "caption_content_1 = 'table 1: Working Corpus \"The Explosion of the USS *Maine*, February 16-23, 1898\" (excerpt). https://docs.google.com/spreadsheets/d/17bIAqzZ42bUsQq3Y_z-XtAQIBPFgqzE9U4vpjWiVRNs/edit?usp=sharing'\n",
    "#df_table1\n",
    "\n",
    "\n",
    "display(df_table1.style.set_properties(**{'text-align': 'left'}), metadata={ \"jdh\":{\"object\":{\"source\":[ \"Working Corpus The Explosion of the USS *Maine*, February 16-23, 1898 (excerpt).\",\"https://docs.google.com/spreadsheets/d/17bIAqzZ42bUsQq3Y_z-XtAQIBPFgqzE9U4vpjWiVRNs/edit?usp=sharing\" ]}}})\n",
    "\n"
   ]
  },
  {
   "cell_type": "markdown",
   "id": "ef1acaa9",
   "metadata": {
    "tags": [
     "hermeneutics"
    ]
   },
   "source": [
    "As shown in figure 1, 67.8% of articles during the explosion's first week of reporting came from the United States, 11.1% from Spain, and the remaining 22.6% from the rest of the countries. The imbalance in news coverage can be explained by the relevance of the news to the main actors in the conflict–the United States and Spain–and by the higher number of newspapers published and circulated in the United States at the time. This also implies that the results must be understood within this context of over-representation and frequency of reporting, rather than merely by total numbers."
   ]
  },
  {
   "cell_type": "code",
   "execution_count": 12,
   "id": "4d87d3b6",
   "metadata": {
    "caption": "Piechart",
    "tags": [
     "hermeneutics",
     "figure-1"
    ],
    "widefigure": true
   },
   "outputs": [
    {
     "data": {
      "text/html": [
       "<div>                            <div id=\"6cbfdad6-039e-4004-835c-934515ae6941\" class=\"plotly-graph-div\" style=\"height:525px; width:100%;\"></div>            <script type=\"text/javascript\">                require([\"plotly\"], function(Plotly) {                    window.PLOTLYENV=window.PLOTLYENV || {};                                    if (document.getElementById(\"6cbfdad6-039e-4004-835c-934515ae6941\")) {                    Plotly.newPlot(                        \"6cbfdad6-039e-4004-835c-934515ae6941\",                        [{\"domain\":{\"x\":[0.0,1.0],\"y\":[0.0,1.0]},\"hovertemplate\":\"Country=%{label}<br>No. of newstories=%{value}<extra></extra>\",\"labels\":[\"Spain\",\"USA\",\"Germany\",\"Mexico\",\"Finland\",\"UK\",\"Netherlands\"],\"legendgroup\":\"\",\"name\":\"\",\"showlegend\":true,\"values\":[179,1092,52,79,74,68,66],\"type\":\"pie\",\"textinfo\":\"percent+label\",\"textposition\":\"inside\"}],                        {\"template\":{\"data\":{\"histogram2dcontour\":[{\"type\":\"histogram2dcontour\",\"colorbar\":{\"outlinewidth\":0,\"ticks\":\"\"},\"colorscale\":[[0.0,\"#0d0887\"],[0.1111111111111111,\"#46039f\"],[0.2222222222222222,\"#7201a8\"],[0.3333333333333333,\"#9c179e\"],[0.4444444444444444,\"#bd3786\"],[0.5555555555555556,\"#d8576b\"],[0.6666666666666666,\"#ed7953\"],[0.7777777777777778,\"#fb9f3a\"],[0.8888888888888888,\"#fdca26\"],[1.0,\"#f0f921\"]]}],\"choropleth\":[{\"type\":\"choropleth\",\"colorbar\":{\"outlinewidth\":0,\"ticks\":\"\"}}],\"histogram2d\":[{\"type\":\"histogram2d\",\"colorbar\":{\"outlinewidth\":0,\"ticks\":\"\"},\"colorscale\":[[0.0,\"#0d0887\"],[0.1111111111111111,\"#46039f\"],[0.2222222222222222,\"#7201a8\"],[0.3333333333333333,\"#9c179e\"],[0.4444444444444444,\"#bd3786\"],[0.5555555555555556,\"#d8576b\"],[0.6666666666666666,\"#ed7953\"],[0.7777777777777778,\"#fb9f3a\"],[0.8888888888888888,\"#fdca26\"],[1.0,\"#f0f921\"]]}],\"heatmap\":[{\"type\":\"heatmap\",\"colorbar\":{\"outlinewidth\":0,\"ticks\":\"\"},\"colorscale\":[[0.0,\"#0d0887\"],[0.1111111111111111,\"#46039f\"],[0.2222222222222222,\"#7201a8\"],[0.3333333333333333,\"#9c179e\"],[0.4444444444444444,\"#bd3786\"],[0.5555555555555556,\"#d8576b\"],[0.6666666666666666,\"#ed7953\"],[0.7777777777777778,\"#fb9f3a\"],[0.8888888888888888,\"#fdca26\"],[1.0,\"#f0f921\"]]}],\"heatmapgl\":[{\"type\":\"heatmapgl\",\"colorbar\":{\"outlinewidth\":0,\"ticks\":\"\"},\"colorscale\":[[0.0,\"#0d0887\"],[0.1111111111111111,\"#46039f\"],[0.2222222222222222,\"#7201a8\"],[0.3333333333333333,\"#9c179e\"],[0.4444444444444444,\"#bd3786\"],[0.5555555555555556,\"#d8576b\"],[0.6666666666666666,\"#ed7953\"],[0.7777777777777778,\"#fb9f3a\"],[0.8888888888888888,\"#fdca26\"],[1.0,\"#f0f921\"]]}],\"contourcarpet\":[{\"type\":\"contourcarpet\",\"colorbar\":{\"outlinewidth\":0,\"ticks\":\"\"}}],\"contour\":[{\"type\":\"contour\",\"colorbar\":{\"outlinewidth\":0,\"ticks\":\"\"},\"colorscale\":[[0.0,\"#0d0887\"],[0.1111111111111111,\"#46039f\"],[0.2222222222222222,\"#7201a8\"],[0.3333333333333333,\"#9c179e\"],[0.4444444444444444,\"#bd3786\"],[0.5555555555555556,\"#d8576b\"],[0.6666666666666666,\"#ed7953\"],[0.7777777777777778,\"#fb9f3a\"],[0.8888888888888888,\"#fdca26\"],[1.0,\"#f0f921\"]]}],\"surface\":[{\"type\":\"surface\",\"colorbar\":{\"outlinewidth\":0,\"ticks\":\"\"},\"colorscale\":[[0.0,\"#0d0887\"],[0.1111111111111111,\"#46039f\"],[0.2222222222222222,\"#7201a8\"],[0.3333333333333333,\"#9c179e\"],[0.4444444444444444,\"#bd3786\"],[0.5555555555555556,\"#d8576b\"],[0.6666666666666666,\"#ed7953\"],[0.7777777777777778,\"#fb9f3a\"],[0.8888888888888888,\"#fdca26\"],[1.0,\"#f0f921\"]]}],\"mesh3d\":[{\"type\":\"mesh3d\",\"colorbar\":{\"outlinewidth\":0,\"ticks\":\"\"}}],\"scatter\":[{\"fillpattern\":{\"fillmode\":\"overlay\",\"size\":10,\"solidity\":0.2},\"type\":\"scatter\"}],\"parcoords\":[{\"type\":\"parcoords\",\"line\":{\"colorbar\":{\"outlinewidth\":0,\"ticks\":\"\"}}}],\"scatterpolargl\":[{\"type\":\"scatterpolargl\",\"marker\":{\"colorbar\":{\"outlinewidth\":0,\"ticks\":\"\"}}}],\"bar\":[{\"error_x\":{\"color\":\"#2a3f5f\"},\"error_y\":{\"color\":\"#2a3f5f\"},\"marker\":{\"line\":{\"color\":\"#E5ECF6\",\"width\":0.5},\"pattern\":{\"fillmode\":\"overlay\",\"size\":10,\"solidity\":0.2}},\"type\":\"bar\"}],\"scattergeo\":[{\"type\":\"scattergeo\",\"marker\":{\"colorbar\":{\"outlinewidth\":0,\"ticks\":\"\"}}}],\"scatterpolar\":[{\"type\":\"scatterpolar\",\"marker\":{\"colorbar\":{\"outlinewidth\":0,\"ticks\":\"\"}}}],\"histogram\":[{\"marker\":{\"pattern\":{\"fillmode\":\"overlay\",\"size\":10,\"solidity\":0.2}},\"type\":\"histogram\"}],\"scattergl\":[{\"type\":\"scattergl\",\"marker\":{\"colorbar\":{\"outlinewidth\":0,\"ticks\":\"\"}}}],\"scatter3d\":[{\"type\":\"scatter3d\",\"line\":{\"colorbar\":{\"outlinewidth\":0,\"ticks\":\"\"}},\"marker\":{\"colorbar\":{\"outlinewidth\":0,\"ticks\":\"\"}}}],\"scattermapbox\":[{\"type\":\"scattermapbox\",\"marker\":{\"colorbar\":{\"outlinewidth\":0,\"ticks\":\"\"}}}],\"scatterternary\":[{\"type\":\"scatterternary\",\"marker\":{\"colorbar\":{\"outlinewidth\":0,\"ticks\":\"\"}}}],\"scattercarpet\":[{\"type\":\"scattercarpet\",\"marker\":{\"colorbar\":{\"outlinewidth\":0,\"ticks\":\"\"}}}],\"carpet\":[{\"aaxis\":{\"endlinecolor\":\"#2a3f5f\",\"gridcolor\":\"white\",\"linecolor\":\"white\",\"minorgridcolor\":\"white\",\"startlinecolor\":\"#2a3f5f\"},\"baxis\":{\"endlinecolor\":\"#2a3f5f\",\"gridcolor\":\"white\",\"linecolor\":\"white\",\"minorgridcolor\":\"white\",\"startlinecolor\":\"#2a3f5f\"},\"type\":\"carpet\"}],\"table\":[{\"cells\":{\"fill\":{\"color\":\"#EBF0F8\"},\"line\":{\"color\":\"white\"}},\"header\":{\"fill\":{\"color\":\"#C8D4E3\"},\"line\":{\"color\":\"white\"}},\"type\":\"table\"}],\"barpolar\":[{\"marker\":{\"line\":{\"color\":\"#E5ECF6\",\"width\":0.5},\"pattern\":{\"fillmode\":\"overlay\",\"size\":10,\"solidity\":0.2}},\"type\":\"barpolar\"}],\"pie\":[{\"automargin\":true,\"type\":\"pie\"}]},\"layout\":{\"autotypenumbers\":\"strict\",\"colorway\":[\"#636efa\",\"#EF553B\",\"#00cc96\",\"#ab63fa\",\"#FFA15A\",\"#19d3f3\",\"#FF6692\",\"#B6E880\",\"#FF97FF\",\"#FECB52\"],\"font\":{\"color\":\"#2a3f5f\"},\"hovermode\":\"closest\",\"hoverlabel\":{\"align\":\"left\"},\"paper_bgcolor\":\"white\",\"plot_bgcolor\":\"#E5ECF6\",\"polar\":{\"bgcolor\":\"#E5ECF6\",\"angularaxis\":{\"gridcolor\":\"white\",\"linecolor\":\"white\",\"ticks\":\"\"},\"radialaxis\":{\"gridcolor\":\"white\",\"linecolor\":\"white\",\"ticks\":\"\"}},\"ternary\":{\"bgcolor\":\"#E5ECF6\",\"aaxis\":{\"gridcolor\":\"white\",\"linecolor\":\"white\",\"ticks\":\"\"},\"baxis\":{\"gridcolor\":\"white\",\"linecolor\":\"white\",\"ticks\":\"\"},\"caxis\":{\"gridcolor\":\"white\",\"linecolor\":\"white\",\"ticks\":\"\"}},\"coloraxis\":{\"colorbar\":{\"outlinewidth\":0,\"ticks\":\"\"}},\"colorscale\":{\"sequential\":[[0.0,\"#0d0887\"],[0.1111111111111111,\"#46039f\"],[0.2222222222222222,\"#7201a8\"],[0.3333333333333333,\"#9c179e\"],[0.4444444444444444,\"#bd3786\"],[0.5555555555555556,\"#d8576b\"],[0.6666666666666666,\"#ed7953\"],[0.7777777777777778,\"#fb9f3a\"],[0.8888888888888888,\"#fdca26\"],[1.0,\"#f0f921\"]],\"sequentialminus\":[[0.0,\"#0d0887\"],[0.1111111111111111,\"#46039f\"],[0.2222222222222222,\"#7201a8\"],[0.3333333333333333,\"#9c179e\"],[0.4444444444444444,\"#bd3786\"],[0.5555555555555556,\"#d8576b\"],[0.6666666666666666,\"#ed7953\"],[0.7777777777777778,\"#fb9f3a\"],[0.8888888888888888,\"#fdca26\"],[1.0,\"#f0f921\"]],\"diverging\":[[0,\"#8e0152\"],[0.1,\"#c51b7d\"],[0.2,\"#de77ae\"],[0.3,\"#f1b6da\"],[0.4,\"#fde0ef\"],[0.5,\"#f7f7f7\"],[0.6,\"#e6f5d0\"],[0.7,\"#b8e186\"],[0.8,\"#7fbc41\"],[0.9,\"#4d9221\"],[1,\"#276419\"]]},\"xaxis\":{\"gridcolor\":\"white\",\"linecolor\":\"white\",\"ticks\":\"\",\"title\":{\"standoff\":15},\"zerolinecolor\":\"white\",\"automargin\":true,\"zerolinewidth\":2},\"yaxis\":{\"gridcolor\":\"white\",\"linecolor\":\"white\",\"ticks\":\"\",\"title\":{\"standoff\":15},\"zerolinecolor\":\"white\",\"automargin\":true,\"zerolinewidth\":2},\"scene\":{\"xaxis\":{\"backgroundcolor\":\"#E5ECF6\",\"gridcolor\":\"white\",\"linecolor\":\"white\",\"showbackground\":true,\"ticks\":\"\",\"zerolinecolor\":\"white\",\"gridwidth\":2},\"yaxis\":{\"backgroundcolor\":\"#E5ECF6\",\"gridcolor\":\"white\",\"linecolor\":\"white\",\"showbackground\":true,\"ticks\":\"\",\"zerolinecolor\":\"white\",\"gridwidth\":2},\"zaxis\":{\"backgroundcolor\":\"#E5ECF6\",\"gridcolor\":\"white\",\"linecolor\":\"white\",\"showbackground\":true,\"ticks\":\"\",\"zerolinecolor\":\"white\",\"gridwidth\":2}},\"shapedefaults\":{\"line\":{\"color\":\"#2a3f5f\"}},\"annotationdefaults\":{\"arrowcolor\":\"#2a3f5f\",\"arrowhead\":0,\"arrowwidth\":1},\"geo\":{\"bgcolor\":\"white\",\"landcolor\":\"#E5ECF6\",\"subunitcolor\":\"white\",\"showland\":true,\"showlakes\":true,\"lakecolor\":\"white\"},\"title\":{\"x\":0.05},\"mapbox\":{\"style\":\"light\"}}},\"legend\":{\"tracegroupgap\":0},\"title\":{\"text\":\"Distribution of news reports on the Maine explosion by country\"}},                        {\"responsive\": true}                    ).then(function(){\n",
       "                            \n",
       "var gd = document.getElementById('6cbfdad6-039e-4004-835c-934515ae6941');\n",
       "var x = new MutationObserver(function (mutations, observer) {{\n",
       "        var display = window.getComputedStyle(gd).display;\n",
       "        if (!display || display === 'none') {{\n",
       "            console.log([gd, 'removed!']);\n",
       "            Plotly.purge(gd);\n",
       "            observer.disconnect();\n",
       "        }}\n",
       "}});\n",
       "\n",
       "// Listen for the removal of the full notebook cells\n",
       "var notebookContainer = gd.closest('#notebook-container');\n",
       "if (notebookContainer) {{\n",
       "    x.observe(notebookContainer, {childList: true});\n",
       "}}\n",
       "\n",
       "// Listen for the clearing of the current output cell\n",
       "var outputEl = gd.closest('.output');\n",
       "if (outputEl) {{\n",
       "    x.observe(outputEl, {childList: true});\n",
       "}}\n",
       "\n",
       "                        })                };                });            </script>        </div>"
      ]
     },
     "metadata": {},
     "output_type": "display_data"
    }
   ],
   "source": [
    "\n",
    "import pandas as pd\n",
    "import plotly.express as px\n",
    "\n",
    "df = pd.read_csv(\"https://raw.githubusercontent.com/mpriewe/repo_article_maine/main/script/Figure%202.csv\")\n",
    "metadata={\n",
    "    \"jdh\":{\n",
    "        \"module\": \"object\",\n",
    "        \"object\": {\n",
    "          \"type\": \"image\",\n",
    "           \"source\": [\n",
    "            \"figure 1: Distribution of news reports on the Maine explosion by country\"\n",
    "\n",
    "          ]\n",
    "        }\n",
    "    }\n",
    "}\n",
    "fig = px.pie(df, names = \"Country\",\n",
    "             values =\"No. of newstories\",\n",
    "             title='Distribution of news reports on the Maine explosion by country',\n",
    "             labels = {\"names\" :[\"Spain\",\"USA\",\"Germany\",\"Mexico\",\"Finland\",\"UK\",\"Netherlands\"]})\n",
    "fig.update_traces(textposition='inside', textinfo='percent+label')\n",
    "fig.show()\n",
    "\n",
    "\n"
   ]
  },
  {
   "cell_type": "markdown",
   "id": "07f98877",
   "metadata": {
    "tags": [
     "hermeneutics"
    ]
   },
   "source": [
    "When it comes to the reliability of the data, perhaps the most relevant aspect of our corpus is the difference in the quality of the OCR that we obtained from each national collection, which directly affects the analysis process (<cite data-cite=\"6095605/EV79DXBF\"></cite>). As libraries and archives often follow different digitization processes, the final quality of the data varies. Differences in scanning practices, the software used, the quality of the originals, and the editorial decisions over how to present the scanned newspapers as images and texts determine what users see as a digital copy of an old newspaper on their computer screen. This was significant for our study because of the differences in OCR quality, especially between the U.S. and Spanish newspaper data. The library cleaned the latter, meaning that the automatically extracted OCR was not used but instead underwent a subsequent improvement process to make it accessible to human eyes and machine-readable simultaneously. The data from the United States (and Great Britain) did not undergo this clean-up; hence, users only have access to the data resulting from the automatic extraction, which includes everything on the printed page, without separating news stories and columns or automatic OCR correction. The quality of the newspaper data provided by other national archives varies between these two poles. We had not foreseen such a lack of uniformity in the data made available by the archives and the subsequent  problems posed by the diverging quality of the OCR of the most substantial part of our corpus, the collection of newspapers from the United States. In order to carry out our analysis, we decided to reduce the \"noise\" of the U.S. data through an automatic process that mainly eliminated most of the information contained in the OCR that did not correspond to the explosion of the *Maine*. The second decision was to refrain from a manual clean-up of the data and, instead, to keep the remaining files \"raw,\" accepting that the data disparity reflects the complex digitization decisions and processes in each country. Overall, the cleaning activities by institutions and our research led to a usable corpus of articles, with an OCR quality of \"approximately 60-85%\" (<cite data-cite=\"6095605/T34HBCBC\"></cite> 7).\n",
    "\n"
   ]
  },
  {
   "cell_type": "markdown",
   "id": "56f8e3ab",
   "metadata": {
    "tags": [
     "hermeneutics"
    ]
   },
   "source": [
    "In order to understand the attitudes towards the sinking of the *Maine* conveyed in international newspapers in February of 1898, we combined our reading reports of selected articles with information from secondary literature and with interpretation drawn from a computational analysis that used text mining and topic-based annotations. It quickly became apparent that the discussions in the international press centered primarily around the cause of the ship's sinking: Was it an internal accident or a deliberate attempt? During the time frame chosen for our study (02/16-02/23/1898), newspapers worldwide began to speculate about the cause of the explosion, citing or paraphrasing the opinions of experts, politicians, members of the military, and other newspapers. Whenever an article leaned toward spontaneous combustion in the ship's coal bunkers as an explanation, it implied an opinion that the explosion was the result of an accident (and thus the fault of the U.S.), and conversely, whenever an article leaned toward a torpedo's explosion being the explanation, it implied an opinion that the explosion was the result of an attack (and thus the fault of Spain). What was clear to virtually all observers at the time was that, if the United States were to blame Spain for the sinking, it would take this opportunity to begin a military intervention in Cuba. Hence, we also sought to understand how the media reported statements from specific actors involved in the aftermath of the sinking in order to study how newspapers attempted to sway public opinion in favor of the accident or deliberate explosion hypotheses. We hence selected \"opinion\" as a search term for our working corpus to identify the stances conveyed in the event. The search obtained 1,724 hits, and 200-character width window contexts were automatically extracted and divided by country of origin.  \n"
   ]
  },
  {
   "cell_type": "code",
   "execution_count": 2,
   "id": "867c3b92",
   "metadata": {
    "tags": [
     "hermeneutics",
     "figure-2"
    ]
   },
   "outputs": [
    {
     "data": {
      "image/png": "[encoded data removed]",
      "text/plain": [
       "<IPython.core.display.Image object>"
      ]
     },
     "metadata": {
      "jdh": {
       "module": "object",
       "object": {
        "source": [
         "Get Context"
        ],
        "type": "image"
       }
      }
     },
     "output_type": "display_data"
    }
   ],
   "source": [
    "from IPython.display import Image \n",
    "metadata={\n",
    "    \"jdh\": {\n",
    "        \"module\": \"object\",\n",
    "        \"object\": {\n",
    "            \"type\":\"image\",\n",
    "            \"source\": [\n",
    "                \"Get Context\"\n",
    "            ]\n",
    "        }\n",
    "    }\n",
    "}\n",
    "display(Image(\"media/Get context.png\"), metadata=metadata)"
   ]
  },
  {
   "cell_type": "markdown",
   "id": "101ac2cf",
   "metadata": {
    "tags": [
     "hermeneutics"
    ]
   },
   "source": [
    "From these, we identified seven categories of actors or speakers in the aftermath of the incident: Captain Sigsbee, the survivors of the *Maine*, experts on ships and explosions, journalists, politicians, military personnel other than the ship's crew, and unknown or unidentified speakers within the extracted contexts. Herman and Chomsky have pointed out in *Manufacturing Consent* that \"the mass media are drawn into a symbiotic relationship with powerful sources of information by economic necessity and reciprocity of interest\" as \"they cannot afford to have reporters at all places\" and \"taking information from sources that may be presumed credible reduces investigative expense\" (<cite data-cite=\"6095605/GUDUZYMP\"></cite> 18).This is also true for our case study in the press at the end of the nineteenth century. The reported voices followed the same pattern as in the modern media: official sources, highly reputable unofficial sources, and a body of experts that function as a filter for the news deemed fit to print. \t\t\n"
   ]
  },
  {
   "cell_type": "markdown",
   "id": "dab5524d",
   "metadata": {
    "tags": [
     "hermeneutics"
    ]
   },
   "source": [
    "Next, using analytical rather than descriptive manual annotations, we assigned the expressed opinions to a position on the sinking (i.e., we classified the meaning of the opinion as either promoting an accidental explosion, suggesting a deliberate attack, or calling for a suspension of all opinion until further investigations)."
   ]
  },
  {
   "cell_type": "code",
   "execution_count": 19,
   "id": "33dae015",
   "metadata": {
    "mpriewe": {
     "figure": {
      "caption": "figure 3: Finland",
      "label": "figure 3: Finland"
     }
    },
    "tags": [
     "hermeneutics",
     "table-2"
    ]
   },
   "outputs": [
    {
     "data": {
      "text/html": [
       "<style type=\"text/css\">\n",
       "#T_47877_row0_col0, #T_47877_row0_col1, #T_47877_row0_col2, #T_47877_row0_col3, #T_47877_row0_col4, #T_47877_row0_col5, #T_47877_row0_col6, #T_47877_row0_col7, #T_47877_row1_col0, #T_47877_row1_col1, #T_47877_row1_col2, #T_47877_row1_col3, #T_47877_row1_col4, #T_47877_row1_col5, #T_47877_row1_col6, #T_47877_row1_col7, #T_47877_row2_col0, #T_47877_row2_col1, #T_47877_row2_col2, #T_47877_row2_col3, #T_47877_row2_col4, #T_47877_row2_col5, #T_47877_row2_col6, #T_47877_row2_col7, #T_47877_row3_col0, #T_47877_row3_col1, #T_47877_row3_col2, #T_47877_row3_col3, #T_47877_row3_col4, #T_47877_row3_col5, #T_47877_row3_col6, #T_47877_row3_col7, #T_47877_row4_col0, #T_47877_row4_col1, #T_47877_row4_col2, #T_47877_row4_col3, #T_47877_row4_col4, #T_47877_row4_col5, #T_47877_row4_col6, #T_47877_row4_col7 {\n",
       "  text-align: left;\n",
       "}\n",
       "</style>\n",
       "<table id=\"T_47877_\">\n",
       "  <thead>\n",
       "    <tr>\n",
       "      <th class=\"blank level0\" >&nbsp;</th>\n",
       "      <th class=\"col_heading level0 col0\" >Unknown speaker</th>\n",
       "      <th class=\"col_heading level0 col1\" >Survivor</th>\n",
       "      <th class=\"col_heading level0 col2\" >Sigsbee</th>\n",
       "      <th class=\"col_heading level0 col3\" >Politicians</th>\n",
       "      <th class=\"col_heading level0 col4\" >Military personnel </th>\n",
       "      <th class=\"col_heading level0 col5\" >Journalists</th>\n",
       "      <th class=\"col_heading level0 col6\" >Experts</th>\n",
       "      <th class=\"col_heading level0 col7\" >16 context hits for \"public\" / \"opinion\"</th>\n",
       "    </tr>\n",
       "  </thead>\n",
       "  <tbody>\n",
       "    <tr>\n",
       "      <th id=\"T_47877_level0_row0\" class=\"row_heading level0 row0\" >0</th>\n",
       "      <td id=\"T_47877_row0_col0\" class=\"data row0 col0\" >Suspend Opinion</td>\n",
       "      <td id=\"T_47877_row0_col1\" class=\"data row0 col1\" ></td>\n",
       "      <td id=\"T_47877_row0_col2\" class=\"data row0 col2\" ></td>\n",
       "      <td id=\"T_47877_row0_col3\" class=\"data row0 col3\" ></td>\n",
       "      <td id=\"T_47877_row0_col4\" class=\"data row0 col4\" ></td>\n",
       "      <td id=\"T_47877_row0_col5\" class=\"data row0 col5\" ></td>\n",
       "      <td id=\"T_47877_row0_col6\" class=\"data row0 col6\" ></td>\n",
       "      <td id=\"T_47877_row0_col7\" class=\"data row0 col7\" >nded and the rest saved located on board a Spanish warship and an American steamer , the public opinion should defer its decision and await further notification . Several Spanish officers and represe</td>\n",
       "    </tr>\n",
       "    <tr>\n",
       "      <th id=\"T_47877_level0_row1\" class=\"row_heading level0 row1\" >1</th>\n",
       "      <td id=\"T_47877_row1_col0\" class=\"data row1 col0\" ></td>\n",
       "      <td id=\"T_47877_row1_col1\" class=\"data row1 col1\" ></td>\n",
       "      <td id=\"T_47877_row1_col2\" class=\"data row1 col2\" ></td>\n",
       "      <td id=\"T_47877_row1_col3\" class=\"data row1 col3\" ></td>\n",
       "      <td id=\"T_47877_row1_col4\" class=\"data row1 col4\" >Suspend Opinion</td>\n",
       "      <td id=\"T_47877_row1_col5\" class=\"data row1 col5\" ></td>\n",
       "      <td id=\"T_47877_row1_col6\" class=\"data row1 col6\" ></td>\n",
       "      <td id=\"T_47877_row1_col7\" class=\"data row1 col7\" >al Blanco are with me for me to express his participants enter. `` It cited the call for public opinion that has not yet pronounce its judgment in the matter seems to support our Londonmeddelares aut</td>\n",
       "    </tr>\n",
       "    <tr>\n",
       "      <th id=\"T_47877_level0_row2\" class=\"row_heading level0 row2\" >2</th>\n",
       "      <td id=\"T_47877_row2_col0\" class=\"data row2 col0\" ></td>\n",
       "      <td id=\"T_47877_row2_col1\" class=\"data row2 col1\" ></td>\n",
       "      <td id=\"T_47877_row2_col2\" class=\"data row2 col2\" ></td>\n",
       "      <td id=\"T_47877_row2_col3\" class=\"data row2 col3\" ></td>\n",
       "      <td id=\"T_47877_row2_col4\" class=\"data row2 col4\" ></td>\n",
       "      <td id=\"T_47877_row2_col5\" class=\"data row2 col5\" ></td>\n",
       "      <td id=\"T_47877_row2_col6\" class=\"data row2 col6\" >Accident</td>\n",
       "      <td id=\"T_47877_row2_col7\" class=\"data row2 col7\" >iven birth to meriministeriossa exceedingly surprise . Head of Dickens Sailing Office is of the opinion that the explosion occurred ship firearms in stock . Bring the fact that as soon as the ship su</td>\n",
       "    </tr>\n",
       "    <tr>\n",
       "      <th id=\"T_47877_level0_row3\" class=\"row_heading level0 row3\" >3</th>\n",
       "      <td id=\"T_47877_row3_col0\" class=\"data row3 col0\" ></td>\n",
       "      <td id=\"T_47877_row3_col1\" class=\"data row3 col1\" ></td>\n",
       "      <td id=\"T_47877_row3_col2\" class=\"data row3 col2\" ></td>\n",
       "      <td id=\"T_47877_row3_col3\" class=\"data row3 col3\" ></td>\n",
       "      <td id=\"T_47877_row3_col4\" class=\"data row3 col4\" ></td>\n",
       "      <td id=\"T_47877_row3_col5\" class=\"data row3 col5\" ></td>\n",
       "      <td id=\"T_47877_row3_col6\" class=\"data row3 col6\" >Attack</td>\n",
       "      <td id=\"T_47877_row3_col7\" class=\"data row3 col7\" >plosion occurred ship firearms in stock . Bring the fact that as soon as the ship sunk , in his opinion , to prove that it does explosion was caused by torpcedon . Maine Sigsbeen the captain announce</td>\n",
       "    </tr>\n",
       "    <tr>\n",
       "      <th id=\"T_47877_level0_row4\" class=\"row_heading level0 row4\" >4</th>\n",
       "      <td id=\"T_47877_row4_col0\" class=\"data row4 col0\" >Accident</td>\n",
       "      <td id=\"T_47877_row4_col1\" class=\"data row4 col1\" ></td>\n",
       "      <td id=\"T_47877_row4_col2\" class=\"data row4 col2\" ></td>\n",
       "      <td id=\"T_47877_row4_col3\" class=\"data row4 col3\" ></td>\n",
       "      <td id=\"T_47877_row4_col4\" class=\"data row4 col4\" ></td>\n",
       "      <td id=\"T_47877_row4_col5\" class=\"data row4 col5\" ></td>\n",
       "      <td id=\"T_47877_row4_col6\" class=\"data row4 col6\" ></td>\n",
       "      <td id=\"T_47877_row4_col7\" class=\"data row4 col7\" >explosion still completely shrouded in mystery . The tongifvande in America lean mostly to the opinion , that the accident caused the accident . Yet there is among them a great concern for the peopl</td>\n",
       "    </tr>\n",
       "  </tbody>\n",
       "</table>\n"
      ],
      "text/plain": [
       "<pandas.io.formats.style.Styler at 0x7f782c74d310>"
      ]
     },
     "metadata": {
      "jdh": {
       "object": {
        "source": [
         "Finland. https://docs.google.com/spreadsheets/d/17SD4yXDiN1OSc-WQcrp8seD9PlPTpTXh/edit?usp=sharing&ouid=117537917826352408873&rtpof=true&sd=true"
        ]
       }
      }
     },
     "output_type": "display_data"
    }
   ],
   "source": [
    "import pandas as pd\n",
    "\n",
    "df_table2 = pd.read_csv(\"https://raw.githubusercontent.com/mpriewe/repo_article_maine/main/script/Finland.csv\", na_filter=False)\n",
    "\n",
    "display(df_table2.head(5).style.set_properties(**{'text-align':'left'}), metadata={ \"jdh\":{\"object\":{\"source\":[ \"Finland. https://docs.google.com/spreadsheets/d/17SD4yXDiN1OSc-WQcrp8seD9PlPTpTXh/edit?usp=sharing&ouid=117537917826352408873&rtpof=true&sd=true\" ]}}})"
   ]
  },
  {
   "cell_type": "code",
   "execution_count": 5,
   "id": "b1d1cd3b",
   "metadata": {
    "tags": [
     "hermeneutics",
     "table-3"
    ]
   },
   "outputs": [
    {
     "data": {
      "text/html": [
       "<style type=\"text/css\">\n",
       "#T_54ac8_row0_col0, #T_54ac8_row0_col1, #T_54ac8_row0_col2, #T_54ac8_row0_col3, #T_54ac8_row0_col4, #T_54ac8_row0_col5, #T_54ac8_row0_col6, #T_54ac8_row0_col7, #T_54ac8_row1_col0, #T_54ac8_row1_col1, #T_54ac8_row1_col2, #T_54ac8_row1_col3, #T_54ac8_row1_col4, #T_54ac8_row1_col5, #T_54ac8_row1_col6, #T_54ac8_row1_col7, #T_54ac8_row2_col0, #T_54ac8_row2_col1, #T_54ac8_row2_col2, #T_54ac8_row2_col3, #T_54ac8_row2_col4, #T_54ac8_row2_col5, #T_54ac8_row2_col6, #T_54ac8_row2_col7, #T_54ac8_row3_col0, #T_54ac8_row3_col1, #T_54ac8_row3_col2, #T_54ac8_row3_col3, #T_54ac8_row3_col4, #T_54ac8_row3_col5, #T_54ac8_row3_col6, #T_54ac8_row3_col7 {\n",
       "  text-align: left;\n",
       "}\n",
       "</style>\n",
       "<table id=\"T_54ac8_\">\n",
       "  <thead>\n",
       "    <tr>\n",
       "      <th class=\"blank level0\" >&nbsp;</th>\n",
       "      <th class=\"col_heading level0 col0\" >Unknown speaker</th>\n",
       "      <th class=\"col_heading level0 col1\" >Survivor</th>\n",
       "      <th class=\"col_heading level0 col2\" >Sigsbee</th>\n",
       "      <th class=\"col_heading level0 col3\" >Politicians</th>\n",
       "      <th class=\"col_heading level0 col4\" >Military personnel </th>\n",
       "      <th class=\"col_heading level0 col5\" >Journalists</th>\n",
       "      <th class=\"col_heading level0 col6\" >Experts</th>\n",
       "      <th class=\"col_heading level0 col7\" >4 context hits for \"public\" / \"opinion\"</th>\n",
       "    </tr>\n",
       "  </thead>\n",
       "  <tbody>\n",
       "    <tr>\n",
       "      <th id=\"T_54ac8_level0_row0\" class=\"row_heading level0 row0\" >0</th>\n",
       "      <td id=\"T_54ac8_row0_col0\" class=\"data row0 col0\" ></td>\n",
       "      <td id=\"T_54ac8_row0_col1\" class=\"data row0 col1\" ></td>\n",
       "      <td id=\"T_54ac8_row0_col2\" class=\"data row0 col2\" ></td>\n",
       "      <td id=\"T_54ac8_row0_col3\" class=\"data row0 col3\" ></td>\n",
       "      <td id=\"T_54ac8_row0_col4\" class=\"data row0 col4\" ></td>\n",
       "      <td id=\"T_54ac8_row0_col5\" class=\"data row0 col5\" >Attack</td>\n",
       "      <td id=\"T_54ac8_row0_col6\" class=\"data row0 col6\" ></td>\n",
       "      <td id=\"T_54ac8_row0_col7\" class=\"data row0 col7\" >if some American trade journalists Cains-insinuate that it is due to a torpedo , add that this opinion is not shared 'pa r the majority of their colleagues . Those who argue that it is a malicious a</td>\n",
       "    </tr>\n",
       "    <tr>\n",
       "      <th id=\"T_54ac8_level0_row1\" class=\"row_heading level0 row1\" >1</th>\n",
       "      <td id=\"T_54ac8_row1_col0\" class=\"data row1 col0\" >Suspend Opinion</td>\n",
       "      <td id=\"T_54ac8_row1_col1\" class=\"data row1 col1\" ></td>\n",
       "      <td id=\"T_54ac8_row1_col2\" class=\"data row1 col2\" ></td>\n",
       "      <td id=\"T_54ac8_row1_col3\" class=\"data row1 col3\" ></td>\n",
       "      <td id=\"T_54ac8_row1_col4\" class=\"data row1 col4\" ></td>\n",
       "      <td id=\"T_54ac8_row1_col5\" class=\"data row1 col5\" ></td>\n",
       "      <td id=\"T_54ac8_row1_col6\" class=\"data row1 col6\" ></td>\n",
       "      <td id=\"T_54ac8_row1_col7\" class=\"data row1 col7\" >dge and an American steam . `` In the absence of circumstances constancis more information , the public should refrain from any judgment on the cause of the explosion . `` It is believed that all ofti</td>\n",
       "    </tr>\n",
       "    <tr>\n",
       "      <th id=\"T_54ac8_level0_row2\" class=\"row_heading level0 row2\" >2</th>\n",
       "      <td id=\"T_54ac8_row2_col0\" class=\"data row2 col0\" >Suspend Opinion</td>\n",
       "      <td id=\"T_54ac8_row2_col1\" class=\"data row2 col1\" ></td>\n",
       "      <td id=\"T_54ac8_row2_col2\" class=\"data row2 col2\" ></td>\n",
       "      <td id=\"T_54ac8_row2_col3\" class=\"data row2 col3\" ></td>\n",
       "      <td id=\"T_54ac8_row2_col4\" class=\"data row2 col4\" ></td>\n",
       "      <td id=\"T_54ac8_row2_col5\" class=\"data row2 col5\" ></td>\n",
       "      <td id=\"T_54ac8_row2_col6\" class=\"data row2 col6\" ></td>\n",
       "      <td id=\"T_54ac8_row2_col7\" class=\"data row2 col7\" >d a Spanish gunboat and an American steam . `` In the absence of more detailed information , the public should keep abstain from any judgment on the cause of the ex plosion . . . `` It is believed tha</td>\n",
       "    </tr>\n",
       "    <tr>\n",
       "      <th id=\"T_54ac8_level0_row3\" class=\"row_heading level0 row3\" >3</th>\n",
       "      <td id=\"T_54ac8_row3_col0\" class=\"data row3 col0\" >Suspend Opinion</td>\n",
       "      <td id=\"T_54ac8_row3_col1\" class=\"data row3 col1\" ></td>\n",
       "      <td id=\"T_54ac8_row3_col2\" class=\"data row3 col2\" ></td>\n",
       "      <td id=\"T_54ac8_row3_col3\" class=\"data row3 col3\" ></td>\n",
       "      <td id=\"T_54ac8_row3_col4\" class=\"data row3 col4\" ></td>\n",
       "      <td id=\"T_54ac8_row3_col5\" class=\"data row3 col5\" ></td>\n",
       "      <td id=\"T_54ac8_row3_col6\" class=\"data row3 col6\" ></td>\n",
       "      <td id=\"T_54ac8_row3_col7\" class=\"data row3 col7\" >a- pe ur American . - r. `` ; In the absence i : more circumstances Iconstanpisj information the public should refrain from any judgment sur.la 7 die because the explosion . ; - `` It is believed that</td>\n",
       "    </tr>\n",
       "  </tbody>\n",
       "</table>\n"
      ],
      "text/plain": [
       "<pandas.io.formats.style.Styler at 0x7f782df95350>"
      ]
     },
     "metadata": {
      "jdh": {
       "object": {
        "source": [
         "France. https://docs.google.com/spreadsheets/d/17SD4yXDiN1OSc-WQcrp8seD9PlPTpTXh/edit?usp=sharing&ouid=117537917826352408873&rtpof=true&sd=true"
        ]
       }
      }
     },
     "output_type": "display_data"
    }
   ],
   "source": [
    "import pandas as pd\n",
    "\n",
    "\n",
    "df_table3 = pd.read_csv(\"https://raw.githubusercontent.com/mpriewe/repo_article_maine/main/script/France.csv\", na_filter=False)\n",
    "\n",
    "display(df_table3.head(5).style.set_properties(**{'text-align':'left'}), metadata={\"jdh\":{\"object\":{\"source\": [\"France. https://docs.google.com/spreadsheets/d/17SD4yXDiN1OSc-WQcrp8seD9PlPTpTXh/edit?usp=sharing&ouid=117537917826352408873&rtpof=true&sd=true\"]}}})\n",
    "\n"
   ]
  },
  {
   "cell_type": "code",
   "execution_count": 20,
   "id": "eedd857d",
   "metadata": {
    "tags": [
     "hermeneutics",
     "table-4"
    ]
   },
   "outputs": [
    {
     "data": {
      "text/html": [
       "<style type=\"text/css\">\n",
       "#T_84d69_row0_col0, #T_84d69_row0_col1, #T_84d69_row0_col2, #T_84d69_row0_col3, #T_84d69_row0_col4, #T_84d69_row0_col5, #T_84d69_row0_col6, #T_84d69_row0_col7, #T_84d69_row1_col0, #T_84d69_row1_col1, #T_84d69_row1_col2, #T_84d69_row1_col3, #T_84d69_row1_col4, #T_84d69_row1_col5, #T_84d69_row1_col6, #T_84d69_row1_col7, #T_84d69_row2_col0, #T_84d69_row2_col1, #T_84d69_row2_col2, #T_84d69_row2_col3, #T_84d69_row2_col4, #T_84d69_row2_col5, #T_84d69_row2_col6, #T_84d69_row2_col7, #T_84d69_row3_col0, #T_84d69_row3_col1, #T_84d69_row3_col2, #T_84d69_row3_col3, #T_84d69_row3_col4, #T_84d69_row3_col5, #T_84d69_row3_col6, #T_84d69_row3_col7, #T_84d69_row4_col0, #T_84d69_row4_col1, #T_84d69_row4_col2, #T_84d69_row4_col3, #T_84d69_row4_col4, #T_84d69_row4_col5, #T_84d69_row4_col6, #T_84d69_row4_col7 {\n",
       "  text-align: left;\n",
       "}\n",
       "</style>\n",
       "<table id=\"T_84d69_\">\n",
       "  <thead>\n",
       "    <tr>\n",
       "      <th class=\"blank level0\" >&nbsp;</th>\n",
       "      <th class=\"col_heading level0 col0\" >Unknown speaker</th>\n",
       "      <th class=\"col_heading level0 col1\" >Survivor</th>\n",
       "      <th class=\"col_heading level0 col2\" >Sigsbee</th>\n",
       "      <th class=\"col_heading level0 col3\" >Politicians</th>\n",
       "      <th class=\"col_heading level0 col4\" >Military personnel </th>\n",
       "      <th class=\"col_heading level0 col5\" >Journalists</th>\n",
       "      <th class=\"col_heading level0 col6\" >Experts</th>\n",
       "      <th class=\"col_heading level0 col7\" >14 context hits for \"public\" / \"opinion\"</th>\n",
       "    </tr>\n",
       "  </thead>\n",
       "  <tbody>\n",
       "    <tr>\n",
       "      <th id=\"T_84d69_level0_row0\" class=\"row_heading level0 row0\" >0</th>\n",
       "      <td id=\"T_84d69_row0_col0\" class=\"data row0 col0\" ></td>\n",
       "      <td id=\"T_84d69_row0_col1\" class=\"data row0 col1\" ></td>\n",
       "      <td id=\"T_84d69_row0_col2\" class=\"data row0 col2\" ></td>\n",
       "      <td id=\"T_84d69_row0_col3\" class=\"data row0 col3\" >Accident</td>\n",
       "      <td id=\"T_84d69_row0_col4\" class=\"data row0 col4\" ></td>\n",
       "      <td id=\"T_84d69_row0_col5\" class=\"data row0 col5\" ></td>\n",
       "      <td id=\"T_84d69_row0_col6\" class=\"data row0 col6\" ></td>\n",
       "      <td id=\"T_84d69_row0_col7\" class=\"data row0 col7\" >ank formed `` M aine '' the HauptberathuugSgegenstand 'The President and the Kabiuet are of the opinion that the cause of the disastrous event a reiuer unfortunately random was , however , the presid</td>\n",
       "    </tr>\n",
       "    <tr>\n",
       "      <th id=\"T_84d69_level0_row1\" class=\"row_heading level0 row1\" >1</th>\n",
       "      <td id=\"T_84d69_row1_col0\" class=\"data row1 col0\" ></td>\n",
       "      <td id=\"T_84d69_row1_col1\" class=\"data row1 col1\" ></td>\n",
       "      <td id=\"T_84d69_row1_col2\" class=\"data row1 col2\" >Suspend Opinion</td>\n",
       "      <td id=\"T_84d69_row1_col3\" class=\"data row1 col3\" ></td>\n",
       "      <td id=\"T_84d69_row1_col4\" class=\"data row1 col4\" ></td>\n",
       "      <td id=\"T_84d69_row1_col5\" class=\"data row1 col5\" ></td>\n",
       "      <td id=\"T_84d69_row1_col6\" class=\"data row1 col6\" ></td>\n",
       "      <td id=\"T_84d69_row1_col7\" class=\"data row1 col7\" >d and the other rescued are on board a Spanish warship UUD of america American steamer . Public opinion must suspend their judgment and wait for another report . It died 236 men and two officers . Se</td>\n",
       "    </tr>\n",
       "    <tr>\n",
       "      <th id=\"T_84d69_level0_row2\" class=\"row_heading level0 row2\" >2</th>\n",
       "      <td id=\"T_84d69_row2_col0\" class=\"data row2 col0\" ></td>\n",
       "      <td id=\"T_84d69_row2_col1\" class=\"data row2 col1\" >Accident</td>\n",
       "      <td id=\"T_84d69_row2_col2\" class=\"data row2 col2\" ></td>\n",
       "      <td id=\"T_84d69_row2_col3\" class=\"data row2 col3\" ></td>\n",
       "      <td id=\"T_84d69_row2_col4\" class=\"data row2 col4\" ></td>\n",
       "      <td id=\"T_84d69_row2_col5\" class=\"data row2 col5\" ></td>\n",
       "      <td id=\"T_84d69_row2_col6\" class=\"data row2 col6\" ></td>\n",
       "      <td id=\"T_84d69_row2_col7\" class=\"data row2 col7\" >sh officers and representatives Blanco 's place for me to express me their sympathy . `` In the opinion of a sailor of the sunken cross the explosion is said to have in the used for the storage of gu</td>\n",
       "    </tr>\n",
       "    <tr>\n",
       "      <th id=\"T_84d69_level0_row3\" class=\"row_heading level0 row3\" >3</th>\n",
       "      <td id=\"T_84d69_row3_col0\" class=\"data row3 col0\" >Attack</td>\n",
       "      <td id=\"T_84d69_row3_col1\" class=\"data row3 col1\" ></td>\n",
       "      <td id=\"T_84d69_row3_col2\" class=\"data row3 col2\" ></td>\n",
       "      <td id=\"T_84d69_row3_col3\" class=\"data row3 col3\" ></td>\n",
       "      <td id=\"T_84d69_row3_col4\" class=\"data row3 col4\" ></td>\n",
       "      <td id=\"T_84d69_row3_col5\" class=\"data row3 col5\" ></td>\n",
       "      <td id=\"T_84d69_row3_col6\" class=\"data row3 col6\" ></td>\n",
       "      <td id=\"T_84d69_row3_col7\" class=\"data row3 col7\" >w court , spani MOORISH torpedo had caused the accident with malicious intent . Meanwhile , the opinion also surfaced , cubanifche insurgents would have to eompromittieren Spain , perpetrated the ter</td>\n",
       "    </tr>\n",
       "    <tr>\n",
       "      <th id=\"T_84d69_level0_row4\" class=\"row_heading level0 row4\" >4</th>\n",
       "      <td id=\"T_84d69_row4_col0\" class=\"data row4 col0\" ></td>\n",
       "      <td id=\"T_84d69_row4_col1\" class=\"data row4 col1\" ></td>\n",
       "      <td id=\"T_84d69_row4_col2\" class=\"data row4 col2\" >Suspend Opinion</td>\n",
       "      <td id=\"T_84d69_row4_col3\" class=\"data row4 col3\" ></td>\n",
       "      <td id=\"T_84d69_row4_col4\" class=\"data row4 col4\" ></td>\n",
       "      <td id=\"T_84d69_row4_col5\" class=\"data row4 col5\" ></td>\n",
       "      <td id=\"T_84d69_row4_col6\" class=\"data row4 col6\" ></td>\n",
       "      <td id=\"T_84d69_row4_col7\" class=\"data row4 col7\" >e wounded and the other rescued are on board a Spanish warship and an American steamer . public opinion must suspend their judgment and await further reports . It is believed that all the officers of</td>\n",
       "    </tr>\n",
       "  </tbody>\n",
       "</table>\n"
      ],
      "text/plain": [
       "<pandas.io.formats.style.Styler at 0x7f77fd12a510>"
      ]
     },
     "metadata": {
      "jdh": {
       "object": {
        "source": [
         "Germany. https://docs.google.com/spreadsheets/d/17SD4yXDiN1OSc-WQcrp8seD9PlPTpTXh/edit?usp=sharing&ouid=117537917826352408873&rtpof=true&sd=true"
        ]
       }
      }
     },
     "output_type": "display_data"
    }
   ],
   "source": [
    "import pandas as pd\n",
    "\n",
    "\n",
    "df_table4 = pd.read_csv(\"https://raw.githubusercontent.com/mpriewe/repo_article_maine/main/script/Germany.csv\", na_filter=False)\n",
    "display(df_table4.head(5).style.set_properties(**{'text-align':'left'}), metadata={\"jdh\":{\"object\":{\"source\": [\"Germany. https://docs.google.com/spreadsheets/d/17SD4yXDiN1OSc-WQcrp8seD9PlPTpTXh/edit?usp=sharing&ouid=117537917826352408873&rtpof=true&sd=true\"]}}})"
   ]
  },
  {
   "cell_type": "code",
   "execution_count": 21,
   "id": "09a9d6f1",
   "metadata": {
    "tags": [
     "hermeneutics",
     "table-5"
    ]
   },
   "outputs": [
    {
     "data": {
      "text/html": [
       "<style type=\"text/css\">\n",
       "#T_bb014_row0_col0, #T_bb014_row0_col1, #T_bb014_row0_col2, #T_bb014_row0_col3, #T_bb014_row0_col4, #T_bb014_row0_col5, #T_bb014_row0_col6, #T_bb014_row0_col7, #T_bb014_row1_col0, #T_bb014_row1_col1, #T_bb014_row1_col2, #T_bb014_row1_col3, #T_bb014_row1_col4, #T_bb014_row1_col5, #T_bb014_row1_col6, #T_bb014_row1_col7, #T_bb014_row2_col0, #T_bb014_row2_col1, #T_bb014_row2_col2, #T_bb014_row2_col3, #T_bb014_row2_col4, #T_bb014_row2_col5, #T_bb014_row2_col6, #T_bb014_row2_col7, #T_bb014_row3_col0, #T_bb014_row3_col1, #T_bb014_row3_col2, #T_bb014_row3_col3, #T_bb014_row3_col4, #T_bb014_row3_col5, #T_bb014_row3_col6, #T_bb014_row3_col7, #T_bb014_row4_col0, #T_bb014_row4_col1, #T_bb014_row4_col2, #T_bb014_row4_col3, #T_bb014_row4_col4, #T_bb014_row4_col5, #T_bb014_row4_col6, #T_bb014_row4_col7 {\n",
       "  text-align: left;\n",
       "}\n",
       "</style>\n",
       "<table id=\"T_bb014_\">\n",
       "  <thead>\n",
       "    <tr>\n",
       "      <th class=\"blank level0\" >&nbsp;</th>\n",
       "      <th class=\"col_heading level0 col0\" >Unknown speaker</th>\n",
       "      <th class=\"col_heading level0 col1\" >Survivor</th>\n",
       "      <th class=\"col_heading level0 col2\" >Sigsbee</th>\n",
       "      <th class=\"col_heading level0 col3\" >Politicians</th>\n",
       "      <th class=\"col_heading level0 col4\" >Military personnel</th>\n",
       "      <th class=\"col_heading level0 col5\" >Journalists</th>\n",
       "      <th class=\"col_heading level0 col6\" >Experts</th>\n",
       "      <th class=\"col_heading level0 col7\" >127context hits for \"public\" / \"opinion\"</th>\n",
       "    </tr>\n",
       "  </thead>\n",
       "  <tbody>\n",
       "    <tr>\n",
       "      <th id=\"T_bb014_level0_row0\" class=\"row_heading level0 row0\" >0</th>\n",
       "      <td id=\"T_bb014_row0_col0\" class=\"data row0 col0\" ></td>\n",
       "      <td id=\"T_bb014_row0_col1\" class=\"data row0 col1\" ></td>\n",
       "      <td id=\"T_bb014_row0_col2\" class=\"data row0 col2\" >Suspend Opinion</td>\n",
       "      <td id=\"T_bb014_row0_col3\" class=\"data row0 col3\" ></td>\n",
       "      <td id=\"T_bb014_row0_col4\" class=\"data row0 col4\" ></td>\n",
       "      <td id=\"T_bb014_row0_col5\" class=\"data row0 col5\" ></td>\n",
       "      <td id=\"T_bb014_row0_col6\" class=\"data row0 col6\" ></td>\n",
       "      <td id=\"T_bb014_row0_col7\" class=\"data row0 col7\" >OPINION SHOULD BE SUSPENDED.ӍNearly Three Hundred Lives Lost . Intense Excitement Exists in Madrid as W</td>\n",
       "    </tr>\n",
       "    <tr>\n",
       "      <th id=\"T_bb014_level0_row1\" class=\"row_heading level0 row1\" >1</th>\n",
       "      <td id=\"T_bb014_row1_col0\" class=\"data row1 col0\" >Undecided/Unclear</td>\n",
       "      <td id=\"T_bb014_row1_col1\" class=\"data row1 col1\" ></td>\n",
       "      <td id=\"T_bb014_row1_col2\" class=\"data row1 col2\" ></td>\n",
       "      <td id=\"T_bb014_row1_col3\" class=\"data row1 col3\" ></td>\n",
       "      <td id=\"T_bb014_row1_col4\" class=\"data row1 col4\" ></td>\n",
       "      <td id=\"T_bb014_row1_col5\" class=\"data row1 col5\" ></td>\n",
       "      <td id=\"T_bb014_row1_col6\" class=\"data row1 col6\" ></td>\n",
       "      <td id=\"T_bb014_row1_col7\" class=\"data row1 col7\" >only happen at such opportunities.ӍTHE LOSS OF THE ҍAINE.ӍIn the present tense state of public opinion in the United States and Spain , the tremendous news of the destruction of the warship ҍaineӠin</td>\n",
       "    </tr>\n",
       "    <tr>\n",
       "      <th id=\"T_bb014_level0_row2\" class=\"row_heading level0 row2\" >2</th>\n",
       "      <td id=\"T_bb014_row2_col0\" class=\"data row2 col0\" ></td>\n",
       "      <td id=\"T_bb014_row2_col1\" class=\"data row2 col1\" ></td>\n",
       "      <td id=\"T_bb014_row2_col2\" class=\"data row2 col2\" ></td>\n",
       "      <td id=\"T_bb014_row2_col3\" class=\"data row2 col3\" ></td>\n",
       "      <td id=\"T_bb014_row2_col4\" class=\"data row2 col4\" ></td>\n",
       "      <td id=\"T_bb014_row2_col5\" class=\"data row2 col5\" ></td>\n",
       "      <td id=\"T_bb014_row2_col6\" class=\"data row2 col6\" >Undecided/Unclear</td>\n",
       "      <td id=\"T_bb014_row2_col7\" class=\"data row2 col7\" >ssed regret for the disaster , the Minister Woodford . The issue of `` '' Maine '' '' An expert opinion Mr. Arlington M. Betts , who are passing through the city and is in charge of the national rese</td>\n",
       "    </tr>\n",
       "    <tr>\n",
       "      <th id=\"T_bb014_level0_row3\" class=\"row_heading level0 row3\" >3</th>\n",
       "      <td id=\"T_bb014_row3_col0\" class=\"data row3 col0\" ></td>\n",
       "      <td id=\"T_bb014_row3_col1\" class=\"data row3 col1\" ></td>\n",
       "      <td id=\"T_bb014_row3_col2\" class=\"data row3 col2\" ></td>\n",
       "      <td id=\"T_bb014_row3_col3\" class=\"data row3 col3\" ></td>\n",
       "      <td id=\"T_bb014_row3_col4\" class=\"data row3 col4\" ></td>\n",
       "      <td id=\"T_bb014_row3_col5\" class=\"data row3 col5\" ></td>\n",
       "      <td id=\"T_bb014_row3_col6\" class=\"data row3 col6\" >Undecided/Unclear</td>\n",
       "      <td id=\"T_bb014_row3_col7\" class=\"data row3 col7\" >national reserve of Ohio ( E.U . ) was interviewed last night at the American Club to know your opinion on the cause of the disaster of the American steamer in Havana . The summary of the interview i</td>\n",
       "    </tr>\n",
       "    <tr>\n",
       "      <th id=\"T_bb014_level0_row4\" class=\"row_heading level0 row4\" >4</th>\n",
       "      <td id=\"T_bb014_row4_col0\" class=\"data row4 col0\" ></td>\n",
       "      <td id=\"T_bb014_row4_col1\" class=\"data row4 col1\" ></td>\n",
       "      <td id=\"T_bb014_row4_col2\" class=\"data row4 col2\" ></td>\n",
       "      <td id=\"T_bb014_row4_col3\" class=\"data row4 col3\" ></td>\n",
       "      <td id=\"T_bb014_row4_col4\" class=\"data row4 col4\" ></td>\n",
       "      <td id=\"T_bb014_row4_col5\" class=\"data row4 col5\" ></td>\n",
       "      <td id=\"T_bb014_row4_col6\" class=\"data row4 col6\" >Undecided/Unclear</td>\n",
       "      <td id=\"T_bb014_row4_col7\" class=\"data row4 col7\" >rs were kept would seem to preclude any possibility of trouble from the inside . ANOTHER EXPERT OPINION . WASHINGTON , Feb. 16.- B.F. Sherwood , retired chief engineer of the United States nay gives</td>\n",
       "    </tr>\n",
       "  </tbody>\n",
       "</table>\n"
      ],
      "text/plain": [
       "<pandas.io.formats.style.Styler at 0x7f77fd12c6d0>"
      ]
     },
     "metadata": {
      "jdh": {
       "object": {
        "source": [
         "Mexico. https://docs.google.com/spreadsheets/d/17SD4yXDiN1OSc-WQcrp8seD9PlPTpTXh/edit?usp=sharing&ouid=117537917826352408873&rtpof=true&sd=true"
        ]
       }
      }
     },
     "output_type": "display_data"
    }
   ],
   "source": [
    "import pandas as pd\n",
    "\n",
    "\n",
    "df_table5 = pd.read_csv(\"https://raw.githubusercontent.com/mpriewe/repo_article_maine/main/script/Mexico.csv\", na_filter=False)\n",
    "display(df_table5.head(5).style.set_properties(**{'text-align':'left'}), metadata={\"jdh\":{\"object\":{\"source\": [\"Mexico. https://docs.google.com/spreadsheets/d/17SD4yXDiN1OSc-WQcrp8seD9PlPTpTXh/edit?usp=sharing&ouid=117537917826352408873&rtpof=true&sd=true\"]}}})"
   ]
  },
  {
   "cell_type": "code",
   "execution_count": 22,
   "id": "05456a46",
   "metadata": {
    "tags": [
     "hermeneutics",
     "table-6"
    ]
   },
   "outputs": [
    {
     "data": {
      "text/html": [
       "<style type=\"text/css\">\n",
       "#T_fbbd6_row0_col0, #T_fbbd6_row0_col1, #T_fbbd6_row0_col2, #T_fbbd6_row0_col3, #T_fbbd6_row0_col4, #T_fbbd6_row0_col5, #T_fbbd6_row0_col6, #T_fbbd6_row0_col7, #T_fbbd6_row1_col0, #T_fbbd6_row1_col1, #T_fbbd6_row1_col2, #T_fbbd6_row1_col3, #T_fbbd6_row1_col4, #T_fbbd6_row1_col5, #T_fbbd6_row1_col6, #T_fbbd6_row1_col7, #T_fbbd6_row2_col0, #T_fbbd6_row2_col1, #T_fbbd6_row2_col2, #T_fbbd6_row2_col3, #T_fbbd6_row2_col4, #T_fbbd6_row2_col5, #T_fbbd6_row2_col6, #T_fbbd6_row2_col7, #T_fbbd6_row3_col0, #T_fbbd6_row3_col1, #T_fbbd6_row3_col2, #T_fbbd6_row3_col3, #T_fbbd6_row3_col4, #T_fbbd6_row3_col5, #T_fbbd6_row3_col6, #T_fbbd6_row3_col7, #T_fbbd6_row4_col0, #T_fbbd6_row4_col1, #T_fbbd6_row4_col2, #T_fbbd6_row4_col3, #T_fbbd6_row4_col4, #T_fbbd6_row4_col5, #T_fbbd6_row4_col6, #T_fbbd6_row4_col7 {\n",
       "  text-align: left;\n",
       "}\n",
       "</style>\n",
       "<table id=\"T_fbbd6_\">\n",
       "  <thead>\n",
       "    <tr>\n",
       "      <th class=\"blank level0\" >&nbsp;</th>\n",
       "      <th class=\"col_heading level0 col0\" >Unknown speaker</th>\n",
       "      <th class=\"col_heading level0 col1\" >Survivor</th>\n",
       "      <th class=\"col_heading level0 col2\" >Sigsbee</th>\n",
       "      <th class=\"col_heading level0 col3\" >Politicians</th>\n",
       "      <th class=\"col_heading level0 col4\" >Military personnel </th>\n",
       "      <th class=\"col_heading level0 col5\" >Journalists</th>\n",
       "      <th class=\"col_heading level0 col6\" >Experts</th>\n",
       "      <th class=\"col_heading level0 col7\" >20 context hits for \"public\" / \"opinion\"</th>\n",
       "    </tr>\n",
       "  </thead>\n",
       "  <tbody>\n",
       "    <tr>\n",
       "      <th id=\"T_fbbd6_level0_row0\" class=\"row_heading level0 row0\" >0</th>\n",
       "      <td id=\"T_fbbd6_row0_col0\" class=\"data row0 col0\" ></td>\n",
       "      <td id=\"T_fbbd6_row0_col1\" class=\"data row0 col1\" ></td>\n",
       "      <td id=\"T_fbbd6_row0_col2\" class=\"data row0 col2\" ></td>\n",
       "      <td id=\"T_fbbd6_row0_col3\" class=\"data row0 col3\" ></td>\n",
       "      <td id=\"T_fbbd6_row0_col4\" class=\"data row0 col4\" >Accident</td>\n",
       "      <td id=\"T_fbbd6_row0_col5\" class=\"data row0 col5\" ></td>\n",
       "      <td id=\"T_fbbd6_row0_col6\" class=\"data row0 col6\" ></td>\n",
       "      <td id=\"T_fbbd6_row0_col7\" class=\"data row0 col7\" >men and 2 officers were killed in the explosion . The chief of the naval office here is of the opinion that the explosion took place in the warehouse where the gun cotton for the torpedoes was gobor</td>\n",
       "    </tr>\n",
       "    <tr>\n",
       "      <th id=\"T_fbbd6_level0_row1\" class=\"row_heading level0 row1\" >1</th>\n",
       "      <td id=\"T_fbbd6_row1_col0\" class=\"data row1 col0\" ></td>\n",
       "      <td id=\"T_fbbd6_row1_col1\" class=\"data row1 col1\" ></td>\n",
       "      <td id=\"T_fbbd6_row1_col2\" class=\"data row1 col2\" ></td>\n",
       "      <td id=\"T_fbbd6_row1_col3\" class=\"data row1 col3\" ></td>\n",
       "      <td id=\"T_fbbd6_row1_col4\" class=\"data row1 col4\" >Accident</td>\n",
       "      <td id=\"T_fbbd6_row1_col5\" class=\"data row1 col5\" ></td>\n",
       "      <td id=\"T_fbbd6_row1_col6\" class=\"data row1 col6\" ></td>\n",
       "      <td id=\"T_fbbd6_row1_col7\" class=\"data row1 col7\" >236 men and 2 officers were killed in the blast . The chief of the naval office here is of the opinion that the blast found plains in the warehouse , where the gun cotton was for the torpedoes . The</td>\n",
       "    </tr>\n",
       "    <tr>\n",
       "      <th id=\"T_fbbd6_level0_row2\" class=\"row_heading level0 row2\" >2</th>\n",
       "      <td id=\"T_fbbd6_row2_col0\" class=\"data row2 col0\" ></td>\n",
       "      <td id=\"T_fbbd6_row2_col1\" class=\"data row2 col1\" ></td>\n",
       "      <td id=\"T_fbbd6_row2_col2\" class=\"data row2 col2\" ></td>\n",
       "      <td id=\"T_fbbd6_row2_col3\" class=\"data row2 col3\" ></td>\n",
       "      <td id=\"T_fbbd6_row2_col4\" class=\"data row2 col4\" >Accident</td>\n",
       "      <td id=\"T_fbbd6_row2_col5\" class=\"data row2 col5\" ></td>\n",
       "      <td id=\"T_fbbd6_row2_col6\" class=\"data row2 col6\" ></td>\n",
       "      <td id=\"T_fbbd6_row2_col7\" class=\"data row2 col7\" >men and 2 officers were killed in the explosion . The chief of the naval office here is of the opinion that the explosion took place in the warehouse where the gun cotton for the torpedoes was store</td>\n",
       "    </tr>\n",
       "    <tr>\n",
       "      <th id=\"T_fbbd6_level0_row3\" class=\"row_heading level0 row3\" >3</th>\n",
       "      <td id=\"T_fbbd6_row3_col0\" class=\"data row3 col0\" >Attack</td>\n",
       "      <td id=\"T_fbbd6_row3_col1\" class=\"data row3 col1\" ></td>\n",
       "      <td id=\"T_fbbd6_row3_col2\" class=\"data row3 col2\" ></td>\n",
       "      <td id=\"T_fbbd6_row3_col3\" class=\"data row3 col3\" ></td>\n",
       "      <td id=\"T_fbbd6_row3_col4\" class=\"data row3 col4\" ></td>\n",
       "      <td id=\"T_fbbd6_row3_col5\" class=\"data row3 col5\" ></td>\n",
       "      <td id=\"T_fbbd6_row3_col6\" class=\"data row3 col6\" ></td>\n",
       "      <td id=\"T_fbbd6_row3_col7\" class=\"data row3 col7\" >ounds for the supposition that she too sees the matter very seriously and an outburst of public opinion , most , as the jingus will not believe in any chance and will accuse the Spaniards of malice .</td>\n",
       "    </tr>\n",
       "    <tr>\n",
       "      <th id=\"T_fbbd6_level0_row4\" class=\"row_heading level0 row4\" >4</th>\n",
       "      <td id=\"T_fbbd6_row4_col0\" class=\"data row4 col0\" >Undecided/Unclear</td>\n",
       "      <td id=\"T_fbbd6_row4_col1\" class=\"data row4 col1\" ></td>\n",
       "      <td id=\"T_fbbd6_row4_col2\" class=\"data row4 col2\" ></td>\n",
       "      <td id=\"T_fbbd6_row4_col3\" class=\"data row4 col3\" ></td>\n",
       "      <td id=\"T_fbbd6_row4_col4\" class=\"data row4 col4\" ></td>\n",
       "      <td id=\"T_fbbd6_row4_col5\" class=\"data row4 col5\" ></td>\n",
       "      <td id=\"T_fbbd6_row4_col6\" class=\"data row4 col6\" ></td>\n",
       "      <td id=\"T_fbbd6_row4_col7\" class=\"data row4 col7\" >n an unofficial message that the government believed in a coincidental incident . `` `` General opinion , assures a telegram from Washington to the Dai 1 y Ch ro nic 1 st , '' '' that when The loss o</td>\n",
       "    </tr>\n",
       "  </tbody>\n",
       "</table>\n"
      ],
      "text/plain": [
       "<pandas.io.formats.style.Styler at 0x7f77fdffebd0>"
      ]
     },
     "metadata": {
      "jdh": {
       "object": {
        "source": [
         "Netherlands. https://docs.google.com/spreadsheets/d/17SD4yXDiN1OSc-WQcrp8seD9PlPTpTXh/edit?usp=sharing&ouid=117537917826352408873&rtpof=true&sd=true"
        ]
       }
      }
     },
     "output_type": "display_data"
    }
   ],
   "source": [
    "import pandas as pd\n",
    "\n",
    "\n",
    "df_table6 = pd.read_csv(\"https://raw.githubusercontent.com/mpriewe/repo_article_maine/main/script/Netherlands.csv\", na_filter=False)\n",
    "display(df_table6.head(5).style.set_properties(**{'text-align':'left'}), metadata={\"jdh\":{\"object\":{\"source\": [\"Netherlands. https://docs.google.com/spreadsheets/d/17SD4yXDiN1OSc-WQcrp8seD9PlPTpTXh/edit?usp=sharing&ouid=117537917826352408873&rtpof=true&sd=true\"]}}})"
   ]
  },
  {
   "cell_type": "code",
   "execution_count": 23,
   "id": "b2bba320",
   "metadata": {
    "tags": [
     "hermeneutics",
     "table-7"
    ]
   },
   "outputs": [
    {
     "data": {
      "text/html": [
       "<style type=\"text/css\">\n",
       "#T_fb945_row0_col0, #T_fb945_row0_col1, #T_fb945_row0_col2, #T_fb945_row0_col3, #T_fb945_row0_col4, #T_fb945_row0_col5, #T_fb945_row0_col6, #T_fb945_row0_col7, #T_fb945_row1_col0, #T_fb945_row1_col1, #T_fb945_row1_col2, #T_fb945_row1_col3, #T_fb945_row1_col4, #T_fb945_row1_col5, #T_fb945_row1_col6, #T_fb945_row1_col7, #T_fb945_row2_col0, #T_fb945_row2_col1, #T_fb945_row2_col2, #T_fb945_row2_col3, #T_fb945_row2_col4, #T_fb945_row2_col5, #T_fb945_row2_col6, #T_fb945_row2_col7, #T_fb945_row3_col0, #T_fb945_row3_col1, #T_fb945_row3_col2, #T_fb945_row3_col3, #T_fb945_row3_col4, #T_fb945_row3_col5, #T_fb945_row3_col6, #T_fb945_row3_col7, #T_fb945_row4_col0, #T_fb945_row4_col1, #T_fb945_row4_col2, #T_fb945_row4_col3, #T_fb945_row4_col4, #T_fb945_row4_col5, #T_fb945_row4_col6, #T_fb945_row4_col7 {\n",
       "  text-align: left;\n",
       "}\n",
       "</style>\n",
       "<table id=\"T_fb945_\">\n",
       "  <thead>\n",
       "    <tr>\n",
       "      <th class=\"blank level0\" >&nbsp;</th>\n",
       "      <th class=\"col_heading level0 col0\" >Unknown speaker</th>\n",
       "      <th class=\"col_heading level0 col1\" >Survivor</th>\n",
       "      <th class=\"col_heading level0 col2\" >Sigsbee</th>\n",
       "      <th class=\"col_heading level0 col3\" >Politicians</th>\n",
       "      <th class=\"col_heading level0 col4\" >Military personnel </th>\n",
       "      <th class=\"col_heading level0 col5\" >Journalists</th>\n",
       "      <th class=\"col_heading level0 col6\" >Experts</th>\n",
       "      <th class=\"col_heading level0 col7\" >132 context hits for \"public\" / \"opinion\"</th>\n",
       "    </tr>\n",
       "  </thead>\n",
       "  <tbody>\n",
       "    <tr>\n",
       "      <th id=\"T_fb945_level0_row0\" class=\"row_heading level0 row0\" >0</th>\n",
       "      <td id=\"T_fb945_row0_col0\" class=\"data row0 col0\" ></td>\n",
       "      <td id=\"T_fb945_row0_col1\" class=\"data row0 col1\" ></td>\n",
       "      <td id=\"T_fb945_row0_col2\" class=\"data row0 col2\" >Suspend Opinion</td>\n",
       "      <td id=\"T_fb945_row0_col3\" class=\"data row0 col3\" ></td>\n",
       "      <td id=\"T_fb945_row0_col4\" class=\"data row0 col4\" ></td>\n",
       "      <td id=\"T_fb945_row0_col5\" class=\"data row0 col5\" ></td>\n",
       "      <td id=\"T_fb945_row0_col6\" class=\"data row0 col6\" ></td>\n",
       "      <td id=\"T_fb945_row0_col7\" class=\"data row0 col7\" >explosion they were to occur ENL popular justice triumphs . tregados to rest the crew . Public opinion must suspend P a r t s June 1 . - L or s newspapers p a r t i d e r s Dreyfus c o n c e p t e n</td>\n",
       "    </tr>\n",
       "    <tr>\n",
       "      <th id=\"T_fb945_level0_row1\" class=\"row_heading level0 row1\" >1</th>\n",
       "      <td id=\"T_fb945_row1_col0\" class=\"data row1 col0\" >Undecided/Unclear</td>\n",
       "      <td id=\"T_fb945_row1_col1\" class=\"data row1 col1\" ></td>\n",
       "      <td id=\"T_fb945_row1_col2\" class=\"data row1 col2\" ></td>\n",
       "      <td id=\"T_fb945_row1_col3\" class=\"data row1 col3\" ></td>\n",
       "      <td id=\"T_fb945_row1_col4\" class=\"data row1 col4\" ></td>\n",
       "      <td id=\"T_fb945_row1_col5\" class=\"data row1 col5\" ></td>\n",
       "      <td id=\"T_fb945_row1_col6\" class=\"data row1 col6\" ></td>\n",
       "      <td id=\"T_fb945_row1_col7\" class=\"data row1 col7\" >Gravo but do not believe that can be offered a doubt about the causes of the accidenle . Public opinion curiosity overcomes so far to any other senti ment , but im asking me that even the friends we</td>\n",
       "    </tr>\n",
       "    <tr>\n",
       "      <th id=\"T_fb945_level0_row2\" class=\"row_heading level0 row2\" >2</th>\n",
       "      <td id=\"T_fb945_row2_col0\" class=\"data row2 col0\" ></td>\n",
       "      <td id=\"T_fb945_row2_col1\" class=\"data row2 col1\" ></td>\n",
       "      <td id=\"T_fb945_row2_col2\" class=\"data row2 col2\" >Suspend Opinion</td>\n",
       "      <td id=\"T_fb945_row2_col3\" class=\"data row2 col3\" ></td>\n",
       "      <td id=\"T_fb945_row2_col4\" class=\"data row2 col4\" ></td>\n",
       "      <td id=\"T_fb945_row2_col5\" class=\"data row2 col5\" ></td>\n",
       "      <td id=\"T_fb945_row2_col6\" class=\"data row2 col6\" ></td>\n",
       "      <td id=\"T_fb945_row2_col7\" class=\"data row2 col7\" >meuto . The boat floats yet . In the explosion occur were among gados to rest the crew . Public opinion must suspend judgment until new details . It is believed that all Maine officials have been sav</td>\n",
       "    </tr>\n",
       "    <tr>\n",
       "      <th id=\"T_fb945_level0_row3\" class=\"row_heading level0 row3\" >3</th>\n",
       "      <td id=\"T_fb945_row3_col0\" class=\"data row3 col0\" ></td>\n",
       "      <td id=\"T_fb945_row3_col1\" class=\"data row3 col1\" ></td>\n",
       "      <td id=\"T_fb945_row3_col2\" class=\"data row3 col2\" ></td>\n",
       "      <td id=\"T_fb945_row3_col3\" class=\"data row3 col3\" >Undecided/Unclear</td>\n",
       "      <td id=\"T_fb945_row3_col4\" class=\"data row3 col4\" ></td>\n",
       "      <td id=\"T_fb945_row3_col5\" class=\"data row3 col5\" ></td>\n",
       "      <td id=\"T_fb945_row3_col6\" class=\"data row3 col6\" ></td>\n",
       "      <td id=\"T_fb945_row3_col7\" class=\"data row3 col7\" >hortly before four o'clock . The impression was deep in the ANI or of the Government and public opinion , because it is an American ship and so citicas circumstances . Our authorities in Havana have</td>\n",
       "    </tr>\n",
       "    <tr>\n",
       "      <th id=\"T_fb945_level0_row4\" class=\"row_heading level0 row4\" >4</th>\n",
       "      <td id=\"T_fb945_row4_col0\" class=\"data row4 col0\" ></td>\n",
       "      <td id=\"T_fb945_row4_col1\" class=\"data row4 col1\" ></td>\n",
       "      <td id=\"T_fb945_row4_col2\" class=\"data row4 col2\" >Suspend Opinion</td>\n",
       "      <td id=\"T_fb945_row4_col3\" class=\"data row4 col3\" ></td>\n",
       "      <td id=\"T_fb945_row4_col4\" class=\"data row4 col4\" ></td>\n",
       "      <td id=\"T_fb945_row4_col5\" class=\"data row4 col5\" ></td>\n",
       "      <td id=\"T_fb945_row4_col6\" class=\"data row4 col6\" ></td>\n",
       "      <td id=\"T_fb945_row4_col7\" class=\"data row4 col7\" >more clothes than those of the suit He was wearing . Respeeto the cause of the disaster public opinion must suspend its judgment until convey new reports , > S creee who they have saved all officers</td>\n",
       "    </tr>\n",
       "  </tbody>\n",
       "</table>\n"
      ],
      "text/plain": [
       "<pandas.io.formats.style.Styler at 0x7f77fd0db110>"
      ]
     },
     "metadata": {
      "jdh": {
       "object": {
        "source": [
         "Spain. https://docs.google.com/spreadsheets/d/17SD4yXDiN1OSc-WQcrp8seD9PlPTpTXh/edit?usp=sharing&ouid=117537917826352408873&rtpof=true&sd=true"
        ]
       }
      }
     },
     "output_type": "display_data"
    }
   ],
   "source": [
    "import pandas as pd\n",
    "\n",
    "\n",
    "df_table7 = pd.read_csv(\"https://raw.githubusercontent.com/mpriewe/repo_article_maine/main/script/Spain.csv\", na_filter=False)\n",
    "display(df_table7.head(5).style.set_properties(**{'text-align':'left'}), metadata={\"jdh\":{\"object\":{\"source\": [\"Spain. https://docs.google.com/spreadsheets/d/17SD4yXDiN1OSc-WQcrp8seD9PlPTpTXh/edit?usp=sharing&ouid=117537917826352408873&rtpof=true&sd=true\"]}}})"
   ]
  },
  {
   "cell_type": "code",
   "execution_count": 24,
   "id": "e5b2a651",
   "metadata": {
    "tags": [
     "hermeneutics",
     "table-8"
    ]
   },
   "outputs": [
    {
     "data": {
      "text/html": [
       "<style type=\"text/css\">\n",
       "#T_6bf75_row0_col0, #T_6bf75_row0_col1, #T_6bf75_row0_col2, #T_6bf75_row0_col3, #T_6bf75_row0_col4, #T_6bf75_row0_col5, #T_6bf75_row0_col6, #T_6bf75_row0_col7, #T_6bf75_row1_col0, #T_6bf75_row1_col1, #T_6bf75_row1_col2, #T_6bf75_row1_col3, #T_6bf75_row1_col4, #T_6bf75_row1_col5, #T_6bf75_row1_col6, #T_6bf75_row1_col7, #T_6bf75_row2_col0, #T_6bf75_row2_col1, #T_6bf75_row2_col2, #T_6bf75_row2_col3, #T_6bf75_row2_col4, #T_6bf75_row2_col5, #T_6bf75_row2_col6, #T_6bf75_row2_col7, #T_6bf75_row3_col0, #T_6bf75_row3_col1, #T_6bf75_row3_col2, #T_6bf75_row3_col3, #T_6bf75_row3_col4, #T_6bf75_row3_col5, #T_6bf75_row3_col6, #T_6bf75_row3_col7, #T_6bf75_row4_col0, #T_6bf75_row4_col1, #T_6bf75_row4_col2, #T_6bf75_row4_col3, #T_6bf75_row4_col4, #T_6bf75_row4_col5, #T_6bf75_row4_col6, #T_6bf75_row4_col7 {\n",
       "  text-align: left;\n",
       "}\n",
       "</style>\n",
       "<table id=\"T_6bf75_\">\n",
       "  <thead>\n",
       "    <tr>\n",
       "      <th class=\"blank level0\" >&nbsp;</th>\n",
       "      <th class=\"col_heading level0 col0\" >Unknown speaker</th>\n",
       "      <th class=\"col_heading level0 col1\" >Survivor</th>\n",
       "      <th class=\"col_heading level0 col2\" >Sigsbee</th>\n",
       "      <th class=\"col_heading level0 col3\" >Politicians</th>\n",
       "      <th class=\"col_heading level0 col4\" >Military personnel </th>\n",
       "      <th class=\"col_heading level0 col5\" >Journalists</th>\n",
       "      <th class=\"col_heading level0 col6\" >Experts</th>\n",
       "      <th class=\"col_heading level0 col7\" >65 context hits for \"public\" / \"opinion\"</th>\n",
       "    </tr>\n",
       "  </thead>\n",
       "  <tbody>\n",
       "    <tr>\n",
       "      <th id=\"T_6bf75_level0_row0\" class=\"row_heading level0 row0\" >0</th>\n",
       "      <td id=\"T_6bf75_row0_col0\" class=\"data row0 col0\" ></td>\n",
       "      <td id=\"T_6bf75_row0_col1\" class=\"data row0 col1\" ></td>\n",
       "      <td id=\"T_6bf75_row0_col2\" class=\"data row0 col2\" >Suspend Opinion</td>\n",
       "      <td id=\"T_6bf75_row0_col3\" class=\"data row0 col3\" ></td>\n",
       "      <td id=\"T_6bf75_row0_col4\" class=\"data row0 col4\" ></td>\n",
       "      <td id=\"T_6bf75_row0_col5\" class=\"data row0 col5\" ></td>\n",
       "      <td id=\"T_6bf75_row0_col6\" class=\"data row0 col6\" ></td>\n",
       "      <td id=\"T_6bf75_row0_col7\" class=\"data row0 col7\" >Captain Sigshee wires that 263 men and two officer- were lost.. He states he can not express an opinion as to the cause of the ti aster . It is authoritatively stiited that informa­ tion received so</td>\n",
       "    </tr>\n",
       "    <tr>\n",
       "      <th id=\"T_6bf75_level0_row1\" class=\"row_heading level0 row1\" >1</th>\n",
       "      <td id=\"T_6bf75_row1_col0\" class=\"data row1 col0\" ></td>\n",
       "      <td id=\"T_6bf75_row1_col1\" class=\"data row1 col1\" ></td>\n",
       "      <td id=\"T_6bf75_row1_col2\" class=\"data row1 col2\" >Suspend Opinion</td>\n",
       "      <td id=\"T_6bf75_row1_col3\" class=\"data row1 col3\" ></td>\n",
       "      <td id=\"T_6bf75_row1_col4\" class=\"data row1 col4\" ></td>\n",
       "      <td id=\"T_6bf75_row1_col5\" class=\"data row1 col5\" ></td>\n",
       "      <td id=\"T_6bf75_row1_col6\" class=\"data row1 col6\" ></td>\n",
       "      <td id=\"T_6bf75_row1_col7\" class=\"data row1 col7\" >above water . No one ssved was got off with anything but tile clothes upon hilll . \\ '' Fublic opinion an to the cLuse of the disaster should be suspended till further report . \\ '' All the officers</td>\n",
       "    </tr>\n",
       "    <tr>\n",
       "      <th id=\"T_6bf75_level0_row2\" class=\"row_heading level0 row2\" >2</th>\n",
       "      <td id=\"T_6bf75_row2_col0\" class=\"data row2 col0\" >Attack</td>\n",
       "      <td id=\"T_6bf75_row2_col1\" class=\"data row2 col1\" ></td>\n",
       "      <td id=\"T_6bf75_row2_col2\" class=\"data row2 col2\" ></td>\n",
       "      <td id=\"T_6bf75_row2_col3\" class=\"data row2 col3\" ></td>\n",
       "      <td id=\"T_6bf75_row2_col4\" class=\"data row2 col4\" ></td>\n",
       "      <td id=\"T_6bf75_row2_col5\" class=\"data row2 col5\" ></td>\n",
       "      <td id=\"T_6bf75_row2_col6\" class=\"data row2 col6\" ></td>\n",
       "      <td id=\"T_6bf75_row2_col7\" class=\"data row2 col7\" >is could only have been an itnmemse mass of water raised by the explcsion of a torpedo . Public opinion is not at all inclined to nccept the theory of accident . All the susp cious elenteits ot the c</td>\n",
       "    </tr>\n",
       "    <tr>\n",
       "      <th id=\"T_6bf75_level0_row3\" class=\"row_heading level0 row3\" >3</th>\n",
       "      <td id=\"T_6bf75_row3_col0\" class=\"data row3 col0\" >Undecided/Unclear</td>\n",
       "      <td id=\"T_6bf75_row3_col1\" class=\"data row3 col1\" ></td>\n",
       "      <td id=\"T_6bf75_row3_col2\" class=\"data row3 col2\" ></td>\n",
       "      <td id=\"T_6bf75_row3_col3\" class=\"data row3 col3\" ></td>\n",
       "      <td id=\"T_6bf75_row3_col4\" class=\"data row3 col4\" ></td>\n",
       "      <td id=\"T_6bf75_row3_col5\" class=\"data row3 col5\" ></td>\n",
       "      <td id=\"T_6bf75_row3_col6\" class=\"data row3 col6\" ></td>\n",
       "      <td id=\"T_6bf75_row3_col7\" class=\"data row3 col7\" >the investigation into tl the cause of the Maine disaster has greatly ex­ cited not only public opinion in the States but also that of the official world and it is openly stated that if Spain persist</td>\n",
       "    </tr>\n",
       "    <tr>\n",
       "      <th id=\"T_6bf75_level0_row4\" class=\"row_heading level0 row4\" >4</th>\n",
       "      <td id=\"T_6bf75_row4_col0\" class=\"data row4 col0\" >Undecided/Unclear</td>\n",
       "      <td id=\"T_6bf75_row4_col1\" class=\"data row4 col1\" ></td>\n",
       "      <td id=\"T_6bf75_row4_col2\" class=\"data row4 col2\" ></td>\n",
       "      <td id=\"T_6bf75_row4_col3\" class=\"data row4 col3\" ></td>\n",
       "      <td id=\"T_6bf75_row4_col4\" class=\"data row4 col4\" ></td>\n",
       "      <td id=\"T_6bf75_row4_col5\" class=\"data row4 col5\" ></td>\n",
       "      <td id=\"T_6bf75_row4_col6\" class=\"data row4 col6\" ></td>\n",
       "      <td id=\"T_6bf75_row4_col7\" class=\"data row4 col7\" >w oil the retired list has been inter­ viewed with respect to the state of affairs . Hiae is of opinion that the tragedy of the -Maine need not . cause a ruptsu-c betwee3 Spain and the United . State</td>\n",
       "    </tr>\n",
       "  </tbody>\n",
       "</table>\n"
      ],
      "text/plain": [
       "<pandas.io.formats.style.Styler at 0x7f77fd12a4d0>"
      ]
     },
     "metadata": {
      "jdh": {
       "object": {
        "source": [
         "United Kingdom. https://docs.google.com/spreadsheets/d/17SD4yXDiN1OSc-WQcrp8seD9PlPTpTXh/edit?usp=sharing&ouid=117537917826352408873&rtpof=true&sd=true"
        ]
       }
      }
     },
     "output_type": "display_data"
    }
   ],
   "source": [
    "import pandas as pd\n",
    "\n",
    "\n",
    "df_table8 = pd.read_csv(\"https://raw.githubusercontent.com/mpriewe/repo_article_maine/main/script/UK.csv\", na_filter=False)\n",
    "display(df_table8.head(5).style.set_properties(**{'text-align':'left'}), metadata={\"jdh\":{\"object\":{\"source\": [\"United Kingdom. https://docs.google.com/spreadsheets/d/17SD4yXDiN1OSc-WQcrp8seD9PlPTpTXh/edit?usp=sharing&ouid=117537917826352408873&rtpof=true&sd=true\"]}}})"
   ]
  },
  {
   "cell_type": "code",
   "execution_count": 25,
   "id": "0eb40815",
   "metadata": {
    "tags": [
     "hermeneutics",
     "table-9"
    ]
   },
   "outputs": [
    {
     "data": {
      "text/html": [
       "<style type=\"text/css\">\n",
       "#T_03589_row0_col0, #T_03589_row0_col1, #T_03589_row0_col2, #T_03589_row0_col3, #T_03589_row0_col4, #T_03589_row0_col5, #T_03589_row0_col6, #T_03589_row0_col7, #T_03589_row1_col0, #T_03589_row1_col1, #T_03589_row1_col2, #T_03589_row1_col3, #T_03589_row1_col4, #T_03589_row1_col5, #T_03589_row1_col6, #T_03589_row1_col7, #T_03589_row2_col0, #T_03589_row2_col1, #T_03589_row2_col2, #T_03589_row2_col3, #T_03589_row2_col4, #T_03589_row2_col5, #T_03589_row2_col6, #T_03589_row2_col7, #T_03589_row3_col0, #T_03589_row3_col1, #T_03589_row3_col2, #T_03589_row3_col3, #T_03589_row3_col4, #T_03589_row3_col5, #T_03589_row3_col6, #T_03589_row3_col7, #T_03589_row4_col0, #T_03589_row4_col1, #T_03589_row4_col2, #T_03589_row4_col3, #T_03589_row4_col4, #T_03589_row4_col5, #T_03589_row4_col6, #T_03589_row4_col7 {\n",
       "  text-align: left;\n",
       "}\n",
       "</style>\n",
       "<table id=\"T_03589_\">\n",
       "  <thead>\n",
       "    <tr>\n",
       "      <th class=\"blank level0\" >&nbsp;</th>\n",
       "      <th class=\"col_heading level0 col0\" >Unknown speaker</th>\n",
       "      <th class=\"col_heading level0 col1\" >Survivor</th>\n",
       "      <th class=\"col_heading level0 col2\" >Sigsbee</th>\n",
       "      <th class=\"col_heading level0 col3\" >Politicians</th>\n",
       "      <th class=\"col_heading level0 col4\" >Military personnel </th>\n",
       "      <th class=\"col_heading level0 col5\" >Journalists</th>\n",
       "      <th class=\"col_heading level0 col6\" >Experts</th>\n",
       "      <th class=\"col_heading level0 col7\" >196 context hits for \"public\" / \"opinion\"</th>\n",
       "    </tr>\n",
       "  </thead>\n",
       "  <tbody>\n",
       "    <tr>\n",
       "      <th id=\"T_03589_level0_row0\" class=\"row_heading level0 row0\" >0</th>\n",
       "      <td id=\"T_03589_row0_col0\" class=\"data row0 col0\" ></td>\n",
       "      <td id=\"T_03589_row0_col1\" class=\"data row0 col1\" ></td>\n",
       "      <td id=\"T_03589_row0_col2\" class=\"data row0 col2\" >Suspend Opinion</td>\n",
       "      <td id=\"T_03589_row0_col3\" class=\"data row0 col3\" ></td>\n",
       "      <td id=\"T_03589_row0_col4\" class=\"data row0 col4\" ></td>\n",
       "      <td id=\"T_03589_row0_col5\" class=\"data row0 col5\" ></td>\n",
       "      <td id=\"T_03589_row0_col6\" class=\"data row0 col6\" ></td>\n",
       "      <td id=\"T_03589_row0_col7\" class=\"data row0 col7\" >ieces of eauinment still above water , No one lind other clothes 1 than those upon him . Publlo opinion should i tie suspended till further report All officers j believed to be saved . Jenkins and Me</td>\n",
       "    </tr>\n",
       "    <tr>\n",
       "      <th id=\"T_03589_level0_row1\" class=\"row_heading level0 row1\" >1</th>\n",
       "      <td id=\"T_03589_row1_col0\" class=\"data row1 col0\" ></td>\n",
       "      <td id=\"T_03589_row1_col1\" class=\"data row1 col1\" ></td>\n",
       "      <td id=\"T_03589_row1_col2\" class=\"data row1 col2\" ></td>\n",
       "      <td id=\"T_03589_row1_col3\" class=\"data row1 col3\" ></td>\n",
       "      <td id=\"T_03589_row1_col4\" class=\"data row1 col4\" >Accident</td>\n",
       "      <td id=\"T_03589_row1_col5\" class=\"data row1 col5\" ></td>\n",
       "      <td id=\"T_03589_row1_col6\" class=\"data row1 col6\" ></td>\n",
       "      <td id=\"T_03589_row1_col7\" class=\"data row1 col7\" >ning the diMMter to the Maine . Capt . IMrkena , chief of the navigation bureau , eipreeeed the opinion to-day that the eiploelon totk plare In the magaslns of the Uaiue . He raid thia wan evident fo</td>\n",
       "    </tr>\n",
       "    <tr>\n",
       "      <th id=\"T_03589_level0_row2\" class=\"row_heading level0 row2\" >2</th>\n",
       "      <td id=\"T_03589_row2_col0\" class=\"data row2 col0\" ></td>\n",
       "      <td id=\"T_03589_row2_col1\" class=\"data row2 col1\" ></td>\n",
       "      <td id=\"T_03589_row2_col2\" class=\"data row2 col2\" ></td>\n",
       "      <td id=\"T_03589_row2_col3\" class=\"data row2 col3\" ></td>\n",
       "      <td id=\"T_03589_row2_col4\" class=\"data row2 col4\" >Attack</td>\n",
       "      <td id=\"T_03589_row2_col5\" class=\"data row2 col5\" ></td>\n",
       "      <td id=\"T_03589_row2_col6\" class=\"data row2 col6\" ></td>\n",
       "      <td id=\"T_03589_row2_col7\" class=\"data row2 col7\" >harbor was the result of treachery and an act without parallel In the world 's history . In his opinion war most Inevitably follow . `` When divers examine the hill of the vessel , '' said Commander</td>\n",
       "    </tr>\n",
       "    <tr>\n",
       "      <th id=\"T_03589_level0_row3\" class=\"row_heading level0 row3\" >3</th>\n",
       "      <td id=\"T_03589_row3_col0\" class=\"data row3 col0\" ></td>\n",
       "      <td id=\"T_03589_row3_col1\" class=\"data row3 col1\" ></td>\n",
       "      <td id=\"T_03589_row3_col2\" class=\"data row3 col2\" ></td>\n",
       "      <td id=\"T_03589_row3_col3\" class=\"data row3 col3\" >Undecided/Unclear</td>\n",
       "      <td id=\"T_03589_row3_col4\" class=\"data row3 col4\" ></td>\n",
       "      <td id=\"T_03589_row3_col5\" class=\"data row3 col5\" ></td>\n",
       "      <td id=\"T_03589_row3_col6\" class=\"data row3 col6\" ></td>\n",
       "      <td id=\"T_03589_row3_col7\" class=\"data row3 col7\" >the principal topic of con sideration by the senate committee on foreign relations to-day . The opinion generally expressed by the members that the occuirence may result In grave com plications onles</td>\n",
       "    </tr>\n",
       "    <tr>\n",
       "      <th id=\"T_03589_level0_row4\" class=\"row_heading level0 row4\" >4</th>\n",
       "      <td id=\"T_03589_row4_col0\" class=\"data row4 col0\" ></td>\n",
       "      <td id=\"T_03589_row4_col1\" class=\"data row4 col1\" ></td>\n",
       "      <td id=\"T_03589_row4_col2\" class=\"data row4 col2\" ></td>\n",
       "      <td id=\"T_03589_row4_col3\" class=\"data row4 col3\" >Attack</td>\n",
       "      <td id=\"T_03589_row4_col4\" class=\"data row4 col4\" ></td>\n",
       "      <td id=\"T_03589_row4_col5\" class=\"data row4 col5\" ></td>\n",
       "      <td id=\"T_03589_row4_col6\" class=\"data row4 col6\" ></td>\n",
       "      <td id=\"T_03589_row4_col7\" class=\"data row4 col7\" >formatlon before expressing their opin ion . Kx-Senator Butler , of South Carolina . was of the opinion that souie bold man had gone aboard the Maine and placed a grenade wun a slow matcn wuer it wou</td>\n",
       "    </tr>\n",
       "  </tbody>\n",
       "</table>\n"
      ],
      "text/plain": [
       "<pandas.io.formats.style.Styler at 0x7f77fc09b490>"
      ]
     },
     "metadata": {
      "jdh": {
       "object": {
        "source": [
         "United States of America. https://docs.google.com/spreadsheets/d/17SD4yXDiN1OSc-WQcrp8seD9PlPTpTXh/edit?usp=sharing&ouid=117537917826352408873&rtpof=true&sd=true"
        ]
       }
      }
     },
     "output_type": "display_data"
    }
   ],
   "source": [
    "import pandas as pd\n",
    "\n",
    "\n",
    "df_table9 = pd.read_csv(\"https://raw.githubusercontent.com/mpriewe/repo_article_maine/main/script/USA.csv\", na_filter=False)\n",
    "display(df_table9.head(5).style.set_properties(**{'text-align':'left'}), metadata={\"jdh\":{\"object\":{\"source\": [\"United States of America. https://docs.google.com/spreadsheets/d/17SD4yXDiN1OSc-WQcrp8seD9PlPTpTXh/edit?usp=sharing&ouid=117537917826352408873&rtpof=true&sd=true\"]}}})"
   ]
  },
  {
   "cell_type": "markdown",
   "id": "c6add027",
   "metadata": {
    "tags": [
     "hermeneutics"
    ]
   },
   "source": [
    " After discarding hits that were illegible (due to OCR errors), obviously out-of-context, or when the speaker's position was unclear, the final corpus of 671 (58% of the original hits) was placed in a matrix showing the possible combination of actor and stance. Then, we verified 10% of each other's annotations to ensure a homogeneous interpretation of the data. This close reading of the final \"opinion\" corpus enabled us to obtain a nuanced picture of how newspapers portrayed certain opinions and voices that were ultimately connected to the question of war and peace. Based on the available digitized newspapers from the United States and other countries, we argue that the opinions on the cause of the sinking and, hence, on the necessity of war are more widely distributed and diverse than previous research has indicated."
   ]
  },
  {
   "cell_type": "markdown",
   "id": "242aa151",
   "metadata": {},
   "source": [
    "## International Press Reactions to the Explosion of the *Maine*"
   ]
  },
  {
   "cell_type": "markdown",
   "id": "5d8fae5a",
   "metadata": {},
   "source": [
    "Between February 16 and 23, 1898, the international media scene in our corpus remained undecided about the cause of the *Maine*'s sinking, with a slight overall leaning towards the accident hypothesis. All national presses re-printed Captain Sigsbee's words of caution from February 16, calling for the suspension of opinion until further investigations took place ([figure 3](#anchor-figure-3))."
   ]
  },
  {
   "cell_type": "markdown",
   "id": "44d91c95",
   "metadata": {},
   "source": [
    "Regarding the frequency of the word \"opinion\" in relation to the number of stories about the *Maine* in our working corpus as a whole, newspapers from the United States and Mexico printed the item more than once per article, while the British and Spanish papers used this word 95% and 73%, respectively. The rest of the European countries (Finland, Germany, Netherlands) employed the term \"opinion\" significantly less.  "
   ]
  },
  {
   "cell_type": "code",
   "execution_count": 12,
   "id": "f2630d4f",
   "metadata": {
    "tags": [
     "figure-3"
    ]
   },
   "outputs": [
    {
     "data": {
      "application/vnd.plotly.v1+json": {
       "config": {
        "plotlyServerURL": "https://plot.ly"
       },
       "data": [
        {
         "alignmentgroup": "True",
         "bingroup": "x",
         "histfunc": "sum",
         "hovertemplate": "variable=Attack<br>Position/Country=%{x}<br>sum of value (normalized as percent)=%{y}<extra></extra>",
         "legendgroup": "Attack",
         "marker": {
          "color": "#636efa",
          "pattern": {
           "shape": ""
          }
         },
         "name": "Attack",
         "offsetgroup": "Attack",
         "orientation": "v",
         "showlegend": true,
         "type": "histogram",
         "x": [
          "Finland",
          "Germany",
          "Mexico",
          "Netherlands",
          "Spain",
          "UK",
          "USA"
         ],
         "xaxis": "x",
         "y": [
          1,
          1,
          11,
          6,
          9,
          2,
          219
         ],
         "yaxis": "y"
        },
        {
         "alignmentgroup": "True",
         "bingroup": "x",
         "histfunc": "sum",
         "hovertemplate": "variable=Accident<br>Position/Country=%{x}<br>sum of value (normalized as percent)=%{y}<extra></extra>",
         "legendgroup": "Accident",
         "marker": {
          "color": "#EF553B",
          "pattern": {
           "shape": ""
          }
         },
         "name": "Accident",
         "offsetgroup": "Accident",
         "orientation": "v",
         "showlegend": true,
         "type": "histogram",
         "x": [
          "Finland",
          "Germany",
          "Mexico",
          "Netherlands",
          "Spain",
          "UK",
          "USA"
         ],
         "xaxis": "x",
         "y": [
          13,
          6,
          23,
          7,
          7,
          8,
          164
         ],
         "yaxis": "y"
        },
        {
         "alignmentgroup": "True",
         "bingroup": "x",
         "histfunc": "sum",
         "hovertemplate": "variable=Suspend opinion<br>Position/Country=%{x}<br>sum of value (normalized as percent)=%{y}<extra></extra>",
         "legendgroup": "Suspend opinion",
         "marker": {
          "color": "#00cc96",
          "pattern": {
           "shape": ""
          }
         },
         "name": "Suspend opinion",
         "offsetgroup": "Suspend opinion",
         "orientation": "v",
         "showlegend": true,
         "type": "histogram",
         "x": [
          "Finland",
          "Germany",
          "Mexico",
          "Netherlands",
          "Spain",
          "UK",
          "USA"
         ],
         "xaxis": "x",
         "y": [
          2,
          5,
          12,
          2,
          13,
          10,
          152
         ],
         "yaxis": "y"
        }
       ],
       "layout": {
        "barmode": "relative",
        "barnorm": "percent",
        "legend": {
         "title": {
          "text": ""
         },
         "tracegroupgap": 0
        },
        "template": {
         "data": {
          "bar": [
           {
            "error_x": {
             "color": "#2a3f5f"
            },
            "error_y": {
             "color": "#2a3f5f"
            },
            "marker": {
             "line": {
              "color": "#E5ECF6",
              "width": 0.5
             },
             "pattern": {
              "fillmode": "overlay",
              "size": 10,
              "solidity": 0.2
             }
            },
            "type": "bar"
           }
          ],
          "barpolar": [
           {
            "marker": {
             "line": {
              "color": "#E5ECF6",
              "width": 0.5
             },
             "pattern": {
              "fillmode": "overlay",
              "size": 10,
              "solidity": 0.2
             }
            },
            "type": "barpolar"
           }
          ],
          "carpet": [
           {
            "aaxis": {
             "endlinecolor": "#2a3f5f",
             "gridcolor": "white",
             "linecolor": "white",
             "minorgridcolor": "white",
             "startlinecolor": "#2a3f5f"
            },
            "baxis": {
             "endlinecolor": "#2a3f5f",
             "gridcolor": "white",
             "linecolor": "white",
             "minorgridcolor": "white",
             "startlinecolor": "#2a3f5f"
            },
            "type": "carpet"
           }
          ],
          "choropleth": [
           {
            "colorbar": {
             "outlinewidth": 0,
             "ticks": ""
            },
            "type": "choropleth"
           }
          ],
          "contour": [
           {
            "colorbar": {
             "outlinewidth": 0,
             "ticks": ""
            },
            "colorscale": [
             [
              0,
              "#0d0887"
             ],
             [
              0.1111111111111111,
              "#46039f"
             ],
             [
              0.2222222222222222,
              "#7201a8"
             ],
             [
              0.3333333333333333,
              "#9c179e"
             ],
             [
              0.4444444444444444,
              "#bd3786"
             ],
             [
              0.5555555555555556,
              "#d8576b"
             ],
             [
              0.6666666666666666,
              "#ed7953"
             ],
             [
              0.7777777777777778,
              "#fb9f3a"
             ],
             [
              0.8888888888888888,
              "#fdca26"
             ],
             [
              1,
              "#f0f921"
             ]
            ],
            "type": "contour"
           }
          ],
          "contourcarpet": [
           {
            "colorbar": {
             "outlinewidth": 0,
             "ticks": ""
            },
            "type": "contourcarpet"
           }
          ],
          "heatmap": [
           {
            "colorbar": {
             "outlinewidth": 0,
             "ticks": ""
            },
            "colorscale": [
             [
              0,
              "#0d0887"
             ],
             [
              0.1111111111111111,
              "#46039f"
             ],
             [
              0.2222222222222222,
              "#7201a8"
             ],
             [
              0.3333333333333333,
              "#9c179e"
             ],
             [
              0.4444444444444444,
              "#bd3786"
             ],
             [
              0.5555555555555556,
              "#d8576b"
             ],
             [
              0.6666666666666666,
              "#ed7953"
             ],
             [
              0.7777777777777778,
              "#fb9f3a"
             ],
             [
              0.8888888888888888,
              "#fdca26"
             ],
             [
              1,
              "#f0f921"
             ]
            ],
            "type": "heatmap"
           }
          ],
          "heatmapgl": [
           {
            "colorbar": {
             "outlinewidth": 0,
             "ticks": ""
            },
            "colorscale": [
             [
              0,
              "#0d0887"
             ],
             [
              0.1111111111111111,
              "#46039f"
             ],
             [
              0.2222222222222222,
              "#7201a8"
             ],
             [
              0.3333333333333333,
              "#9c179e"
             ],
             [
              0.4444444444444444,
              "#bd3786"
             ],
             [
              0.5555555555555556,
              "#d8576b"
             ],
             [
              0.6666666666666666,
              "#ed7953"
             ],
             [
              0.7777777777777778,
              "#fb9f3a"
             ],
             [
              0.8888888888888888,
              "#fdca26"
             ],
             [
              1,
              "#f0f921"
             ]
            ],
            "type": "heatmapgl"
           }
          ],
          "histogram": [
           {
            "marker": {
             "pattern": {
              "fillmode": "overlay",
              "size": 10,
              "solidity": 0.2
             }
            },
            "type": "histogram"
           }
          ],
          "histogram2d": [
           {
            "colorbar": {
             "outlinewidth": 0,
             "ticks": ""
            },
            "colorscale": [
             [
              0,
              "#0d0887"
             ],
             [
              0.1111111111111111,
              "#46039f"
             ],
             [
              0.2222222222222222,
              "#7201a8"
             ],
             [
              0.3333333333333333,
              "#9c179e"
             ],
             [
              0.4444444444444444,
              "#bd3786"
             ],
             [
              0.5555555555555556,
              "#d8576b"
             ],
             [
              0.6666666666666666,
              "#ed7953"
             ],
             [
              0.7777777777777778,
              "#fb9f3a"
             ],
             [
              0.8888888888888888,
              "#fdca26"
             ],
             [
              1,
              "#f0f921"
             ]
            ],
            "type": "histogram2d"
           }
          ],
          "histogram2dcontour": [
           {
            "colorbar": {
             "outlinewidth": 0,
             "ticks": ""
            },
            "colorscale": [
             [
              0,
              "#0d0887"
             ],
             [
              0.1111111111111111,
              "#46039f"
             ],
             [
              0.2222222222222222,
              "#7201a8"
             ],
             [
              0.3333333333333333,
              "#9c179e"
             ],
             [
              0.4444444444444444,
              "#bd3786"
             ],
             [
              0.5555555555555556,
              "#d8576b"
             ],
             [
              0.6666666666666666,
              "#ed7953"
             ],
             [
              0.7777777777777778,
              "#fb9f3a"
             ],
             [
              0.8888888888888888,
              "#fdca26"
             ],
             [
              1,
              "#f0f921"
             ]
            ],
            "type": "histogram2dcontour"
           }
          ],
          "mesh3d": [
           {
            "colorbar": {
             "outlinewidth": 0,
             "ticks": ""
            },
            "type": "mesh3d"
           }
          ],
          "parcoords": [
           {
            "line": {
             "colorbar": {
              "outlinewidth": 0,
              "ticks": ""
             }
            },
            "type": "parcoords"
           }
          ],
          "pie": [
           {
            "automargin": true,
            "type": "pie"
           }
          ],
          "scatter": [
           {
            "fillpattern": {
             "fillmode": "overlay",
             "size": 10,
             "solidity": 0.2
            },
            "type": "scatter"
           }
          ],
          "scatter3d": [
           {
            "line": {
             "colorbar": {
              "outlinewidth": 0,
              "ticks": ""
             }
            },
            "marker": {
             "colorbar": {
              "outlinewidth": 0,
              "ticks": ""
             }
            },
            "type": "scatter3d"
           }
          ],
          "scattercarpet": [
           {
            "marker": {
             "colorbar": {
              "outlinewidth": 0,
              "ticks": ""
             }
            },
            "type": "scattercarpet"
           }
          ],
          "scattergeo": [
           {
            "marker": {
             "colorbar": {
              "outlinewidth": 0,
              "ticks": ""
             }
            },
            "type": "scattergeo"
           }
          ],
          "scattergl": [
           {
            "marker": {
             "colorbar": {
              "outlinewidth": 0,
              "ticks": ""
             }
            },
            "type": "scattergl"
           }
          ],
          "scattermapbox": [
           {
            "marker": {
             "colorbar": {
              "outlinewidth": 0,
              "ticks": ""
             }
            },
            "type": "scattermapbox"
           }
          ],
          "scatterpolar": [
           {
            "marker": {
             "colorbar": {
              "outlinewidth": 0,
              "ticks": ""
             }
            },
            "type": "scatterpolar"
           }
          ],
          "scatterpolargl": [
           {
            "marker": {
             "colorbar": {
              "outlinewidth": 0,
              "ticks": ""
             }
            },
            "type": "scatterpolargl"
           }
          ],
          "scatterternary": [
           {
            "marker": {
             "colorbar": {
              "outlinewidth": 0,
              "ticks": ""
             }
            },
            "type": "scatterternary"
           }
          ],
          "surface": [
           {
            "colorbar": {
             "outlinewidth": 0,
             "ticks": ""
            },
            "colorscale": [
             [
              0,
              "#0d0887"
             ],
             [
              0.1111111111111111,
              "#46039f"
             ],
             [
              0.2222222222222222,
              "#7201a8"
             ],
             [
              0.3333333333333333,
              "#9c179e"
             ],
             [
              0.4444444444444444,
              "#bd3786"
             ],
             [
              0.5555555555555556,
              "#d8576b"
             ],
             [
              0.6666666666666666,
              "#ed7953"
             ],
             [
              0.7777777777777778,
              "#fb9f3a"
             ],
             [
              0.8888888888888888,
              "#fdca26"
             ],
             [
              1,
              "#f0f921"
             ]
            ],
            "type": "surface"
           }
          ],
          "table": [
           {
            "cells": {
             "fill": {
              "color": "#EBF0F8"
             },
             "line": {
              "color": "white"
             }
            },
            "header": {
             "fill": {
              "color": "#C8D4E3"
             },
             "line": {
              "color": "white"
             }
            },
            "type": "table"
           }
          ]
         },
         "layout": {
          "annotationdefaults": {
           "arrowcolor": "#2a3f5f",
           "arrowhead": 0,
           "arrowwidth": 1
          },
          "autotypenumbers": "strict",
          "coloraxis": {
           "colorbar": {
            "outlinewidth": 0,
            "ticks": ""
           }
          },
          "colorscale": {
           "diverging": [
            [
             0,
             "#8e0152"
            ],
            [
             0.1,
             "#c51b7d"
            ],
            [
             0.2,
             "#de77ae"
            ],
            [
             0.3,
             "#f1b6da"
            ],
            [
             0.4,
             "#fde0ef"
            ],
            [
             0.5,
             "#f7f7f7"
            ],
            [
             0.6,
             "#e6f5d0"
            ],
            [
             0.7,
             "#b8e186"
            ],
            [
             0.8,
             "#7fbc41"
            ],
            [
             0.9,
             "#4d9221"
            ],
            [
             1,
             "#276419"
            ]
           ],
           "sequential": [
            [
             0,
             "#0d0887"
            ],
            [
             0.1111111111111111,
             "#46039f"
            ],
            [
             0.2222222222222222,
             "#7201a8"
            ],
            [
             0.3333333333333333,
             "#9c179e"
            ],
            [
             0.4444444444444444,
             "#bd3786"
            ],
            [
             0.5555555555555556,
             "#d8576b"
            ],
            [
             0.6666666666666666,
             "#ed7953"
            ],
            [
             0.7777777777777778,
             "#fb9f3a"
            ],
            [
             0.8888888888888888,
             "#fdca26"
            ],
            [
             1,
             "#f0f921"
            ]
           ],
           "sequentialminus": [
            [
             0,
             "#0d0887"
            ],
            [
             0.1111111111111111,
             "#46039f"
            ],
            [
             0.2222222222222222,
             "#7201a8"
            ],
            [
             0.3333333333333333,
             "#9c179e"
            ],
            [
             0.4444444444444444,
             "#bd3786"
            ],
            [
             0.5555555555555556,
             "#d8576b"
            ],
            [
             0.6666666666666666,
             "#ed7953"
            ],
            [
             0.7777777777777778,
             "#fb9f3a"
            ],
            [
             0.8888888888888888,
             "#fdca26"
            ],
            [
             1,
             "#f0f921"
            ]
           ]
          },
          "colorway": [
           "#636efa",
           "#EF553B",
           "#00cc96",
           "#ab63fa",
           "#FFA15A",
           "#19d3f3",
           "#FF6692",
           "#B6E880",
           "#FF97FF",
           "#FECB52"
          ],
          "font": {
           "color": "#2a3f5f"
          },
          "geo": {
           "bgcolor": "white",
           "lakecolor": "white",
           "landcolor": "#E5ECF6",
           "showlakes": true,
           "showland": true,
           "subunitcolor": "white"
          },
          "hoverlabel": {
           "align": "left"
          },
          "hovermode": "closest",
          "mapbox": {
           "style": "light"
          },
          "paper_bgcolor": "white",
          "plot_bgcolor": "#E5ECF6",
          "polar": {
           "angularaxis": {
            "gridcolor": "white",
            "linecolor": "white",
            "ticks": ""
           },
           "bgcolor": "#E5ECF6",
           "radialaxis": {
            "gridcolor": "white",
            "linecolor": "white",
            "ticks": ""
           }
          },
          "scene": {
           "xaxis": {
            "backgroundcolor": "#E5ECF6",
            "gridcolor": "white",
            "gridwidth": 2,
            "linecolor": "white",
            "showbackground": true,
            "ticks": "",
            "zerolinecolor": "white"
           },
           "yaxis": {
            "backgroundcolor": "#E5ECF6",
            "gridcolor": "white",
            "gridwidth": 2,
            "linecolor": "white",
            "showbackground": true,
            "ticks": "",
            "zerolinecolor": "white"
           },
           "zaxis": {
            "backgroundcolor": "#E5ECF6",
            "gridcolor": "white",
            "gridwidth": 2,
            "linecolor": "white",
            "showbackground": true,
            "ticks": "",
            "zerolinecolor": "white"
           }
          },
          "shapedefaults": {
           "line": {
            "color": "#2a3f5f"
           }
          },
          "ternary": {
           "aaxis": {
            "gridcolor": "white",
            "linecolor": "white",
            "ticks": ""
           },
           "baxis": {
            "gridcolor": "white",
            "linecolor": "white",
            "ticks": ""
           },
           "bgcolor": "#E5ECF6",
           "caxis": {
            "gridcolor": "white",
            "linecolor": "white",
            "ticks": ""
           }
          },
          "title": {
           "x": 0.05
          },
          "xaxis": {
           "automargin": true,
           "gridcolor": "white",
           "linecolor": "white",
           "ticks": "",
           "title": {
            "standoff": 15
           },
           "zerolinecolor": "white",
           "zerolinewidth": 2
          },
          "yaxis": {
           "automargin": true,
           "gridcolor": "white",
           "linecolor": "white",
           "ticks": "",
           "title": {
            "standoff": 15
           },
           "zerolinecolor": "white",
           "zerolinewidth": 2
          }
         }
        },
        "title": {
         "text": "Distribution of opinions voiced about the Maine’s explosion by country"
        },
        "xaxis": {
         "anchor": "y",
         "domain": [
          0,
          1
         ],
         "ticktext": [
          "Finland",
          "Germany",
          "Mexico",
          "Netherlands",
          "Spain",
          "UK",
          "USA"
         ],
         "tickvals": [
          "Finland",
          "Germany",
          "Mexico",
          "Netherlands",
          "Spain",
          "UK",
          "USA"
         ],
         "title": {
          "text": "Position/Country"
         }
        },
        "yaxis": {
         "anchor": "x",
         "domain": [
          0,
          1
         ],
         "ticksuffix": "%",
         "title": {
          "text": ""
         }
        }
       }
      },
      "text/html": [
       "<div>                            <div id=\"d0f6e2b5-164f-49c4-892c-51c6f8b4139d\" class=\"plotly-graph-div\" style=\"height:525px; width:100%;\"></div>            <script type=\"text/javascript\">                require([\"plotly\"], function(Plotly) {                    window.PLOTLYENV=window.PLOTLYENV || {};                                    if (document.getElementById(\"d0f6e2b5-164f-49c4-892c-51c6f8b4139d\")) {                    Plotly.newPlot(                        \"d0f6e2b5-164f-49c4-892c-51c6f8b4139d\",                        [{\"alignmentgroup\":\"True\",\"bingroup\":\"x\",\"histfunc\":\"sum\",\"hovertemplate\":\"variable=Attack<br>Position/Country=%{x}<br>sum of value (normalized as percent)=%{y}<extra></extra>\",\"legendgroup\":\"Attack\",\"marker\":{\"color\":\"#636efa\",\"pattern\":{\"shape\":\"\"}},\"name\":\"Attack\",\"offsetgroup\":\"Attack\",\"orientation\":\"v\",\"showlegend\":true,\"x\":[\"Finland\",\"Germany\",\"Mexico\",\"Netherlands\",\"Spain\",\"UK\",\"USA\"],\"xaxis\":\"x\",\"y\":[1,1,11,6,9,2,219],\"yaxis\":\"y\",\"type\":\"histogram\"},{\"alignmentgroup\":\"True\",\"bingroup\":\"x\",\"histfunc\":\"sum\",\"hovertemplate\":\"variable=Accident<br>Position/Country=%{x}<br>sum of value (normalized as percent)=%{y}<extra></extra>\",\"legendgroup\":\"Accident\",\"marker\":{\"color\":\"#EF553B\",\"pattern\":{\"shape\":\"\"}},\"name\":\"Accident\",\"offsetgroup\":\"Accident\",\"orientation\":\"v\",\"showlegend\":true,\"x\":[\"Finland\",\"Germany\",\"Mexico\",\"Netherlands\",\"Spain\",\"UK\",\"USA\"],\"xaxis\":\"x\",\"y\":[13,6,23,7,7,8,164],\"yaxis\":\"y\",\"type\":\"histogram\"},{\"alignmentgroup\":\"True\",\"bingroup\":\"x\",\"histfunc\":\"sum\",\"hovertemplate\":\"variable=Suspend opinion<br>Position/Country=%{x}<br>sum of value (normalized as percent)=%{y}<extra></extra>\",\"legendgroup\":\"Suspend opinion\",\"marker\":{\"color\":\"#00cc96\",\"pattern\":{\"shape\":\"\"}},\"name\":\"Suspend opinion\",\"offsetgroup\":\"Suspend opinion\",\"orientation\":\"v\",\"showlegend\":true,\"x\":[\"Finland\",\"Germany\",\"Mexico\",\"Netherlands\",\"Spain\",\"UK\",\"USA\"],\"xaxis\":\"x\",\"y\":[2,5,12,2,13,10,152],\"yaxis\":\"y\",\"type\":\"histogram\"}],                        {\"template\":{\"data\":{\"histogram2dcontour\":[{\"type\":\"histogram2dcontour\",\"colorbar\":{\"outlinewidth\":0,\"ticks\":\"\"},\"colorscale\":[[0.0,\"#0d0887\"],[0.1111111111111111,\"#46039f\"],[0.2222222222222222,\"#7201a8\"],[0.3333333333333333,\"#9c179e\"],[0.4444444444444444,\"#bd3786\"],[0.5555555555555556,\"#d8576b\"],[0.6666666666666666,\"#ed7953\"],[0.7777777777777778,\"#fb9f3a\"],[0.8888888888888888,\"#fdca26\"],[1.0,\"#f0f921\"]]}],\"choropleth\":[{\"type\":\"choropleth\",\"colorbar\":{\"outlinewidth\":0,\"ticks\":\"\"}}],\"histogram2d\":[{\"type\":\"histogram2d\",\"colorbar\":{\"outlinewidth\":0,\"ticks\":\"\"},\"colorscale\":[[0.0,\"#0d0887\"],[0.1111111111111111,\"#46039f\"],[0.2222222222222222,\"#7201a8\"],[0.3333333333333333,\"#9c179e\"],[0.4444444444444444,\"#bd3786\"],[0.5555555555555556,\"#d8576b\"],[0.6666666666666666,\"#ed7953\"],[0.7777777777777778,\"#fb9f3a\"],[0.8888888888888888,\"#fdca26\"],[1.0,\"#f0f921\"]]}],\"heatmap\":[{\"type\":\"heatmap\",\"colorbar\":{\"outlinewidth\":0,\"ticks\":\"\"},\"colorscale\":[[0.0,\"#0d0887\"],[0.1111111111111111,\"#46039f\"],[0.2222222222222222,\"#7201a8\"],[0.3333333333333333,\"#9c179e\"],[0.4444444444444444,\"#bd3786\"],[0.5555555555555556,\"#d8576b\"],[0.6666666666666666,\"#ed7953\"],[0.7777777777777778,\"#fb9f3a\"],[0.8888888888888888,\"#fdca26\"],[1.0,\"#f0f921\"]]}],\"heatmapgl\":[{\"type\":\"heatmapgl\",\"colorbar\":{\"outlinewidth\":0,\"ticks\":\"\"},\"colorscale\":[[0.0,\"#0d0887\"],[0.1111111111111111,\"#46039f\"],[0.2222222222222222,\"#7201a8\"],[0.3333333333333333,\"#9c179e\"],[0.4444444444444444,\"#bd3786\"],[0.5555555555555556,\"#d8576b\"],[0.6666666666666666,\"#ed7953\"],[0.7777777777777778,\"#fb9f3a\"],[0.8888888888888888,\"#fdca26\"],[1.0,\"#f0f921\"]]}],\"contourcarpet\":[{\"type\":\"contourcarpet\",\"colorbar\":{\"outlinewidth\":0,\"ticks\":\"\"}}],\"contour\":[{\"type\":\"contour\",\"colorbar\":{\"outlinewidth\":0,\"ticks\":\"\"},\"colorscale\":[[0.0,\"#0d0887\"],[0.1111111111111111,\"#46039f\"],[0.2222222222222222,\"#7201a8\"],[0.3333333333333333,\"#9c179e\"],[0.4444444444444444,\"#bd3786\"],[0.5555555555555556,\"#d8576b\"],[0.6666666666666666,\"#ed7953\"],[0.7777777777777778,\"#fb9f3a\"],[0.8888888888888888,\"#fdca26\"],[1.0,\"#f0f921\"]]}],\"surface\":[{\"type\":\"surface\",\"colorbar\":{\"outlinewidth\":0,\"ticks\":\"\"},\"colorscale\":[[0.0,\"#0d0887\"],[0.1111111111111111,\"#46039f\"],[0.2222222222222222,\"#7201a8\"],[0.3333333333333333,\"#9c179e\"],[0.4444444444444444,\"#bd3786\"],[0.5555555555555556,\"#d8576b\"],[0.6666666666666666,\"#ed7953\"],[0.7777777777777778,\"#fb9f3a\"],[0.8888888888888888,\"#fdca26\"],[1.0,\"#f0f921\"]]}],\"mesh3d\":[{\"type\":\"mesh3d\",\"colorbar\":{\"outlinewidth\":0,\"ticks\":\"\"}}],\"scatter\":[{\"fillpattern\":{\"fillmode\":\"overlay\",\"size\":10,\"solidity\":0.2},\"type\":\"scatter\"}],\"parcoords\":[{\"type\":\"parcoords\",\"line\":{\"colorbar\":{\"outlinewidth\":0,\"ticks\":\"\"}}}],\"scatterpolargl\":[{\"type\":\"scatterpolargl\",\"marker\":{\"colorbar\":{\"outlinewidth\":0,\"ticks\":\"\"}}}],\"bar\":[{\"error_x\":{\"color\":\"#2a3f5f\"},\"error_y\":{\"color\":\"#2a3f5f\"},\"marker\":{\"line\":{\"color\":\"#E5ECF6\",\"width\":0.5},\"pattern\":{\"fillmode\":\"overlay\",\"size\":10,\"solidity\":0.2}},\"type\":\"bar\"}],\"scattergeo\":[{\"type\":\"scattergeo\",\"marker\":{\"colorbar\":{\"outlinewidth\":0,\"ticks\":\"\"}}}],\"scatterpolar\":[{\"type\":\"scatterpolar\",\"marker\":{\"colorbar\":{\"outlinewidth\":0,\"ticks\":\"\"}}}],\"histogram\":[{\"marker\":{\"pattern\":{\"fillmode\":\"overlay\",\"size\":10,\"solidity\":0.2}},\"type\":\"histogram\"}],\"scattergl\":[{\"type\":\"scattergl\",\"marker\":{\"colorbar\":{\"outlinewidth\":0,\"ticks\":\"\"}}}],\"scatter3d\":[{\"type\":\"scatter3d\",\"line\":{\"colorbar\":{\"outlinewidth\":0,\"ticks\":\"\"}},\"marker\":{\"colorbar\":{\"outlinewidth\":0,\"ticks\":\"\"}}}],\"scattermapbox\":[{\"type\":\"scattermapbox\",\"marker\":{\"colorbar\":{\"outlinewidth\":0,\"ticks\":\"\"}}}],\"scatterternary\":[{\"type\":\"scatterternary\",\"marker\":{\"colorbar\":{\"outlinewidth\":0,\"ticks\":\"\"}}}],\"scattercarpet\":[{\"type\":\"scattercarpet\",\"marker\":{\"colorbar\":{\"outlinewidth\":0,\"ticks\":\"\"}}}],\"carpet\":[{\"aaxis\":{\"endlinecolor\":\"#2a3f5f\",\"gridcolor\":\"white\",\"linecolor\":\"white\",\"minorgridcolor\":\"white\",\"startlinecolor\":\"#2a3f5f\"},\"baxis\":{\"endlinecolor\":\"#2a3f5f\",\"gridcolor\":\"white\",\"linecolor\":\"white\",\"minorgridcolor\":\"white\",\"startlinecolor\":\"#2a3f5f\"},\"type\":\"carpet\"}],\"table\":[{\"cells\":{\"fill\":{\"color\":\"#EBF0F8\"},\"line\":{\"color\":\"white\"}},\"header\":{\"fill\":{\"color\":\"#C8D4E3\"},\"line\":{\"color\":\"white\"}},\"type\":\"table\"}],\"barpolar\":[{\"marker\":{\"line\":{\"color\":\"#E5ECF6\",\"width\":0.5},\"pattern\":{\"fillmode\":\"overlay\",\"size\":10,\"solidity\":0.2}},\"type\":\"barpolar\"}],\"pie\":[{\"automargin\":true,\"type\":\"pie\"}]},\"layout\":{\"autotypenumbers\":\"strict\",\"colorway\":[\"#636efa\",\"#EF553B\",\"#00cc96\",\"#ab63fa\",\"#FFA15A\",\"#19d3f3\",\"#FF6692\",\"#B6E880\",\"#FF97FF\",\"#FECB52\"],\"font\":{\"color\":\"#2a3f5f\"},\"hovermode\":\"closest\",\"hoverlabel\":{\"align\":\"left\"},\"paper_bgcolor\":\"white\",\"plot_bgcolor\":\"#E5ECF6\",\"polar\":{\"bgcolor\":\"#E5ECF6\",\"angularaxis\":{\"gridcolor\":\"white\",\"linecolor\":\"white\",\"ticks\":\"\"},\"radialaxis\":{\"gridcolor\":\"white\",\"linecolor\":\"white\",\"ticks\":\"\"}},\"ternary\":{\"bgcolor\":\"#E5ECF6\",\"aaxis\":{\"gridcolor\":\"white\",\"linecolor\":\"white\",\"ticks\":\"\"},\"baxis\":{\"gridcolor\":\"white\",\"linecolor\":\"white\",\"ticks\":\"\"},\"caxis\":{\"gridcolor\":\"white\",\"linecolor\":\"white\",\"ticks\":\"\"}},\"coloraxis\":{\"colorbar\":{\"outlinewidth\":0,\"ticks\":\"\"}},\"colorscale\":{\"sequential\":[[0.0,\"#0d0887\"],[0.1111111111111111,\"#46039f\"],[0.2222222222222222,\"#7201a8\"],[0.3333333333333333,\"#9c179e\"],[0.4444444444444444,\"#bd3786\"],[0.5555555555555556,\"#d8576b\"],[0.6666666666666666,\"#ed7953\"],[0.7777777777777778,\"#fb9f3a\"],[0.8888888888888888,\"#fdca26\"],[1.0,\"#f0f921\"]],\"sequentialminus\":[[0.0,\"#0d0887\"],[0.1111111111111111,\"#46039f\"],[0.2222222222222222,\"#7201a8\"],[0.3333333333333333,\"#9c179e\"],[0.4444444444444444,\"#bd3786\"],[0.5555555555555556,\"#d8576b\"],[0.6666666666666666,\"#ed7953\"],[0.7777777777777778,\"#fb9f3a\"],[0.8888888888888888,\"#fdca26\"],[1.0,\"#f0f921\"]],\"diverging\":[[0,\"#8e0152\"],[0.1,\"#c51b7d\"],[0.2,\"#de77ae\"],[0.3,\"#f1b6da\"],[0.4,\"#fde0ef\"],[0.5,\"#f7f7f7\"],[0.6,\"#e6f5d0\"],[0.7,\"#b8e186\"],[0.8,\"#7fbc41\"],[0.9,\"#4d9221\"],[1,\"#276419\"]]},\"xaxis\":{\"gridcolor\":\"white\",\"linecolor\":\"white\",\"ticks\":\"\",\"title\":{\"standoff\":15},\"zerolinecolor\":\"white\",\"automargin\":true,\"zerolinewidth\":2},\"yaxis\":{\"gridcolor\":\"white\",\"linecolor\":\"white\",\"ticks\":\"\",\"title\":{\"standoff\":15},\"zerolinecolor\":\"white\",\"automargin\":true,\"zerolinewidth\":2},\"scene\":{\"xaxis\":{\"backgroundcolor\":\"#E5ECF6\",\"gridcolor\":\"white\",\"linecolor\":\"white\",\"showbackground\":true,\"ticks\":\"\",\"zerolinecolor\":\"white\",\"gridwidth\":2},\"yaxis\":{\"backgroundcolor\":\"#E5ECF6\",\"gridcolor\":\"white\",\"linecolor\":\"white\",\"showbackground\":true,\"ticks\":\"\",\"zerolinecolor\":\"white\",\"gridwidth\":2},\"zaxis\":{\"backgroundcolor\":\"#E5ECF6\",\"gridcolor\":\"white\",\"linecolor\":\"white\",\"showbackground\":true,\"ticks\":\"\",\"zerolinecolor\":\"white\",\"gridwidth\":2}},\"shapedefaults\":{\"line\":{\"color\":\"#2a3f5f\"}},\"annotationdefaults\":{\"arrowcolor\":\"#2a3f5f\",\"arrowhead\":0,\"arrowwidth\":1},\"geo\":{\"bgcolor\":\"white\",\"landcolor\":\"#E5ECF6\",\"subunitcolor\":\"white\",\"showland\":true,\"showlakes\":true,\"lakecolor\":\"white\"},\"title\":{\"x\":0.05},\"mapbox\":{\"style\":\"light\"}}},\"xaxis\":{\"anchor\":\"y\",\"domain\":[0.0,1.0],\"title\":{\"text\":\"Position/Country\"},\"ticktext\":[\"Finland\",\"Germany\",\"Mexico\",\"Netherlands\",\"Spain\",\"UK\",\"USA\"],\"tickvals\":[\"Finland\",\"Germany\",\"Mexico\",\"Netherlands\",\"Spain\",\"UK\",\"USA\"]},\"yaxis\":{\"anchor\":\"x\",\"domain\":[0.0,1.0],\"title\":{\"text\":\"\"},\"ticksuffix\":\"%\"},\"legend\":{\"title\":{\"text\":\"\"},\"tracegroupgap\":0},\"title\":{\"text\":\"Distribution of opinions voiced about the Maine\\u2019s explosion by country\"},\"barmode\":\"relative\",\"barnorm\":\"percent\"},                        {\"responsive\": true}                    ).then(function(){\n",
       "                            \n",
       "var gd = document.getElementById('d0f6e2b5-164f-49c4-892c-51c6f8b4139d');\n",
       "var x = new MutationObserver(function (mutations, observer) {{\n",
       "        var display = window.getComputedStyle(gd).display;\n",
       "        if (!display || display === 'none') {{\n",
       "            console.log([gd, 'removed!']);\n",
       "            Plotly.purge(gd);\n",
       "            observer.disconnect();\n",
       "        }}\n",
       "}});\n",
       "\n",
       "// Listen for the removal of the full notebook cells\n",
       "var notebookContainer = gd.closest('#notebook-container');\n",
       "if (notebookContainer) {{\n",
       "    x.observe(notebookContainer, {childList: true});\n",
       "}}\n",
       "\n",
       "// Listen for the clearing of the current output cell\n",
       "var outputEl = gd.closest('.output');\n",
       "if (outputEl) {{\n",
       "    x.observe(outputEl, {childList: true});\n",
       "}}\n",
       "\n",
       "                        })                };                });            </script>        </div>"
      ]
     },
     "metadata": {},
     "output_type": "display_data"
    }
   ],
   "source": [
    "import pandas as pd\n",
    "import plotly.express as px\n",
    "\n",
    "df = pd.read_csv(\"https://raw.githubusercontent.com/Seydii/USSMaine/main/fig1.csv\")\n",
    "fig=px.histogram(df, x=[\"Finland\",\"Germany\",\"Mexico\", \"Netherlands\",\"Spain\",\"UK\",\"USA\"], y = [\"Attack\",\"Accident\",\"Suspend opinion\"],barnorm= \"percent\",title=\"Distribution of opinions voiced about the Maine’s explosion by country\", labels={\n",
    "    \"x\":\"Position/Country\"\n",
    "})\n",
    "fig.update_layout(    \n",
    "yaxis_title=\"\",\n",
    "legend_title=\"\")\n",
    "fig.update_yaxes (ticksuffix=\"%\")\n",
    "fig.update_xaxes (\n",
    "ticktext= [\"Finland\",\"Germany\",\"Mexico\", \"Netherlands\",\"Spain\",\"UK\",\"USA\"],\n",
    "tickvals= [\"Finland\",\"Germany\",\"Mexico\", \"Netherlands\",\"Spain\",\"UK\",\"USA\"])\n",
    "fig.show(metadata={ \"jdh\":{\"object\":{\"source\":[ \"Distribution of opinions voiced about the Maine’s explosion by country\" ]}}})"
   ]
  },
  {
   "cell_type": "markdown",
   "id": "1e89cbe5",
   "metadata": {
    "tags": [
     "hermeneutics"
    ]
   },
   "source": [
    "#### Data Normalization"
   ]
  },
  {
   "cell_type": "markdown",
   "id": "c3449d8d",
   "metadata": {
    "tags": [
     "hermeneutics"
    ]
   },
   "source": [
    "Most countries clearly express many unknown speakers' opinions, which we cannot identify from the context. In addition, the graphs are normalized to the number of helpful \"opinion\" hits in the final corpus. It does not include all undecided data. With this normalization, we can see comparable trends per country. "
   ]
  },
  {
   "cell_type": "markdown",
   "id": "fcd182a8",
   "metadata": {},
   "source": [
    "Concerning the question of accident or intent, most newspapers studied in our project referenced the opinions of military personnel and politicians, followed by experts (e.g., engineers), survivors of the *Maine*, and other journalists. When we take a closer look at the voices that called the sinking a deliberate attack ([figure 4](#anchor-figure-4)), it is interesting to note that in Mexico and the U.K., this position was mostly held by politicians, whereas in the U.S., a broader range of actors argued in favor of the attack hypothesis."
   ]
  },
  {
   "cell_type": "code",
   "execution_count": 13,
   "id": "5b1163f3",
   "metadata": {
    "tags": [
     "figure-4"
    ]
   },
   "outputs": [
    {
     "data": {
      "application/vnd.plotly.v1+json": {
       "config": {
        "plotlyServerURL": "https://plot.ly"
       },
       "data": [
        {
         "alignmentgroup": "True",
         "bingroup": "x",
         "histfunc": "sum",
         "hovertemplate": "variable=Experts<br>Country=%{x}<br>sum of value (normalized as fraction)=%{y}<extra></extra>",
         "legendgroup": "Experts",
         "marker": {
          "color": "#636efa",
          "pattern": {
           "shape": ""
          }
         },
         "name": "Experts",
         "offsetgroup": "Experts",
         "orientation": "v",
         "showlegend": true,
         "type": "histogram",
         "x": [
          "Finland",
          "Germany",
          "Mexico",
          "Netherlands",
          "Spain",
          "UK",
          "USA"
         ],
         "xaxis": "x",
         "y": [
          1,
          0,
          0,
          0,
          0,
          0,
          0.1369863014
         ],
         "yaxis": "y"
        },
        {
         "alignmentgroup": "True",
         "bingroup": "x",
         "histfunc": "sum",
         "hovertemplate": "variable=Journalists<br>Country=%{x}<br>sum of value (normalized as fraction)=%{y}<extra></extra>",
         "legendgroup": "Journalists",
         "marker": {
          "color": "#EF553B",
          "pattern": {
           "shape": ""
          }
         },
         "name": "Journalists",
         "offsetgroup": "Journalists",
         "orientation": "v",
         "showlegend": true,
         "type": "histogram",
         "x": [
          "Finland",
          "Germany",
          "Mexico",
          "Netherlands",
          "Spain",
          "UK",
          "USA"
         ],
         "xaxis": "x",
         "y": [
          0,
          0,
          0,
          0.5,
          0,
          0,
          0.02739726027
         ],
         "yaxis": "y"
        },
        {
         "alignmentgroup": "True",
         "bingroup": "x",
         "histfunc": "sum",
         "hovertemplate": "variable=Military Personnel<br>Country=%{x}<br>sum of value (normalized as fraction)=%{y}<extra></extra>",
         "legendgroup": "Military Personnel",
         "marker": {
          "color": "#00cc96",
          "pattern": {
           "shape": ""
          }
         },
         "name": "Military Personnel",
         "offsetgroup": "Military Personnel",
         "orientation": "v",
         "showlegend": true,
         "type": "histogram",
         "x": [
          "Finland",
          "Germany",
          "Mexico",
          "Netherlands",
          "Spain",
          "UK",
          "USA"
         ],
         "xaxis": "x",
         "y": [
          0,
          0,
          0,
          0,
          0,
          0,
          0.1050228311
         ],
         "yaxis": "y"
        },
        {
         "alignmentgroup": "True",
         "bingroup": "x",
         "histfunc": "sum",
         "hovertemplate": "variable=Politicians<br>Country=%{x}<br>sum of value (normalized as fraction)=%{y}<extra></extra>",
         "legendgroup": "Politicians",
         "marker": {
          "color": "#ab63fa",
          "pattern": {
           "shape": ""
          }
         },
         "name": "Politicians",
         "offsetgroup": "Politicians",
         "orientation": "v",
         "showlegend": true,
         "type": "histogram",
         "x": [
          "Finland",
          "Germany",
          "Mexico",
          "Netherlands",
          "Spain",
          "UK",
          "USA"
         ],
         "xaxis": "x",
         "y": [
          0,
          0,
          0.4545454545,
          0,
          0.1111111111,
          0.5,
          0.1369863014
         ],
         "yaxis": "y"
        },
        {
         "alignmentgroup": "True",
         "bingroup": "x",
         "histfunc": "sum",
         "hovertemplate": "variable=Sigsbee<br>Country=%{x}<br>sum of value (normalized as fraction)=%{y}<extra></extra>",
         "legendgroup": "Sigsbee",
         "marker": {
          "color": "#FFA15A",
          "pattern": {
           "shape": ""
          }
         },
         "name": "Sigsbee",
         "offsetgroup": "Sigsbee",
         "orientation": "v",
         "showlegend": true,
         "type": "histogram",
         "x": [
          "Finland",
          "Germany",
          "Mexico",
          "Netherlands",
          "Spain",
          "UK",
          "USA"
         ],
         "xaxis": "x",
         "y": [
          0,
          0,
          0.2727272727,
          0,
          0,
          0,
          0.1232876712
         ],
         "yaxis": "y"
        },
        {
         "alignmentgroup": "True",
         "bingroup": "x",
         "histfunc": "sum",
         "hovertemplate": "variable=Survivors<br>Country=%{x}<br>sum of value (normalized as fraction)=%{y}<extra></extra>",
         "legendgroup": "Survivors",
         "marker": {
          "color": "#19d3f3",
          "pattern": {
           "shape": ""
          }
         },
         "name": "Survivors",
         "offsetgroup": "Survivors",
         "orientation": "v",
         "showlegend": true,
         "type": "histogram",
         "x": [
          "Finland",
          "Germany",
          "Mexico",
          "Netherlands",
          "Spain",
          "UK",
          "USA"
         ],
         "xaxis": "x",
         "y": [
          0,
          0,
          0,
          0,
          0,
          0,
          0.05936073059
         ],
         "yaxis": "y"
        },
        {
         "alignmentgroup": "True",
         "bingroup": "x",
         "histfunc": "sum",
         "hovertemplate": "variable=Unknow Speaker<br>Country=%{x}<br>sum of value (normalized as fraction)=%{y}<extra></extra>",
         "legendgroup": "Unknow Speaker",
         "marker": {
          "color": "#FF6692",
          "pattern": {
           "shape": ""
          }
         },
         "name": "Unknow Speaker",
         "offsetgroup": "Unknow Speaker",
         "orientation": "v",
         "showlegend": true,
         "type": "histogram",
         "x": [
          "Finland",
          "Germany",
          "Mexico",
          "Netherlands",
          "Spain",
          "UK",
          "USA"
         ],
         "xaxis": "x",
         "y": [
          0,
          1,
          0.2727272727,
          0.5,
          0.8888888889,
          0.5,
          0.4109589041
         ],
         "yaxis": "y"
        }
       ],
       "layout": {
        "barmode": "relative",
        "barnorm": "fraction",
        "legend": {
         "title": {
          "text": ""
         },
         "tracegroupgap": 0
        },
        "template": {
         "data": {
          "bar": [
           {
            "error_x": {
             "color": "#2a3f5f"
            },
            "error_y": {
             "color": "#2a3f5f"
            },
            "marker": {
             "line": {
              "color": "#E5ECF6",
              "width": 0.5
             },
             "pattern": {
              "fillmode": "overlay",
              "size": 10,
              "solidity": 0.2
             }
            },
            "type": "bar"
           }
          ],
          "barpolar": [
           {
            "marker": {
             "line": {
              "color": "#E5ECF6",
              "width": 0.5
             },
             "pattern": {
              "fillmode": "overlay",
              "size": 10,
              "solidity": 0.2
             }
            },
            "type": "barpolar"
           }
          ],
          "carpet": [
           {
            "aaxis": {
             "endlinecolor": "#2a3f5f",
             "gridcolor": "white",
             "linecolor": "white",
             "minorgridcolor": "white",
             "startlinecolor": "#2a3f5f"
            },
            "baxis": {
             "endlinecolor": "#2a3f5f",
             "gridcolor": "white",
             "linecolor": "white",
             "minorgridcolor": "white",
             "startlinecolor": "#2a3f5f"
            },
            "type": "carpet"
           }
          ],
          "choropleth": [
           {
            "colorbar": {
             "outlinewidth": 0,
             "ticks": ""
            },
            "type": "choropleth"
           }
          ],
          "contour": [
           {
            "colorbar": {
             "outlinewidth": 0,
             "ticks": ""
            },
            "colorscale": [
             [
              0,
              "#0d0887"
             ],
             [
              0.1111111111111111,
              "#46039f"
             ],
             [
              0.2222222222222222,
              "#7201a8"
             ],
             [
              0.3333333333333333,
              "#9c179e"
             ],
             [
              0.4444444444444444,
              "#bd3786"
             ],
             [
              0.5555555555555556,
              "#d8576b"
             ],
             [
              0.6666666666666666,
              "#ed7953"
             ],
             [
              0.7777777777777778,
              "#fb9f3a"
             ],
             [
              0.8888888888888888,
              "#fdca26"
             ],
             [
              1,
              "#f0f921"
             ]
            ],
            "type": "contour"
           }
          ],
          "contourcarpet": [
           {
            "colorbar": {
             "outlinewidth": 0,
             "ticks": ""
            },
            "type": "contourcarpet"
           }
          ],
          "heatmap": [
           {
            "colorbar": {
             "outlinewidth": 0,
             "ticks": ""
            },
            "colorscale": [
             [
              0,
              "#0d0887"
             ],
             [
              0.1111111111111111,
              "#46039f"
             ],
             [
              0.2222222222222222,
              "#7201a8"
             ],
             [
              0.3333333333333333,
              "#9c179e"
             ],
             [
              0.4444444444444444,
              "#bd3786"
             ],
             [
              0.5555555555555556,
              "#d8576b"
             ],
             [
              0.6666666666666666,
              "#ed7953"
             ],
             [
              0.7777777777777778,
              "#fb9f3a"
             ],
             [
              0.8888888888888888,
              "#fdca26"
             ],
             [
              1,
              "#f0f921"
             ]
            ],
            "type": "heatmap"
           }
          ],
          "heatmapgl": [
           {
            "colorbar": {
             "outlinewidth": 0,
             "ticks": ""
            },
            "colorscale": [
             [
              0,
              "#0d0887"
             ],
             [
              0.1111111111111111,
              "#46039f"
             ],
             [
              0.2222222222222222,
              "#7201a8"
             ],
             [
              0.3333333333333333,
              "#9c179e"
             ],
             [
              0.4444444444444444,
              "#bd3786"
             ],
             [
              0.5555555555555556,
              "#d8576b"
             ],
             [
              0.6666666666666666,
              "#ed7953"
             ],
             [
              0.7777777777777778,
              "#fb9f3a"
             ],
             [
              0.8888888888888888,
              "#fdca26"
             ],
             [
              1,
              "#f0f921"
             ]
            ],
            "type": "heatmapgl"
           }
          ],
          "histogram": [
           {
            "marker": {
             "pattern": {
              "fillmode": "overlay",
              "size": 10,
              "solidity": 0.2
             }
            },
            "type": "histogram"
           }
          ],
          "histogram2d": [
           {
            "colorbar": {
             "outlinewidth": 0,
             "ticks": ""
            },
            "colorscale": [
             [
              0,
              "#0d0887"
             ],
             [
              0.1111111111111111,
              "#46039f"
             ],
             [
              0.2222222222222222,
              "#7201a8"
             ],
             [
              0.3333333333333333,
              "#9c179e"
             ],
             [
              0.4444444444444444,
              "#bd3786"
             ],
             [
              0.5555555555555556,
              "#d8576b"
             ],
             [
              0.6666666666666666,
              "#ed7953"
             ],
             [
              0.7777777777777778,
              "#fb9f3a"
             ],
             [
              0.8888888888888888,
              "#fdca26"
             ],
             [
              1,
              "#f0f921"
             ]
            ],
            "type": "histogram2d"
           }
          ],
          "histogram2dcontour": [
           {
            "colorbar": {
             "outlinewidth": 0,
             "ticks": ""
            },
            "colorscale": [
             [
              0,
              "#0d0887"
             ],
             [
              0.1111111111111111,
              "#46039f"
             ],
             [
              0.2222222222222222,
              "#7201a8"
             ],
             [
              0.3333333333333333,
              "#9c179e"
             ],
             [
              0.4444444444444444,
              "#bd3786"
             ],
             [
              0.5555555555555556,
              "#d8576b"
             ],
             [
              0.6666666666666666,
              "#ed7953"
             ],
             [
              0.7777777777777778,
              "#fb9f3a"
             ],
             [
              0.8888888888888888,
              "#fdca26"
             ],
             [
              1,
              "#f0f921"
             ]
            ],
            "type": "histogram2dcontour"
           }
          ],
          "mesh3d": [
           {
            "colorbar": {
             "outlinewidth": 0,
             "ticks": ""
            },
            "type": "mesh3d"
           }
          ],
          "parcoords": [
           {
            "line": {
             "colorbar": {
              "outlinewidth": 0,
              "ticks": ""
             }
            },
            "type": "parcoords"
           }
          ],
          "pie": [
           {
            "automargin": true,
            "type": "pie"
           }
          ],
          "scatter": [
           {
            "fillpattern": {
             "fillmode": "overlay",
             "size": 10,
             "solidity": 0.2
            },
            "type": "scatter"
           }
          ],
          "scatter3d": [
           {
            "line": {
             "colorbar": {
              "outlinewidth": 0,
              "ticks": ""
             }
            },
            "marker": {
             "colorbar": {
              "outlinewidth": 0,
              "ticks": ""
             }
            },
            "type": "scatter3d"
           }
          ],
          "scattercarpet": [
           {
            "marker": {
             "colorbar": {
              "outlinewidth": 0,
              "ticks": ""
             }
            },
            "type": "scattercarpet"
           }
          ],
          "scattergeo": [
           {
            "marker": {
             "colorbar": {
              "outlinewidth": 0,
              "ticks": ""
             }
            },
            "type": "scattergeo"
           }
          ],
          "scattergl": [
           {
            "marker": {
             "colorbar": {
              "outlinewidth": 0,
              "ticks": ""
             }
            },
            "type": "scattergl"
           }
          ],
          "scattermapbox": [
           {
            "marker": {
             "colorbar": {
              "outlinewidth": 0,
              "ticks": ""
             }
            },
            "type": "scattermapbox"
           }
          ],
          "scatterpolar": [
           {
            "marker": {
             "colorbar": {
              "outlinewidth": 0,
              "ticks": ""
             }
            },
            "type": "scatterpolar"
           }
          ],
          "scatterpolargl": [
           {
            "marker": {
             "colorbar": {
              "outlinewidth": 0,
              "ticks": ""
             }
            },
            "type": "scatterpolargl"
           }
          ],
          "scatterternary": [
           {
            "marker": {
             "colorbar": {
              "outlinewidth": 0,
              "ticks": ""
             }
            },
            "type": "scatterternary"
           }
          ],
          "surface": [
           {
            "colorbar": {
             "outlinewidth": 0,
             "ticks": ""
            },
            "colorscale": [
             [
              0,
              "#0d0887"
             ],
             [
              0.1111111111111111,
              "#46039f"
             ],
             [
              0.2222222222222222,
              "#7201a8"
             ],
             [
              0.3333333333333333,
              "#9c179e"
             ],
             [
              0.4444444444444444,
              "#bd3786"
             ],
             [
              0.5555555555555556,
              "#d8576b"
             ],
             [
              0.6666666666666666,
              "#ed7953"
             ],
             [
              0.7777777777777778,
              "#fb9f3a"
             ],
             [
              0.8888888888888888,
              "#fdca26"
             ],
             [
              1,
              "#f0f921"
             ]
            ],
            "type": "surface"
           }
          ],
          "table": [
           {
            "cells": {
             "fill": {
              "color": "#EBF0F8"
             },
             "line": {
              "color": "white"
             }
            },
            "header": {
             "fill": {
              "color": "#C8D4E3"
             },
             "line": {
              "color": "white"
             }
            },
            "type": "table"
           }
          ]
         },
         "layout": {
          "annotationdefaults": {
           "arrowcolor": "#2a3f5f",
           "arrowhead": 0,
           "arrowwidth": 1
          },
          "autotypenumbers": "strict",
          "coloraxis": {
           "colorbar": {
            "outlinewidth": 0,
            "ticks": ""
           }
          },
          "colorscale": {
           "diverging": [
            [
             0,
             "#8e0152"
            ],
            [
             0.1,
             "#c51b7d"
            ],
            [
             0.2,
             "#de77ae"
            ],
            [
             0.3,
             "#f1b6da"
            ],
            [
             0.4,
             "#fde0ef"
            ],
            [
             0.5,
             "#f7f7f7"
            ],
            [
             0.6,
             "#e6f5d0"
            ],
            [
             0.7,
             "#b8e186"
            ],
            [
             0.8,
             "#7fbc41"
            ],
            [
             0.9,
             "#4d9221"
            ],
            [
             1,
             "#276419"
            ]
           ],
           "sequential": [
            [
             0,
             "#0d0887"
            ],
            [
             0.1111111111111111,
             "#46039f"
            ],
            [
             0.2222222222222222,
             "#7201a8"
            ],
            [
             0.3333333333333333,
             "#9c179e"
            ],
            [
             0.4444444444444444,
             "#bd3786"
            ],
            [
             0.5555555555555556,
             "#d8576b"
            ],
            [
             0.6666666666666666,
             "#ed7953"
            ],
            [
             0.7777777777777778,
             "#fb9f3a"
            ],
            [
             0.8888888888888888,
             "#fdca26"
            ],
            [
             1,
             "#f0f921"
            ]
           ],
           "sequentialminus": [
            [
             0,
             "#0d0887"
            ],
            [
             0.1111111111111111,
             "#46039f"
            ],
            [
             0.2222222222222222,
             "#7201a8"
            ],
            [
             0.3333333333333333,
             "#9c179e"
            ],
            [
             0.4444444444444444,
             "#bd3786"
            ],
            [
             0.5555555555555556,
             "#d8576b"
            ],
            [
             0.6666666666666666,
             "#ed7953"
            ],
            [
             0.7777777777777778,
             "#fb9f3a"
            ],
            [
             0.8888888888888888,
             "#fdca26"
            ],
            [
             1,
             "#f0f921"
            ]
           ]
          },
          "colorway": [
           "#636efa",
           "#EF553B",
           "#00cc96",
           "#ab63fa",
           "#FFA15A",
           "#19d3f3",
           "#FF6692",
           "#B6E880",
           "#FF97FF",
           "#FECB52"
          ],
          "font": {
           "color": "#2a3f5f"
          },
          "geo": {
           "bgcolor": "white",
           "lakecolor": "white",
           "landcolor": "#E5ECF6",
           "showlakes": true,
           "showland": true,
           "subunitcolor": "white"
          },
          "hoverlabel": {
           "align": "left"
          },
          "hovermode": "closest",
          "mapbox": {
           "style": "light"
          },
          "paper_bgcolor": "white",
          "plot_bgcolor": "#E5ECF6",
          "polar": {
           "angularaxis": {
            "gridcolor": "white",
            "linecolor": "white",
            "ticks": ""
           },
           "bgcolor": "#E5ECF6",
           "radialaxis": {
            "gridcolor": "white",
            "linecolor": "white",
            "ticks": ""
           }
          },
          "scene": {
           "xaxis": {
            "backgroundcolor": "#E5ECF6",
            "gridcolor": "white",
            "gridwidth": 2,
            "linecolor": "white",
            "showbackground": true,
            "ticks": "",
            "zerolinecolor": "white"
           },
           "yaxis": {
            "backgroundcolor": "#E5ECF6",
            "gridcolor": "white",
            "gridwidth": 2,
            "linecolor": "white",
            "showbackground": true,
            "ticks": "",
            "zerolinecolor": "white"
           },
           "zaxis": {
            "backgroundcolor": "#E5ECF6",
            "gridcolor": "white",
            "gridwidth": 2,
            "linecolor": "white",
            "showbackground": true,
            "ticks": "",
            "zerolinecolor": "white"
           }
          },
          "shapedefaults": {
           "line": {
            "color": "#2a3f5f"
           }
          },
          "ternary": {
           "aaxis": {
            "gridcolor": "white",
            "linecolor": "white",
            "ticks": ""
           },
           "baxis": {
            "gridcolor": "white",
            "linecolor": "white",
            "ticks": ""
           },
           "bgcolor": "#E5ECF6",
           "caxis": {
            "gridcolor": "white",
            "linecolor": "white",
            "ticks": ""
           }
          },
          "title": {
           "x": 0.05
          },
          "xaxis": {
           "automargin": true,
           "gridcolor": "white",
           "linecolor": "white",
           "ticks": "",
           "title": {
            "standoff": 15
           },
           "zerolinecolor": "white",
           "zerolinewidth": 2
          },
          "yaxis": {
           "automargin": true,
           "gridcolor": "white",
           "linecolor": "white",
           "ticks": "",
           "title": {
            "standoff": 15
           },
           "zerolinecolor": "white",
           "zerolinewidth": 2
          }
         }
        },
        "title": {
         "text": "Distribution of speakers leaning towards attack hypothesis by country"
        },
        "xaxis": {
         "anchor": "y",
         "domain": [
          0,
          1
         ],
         "ticktext": [
          "Finland",
          "Germany",
          "Mexico",
          "Netherlands",
          "Spain",
          "UK",
          "USA"
         ],
         "tickvals": [
          "Finland",
          "Germany",
          "Mexico",
          "Netherlands",
          "Spain",
          "UK",
          "USA"
         ],
         "title": {
          "text": "Country"
         }
        },
        "yaxis": {
         "anchor": "x",
         "domain": [
          0,
          1
         ],
         "title": {
          "text": ""
         }
        }
       }
      },
      "text/html": [
       "<div>                            <div id=\"fe68b3c3-fb6f-4e56-9d06-3ed3d80bc398\" class=\"plotly-graph-div\" style=\"height:525px; width:100%;\"></div>            <script type=\"text/javascript\">                require([\"plotly\"], function(Plotly) {                    window.PLOTLYENV=window.PLOTLYENV || {};                                    if (document.getElementById(\"fe68b3c3-fb6f-4e56-9d06-3ed3d80bc398\")) {                    Plotly.newPlot(                        \"fe68b3c3-fb6f-4e56-9d06-3ed3d80bc398\",                        [{\"alignmentgroup\":\"True\",\"bingroup\":\"x\",\"histfunc\":\"sum\",\"hovertemplate\":\"variable=Experts<br>Country=%{x}<br>sum of value (normalized as fraction)=%{y}<extra></extra>\",\"legendgroup\":\"Experts\",\"marker\":{\"color\":\"#636efa\",\"pattern\":{\"shape\":\"\"}},\"name\":\"Experts\",\"offsetgroup\":\"Experts\",\"orientation\":\"v\",\"showlegend\":true,\"x\":[\"Finland\",\"Germany\",\"Mexico\",\"Netherlands\",\"Spain\",\"UK\",\"USA\"],\"xaxis\":\"x\",\"y\":[1.0,0.0,0.0,0.0,0.0,0.0,0.1369863014],\"yaxis\":\"y\",\"type\":\"histogram\"},{\"alignmentgroup\":\"True\",\"bingroup\":\"x\",\"histfunc\":\"sum\",\"hovertemplate\":\"variable=Journalists<br>Country=%{x}<br>sum of value (normalized as fraction)=%{y}<extra></extra>\",\"legendgroup\":\"Journalists\",\"marker\":{\"color\":\"#EF553B\",\"pattern\":{\"shape\":\"\"}},\"name\":\"Journalists\",\"offsetgroup\":\"Journalists\",\"orientation\":\"v\",\"showlegend\":true,\"x\":[\"Finland\",\"Germany\",\"Mexico\",\"Netherlands\",\"Spain\",\"UK\",\"USA\"],\"xaxis\":\"x\",\"y\":[0.0,0.0,0.0,0.5,0.0,0.0,0.02739726027],\"yaxis\":\"y\",\"type\":\"histogram\"},{\"alignmentgroup\":\"True\",\"bingroup\":\"x\",\"histfunc\":\"sum\",\"hovertemplate\":\"variable=Military Personnel<br>Country=%{x}<br>sum of value (normalized as fraction)=%{y}<extra></extra>\",\"legendgroup\":\"Military Personnel\",\"marker\":{\"color\":\"#00cc96\",\"pattern\":{\"shape\":\"\"}},\"name\":\"Military Personnel\",\"offsetgroup\":\"Military Personnel\",\"orientation\":\"v\",\"showlegend\":true,\"x\":[\"Finland\",\"Germany\",\"Mexico\",\"Netherlands\",\"Spain\",\"UK\",\"USA\"],\"xaxis\":\"x\",\"y\":[0.0,0.0,0.0,0.0,0.0,0.0,0.1050228311],\"yaxis\":\"y\",\"type\":\"histogram\"},{\"alignmentgroup\":\"True\",\"bingroup\":\"x\",\"histfunc\":\"sum\",\"hovertemplate\":\"variable=Politicians<br>Country=%{x}<br>sum of value (normalized as fraction)=%{y}<extra></extra>\",\"legendgroup\":\"Politicians\",\"marker\":{\"color\":\"#ab63fa\",\"pattern\":{\"shape\":\"\"}},\"name\":\"Politicians\",\"offsetgroup\":\"Politicians\",\"orientation\":\"v\",\"showlegend\":true,\"x\":[\"Finland\",\"Germany\",\"Mexico\",\"Netherlands\",\"Spain\",\"UK\",\"USA\"],\"xaxis\":\"x\",\"y\":[0.0,0.0,0.4545454545,0.0,0.1111111111,0.5,0.1369863014],\"yaxis\":\"y\",\"type\":\"histogram\"},{\"alignmentgroup\":\"True\",\"bingroup\":\"x\",\"histfunc\":\"sum\",\"hovertemplate\":\"variable=Sigsbee<br>Country=%{x}<br>sum of value (normalized as fraction)=%{y}<extra></extra>\",\"legendgroup\":\"Sigsbee\",\"marker\":{\"color\":\"#FFA15A\",\"pattern\":{\"shape\":\"\"}},\"name\":\"Sigsbee\",\"offsetgroup\":\"Sigsbee\",\"orientation\":\"v\",\"showlegend\":true,\"x\":[\"Finland\",\"Germany\",\"Mexico\",\"Netherlands\",\"Spain\",\"UK\",\"USA\"],\"xaxis\":\"x\",\"y\":[0.0,0.0,0.2727272727,0.0,0.0,0.0,0.1232876712],\"yaxis\":\"y\",\"type\":\"histogram\"},{\"alignmentgroup\":\"True\",\"bingroup\":\"x\",\"histfunc\":\"sum\",\"hovertemplate\":\"variable=Survivors<br>Country=%{x}<br>sum of value (normalized as fraction)=%{y}<extra></extra>\",\"legendgroup\":\"Survivors\",\"marker\":{\"color\":\"#19d3f3\",\"pattern\":{\"shape\":\"\"}},\"name\":\"Survivors\",\"offsetgroup\":\"Survivors\",\"orientation\":\"v\",\"showlegend\":true,\"x\":[\"Finland\",\"Germany\",\"Mexico\",\"Netherlands\",\"Spain\",\"UK\",\"USA\"],\"xaxis\":\"x\",\"y\":[0.0,0.0,0.0,0.0,0.0,0.0,0.05936073059],\"yaxis\":\"y\",\"type\":\"histogram\"},{\"alignmentgroup\":\"True\",\"bingroup\":\"x\",\"histfunc\":\"sum\",\"hovertemplate\":\"variable=Unknow Speaker<br>Country=%{x}<br>sum of value (normalized as fraction)=%{y}<extra></extra>\",\"legendgroup\":\"Unknow Speaker\",\"marker\":{\"color\":\"#FF6692\",\"pattern\":{\"shape\":\"\"}},\"name\":\"Unknow Speaker\",\"offsetgroup\":\"Unknow Speaker\",\"orientation\":\"v\",\"showlegend\":true,\"x\":[\"Finland\",\"Germany\",\"Mexico\",\"Netherlands\",\"Spain\",\"UK\",\"USA\"],\"xaxis\":\"x\",\"y\":[0.0,1.0,0.2727272727,0.5,0.8888888889,0.5,0.4109589041],\"yaxis\":\"y\",\"type\":\"histogram\"}],                        {\"template\":{\"data\":{\"histogram2dcontour\":[{\"type\":\"histogram2dcontour\",\"colorbar\":{\"outlinewidth\":0,\"ticks\":\"\"},\"colorscale\":[[0.0,\"#0d0887\"],[0.1111111111111111,\"#46039f\"],[0.2222222222222222,\"#7201a8\"],[0.3333333333333333,\"#9c179e\"],[0.4444444444444444,\"#bd3786\"],[0.5555555555555556,\"#d8576b\"],[0.6666666666666666,\"#ed7953\"],[0.7777777777777778,\"#fb9f3a\"],[0.8888888888888888,\"#fdca26\"],[1.0,\"#f0f921\"]]}],\"choropleth\":[{\"type\":\"choropleth\",\"colorbar\":{\"outlinewidth\":0,\"ticks\":\"\"}}],\"histogram2d\":[{\"type\":\"histogram2d\",\"colorbar\":{\"outlinewidth\":0,\"ticks\":\"\"},\"colorscale\":[[0.0,\"#0d0887\"],[0.1111111111111111,\"#46039f\"],[0.2222222222222222,\"#7201a8\"],[0.3333333333333333,\"#9c179e\"],[0.4444444444444444,\"#bd3786\"],[0.5555555555555556,\"#d8576b\"],[0.6666666666666666,\"#ed7953\"],[0.7777777777777778,\"#fb9f3a\"],[0.8888888888888888,\"#fdca26\"],[1.0,\"#f0f921\"]]}],\"heatmap\":[{\"type\":\"heatmap\",\"colorbar\":{\"outlinewidth\":0,\"ticks\":\"\"},\"colorscale\":[[0.0,\"#0d0887\"],[0.1111111111111111,\"#46039f\"],[0.2222222222222222,\"#7201a8\"],[0.3333333333333333,\"#9c179e\"],[0.4444444444444444,\"#bd3786\"],[0.5555555555555556,\"#d8576b\"],[0.6666666666666666,\"#ed7953\"],[0.7777777777777778,\"#fb9f3a\"],[0.8888888888888888,\"#fdca26\"],[1.0,\"#f0f921\"]]}],\"heatmapgl\":[{\"type\":\"heatmapgl\",\"colorbar\":{\"outlinewidth\":0,\"ticks\":\"\"},\"colorscale\":[[0.0,\"#0d0887\"],[0.1111111111111111,\"#46039f\"],[0.2222222222222222,\"#7201a8\"],[0.3333333333333333,\"#9c179e\"],[0.4444444444444444,\"#bd3786\"],[0.5555555555555556,\"#d8576b\"],[0.6666666666666666,\"#ed7953\"],[0.7777777777777778,\"#fb9f3a\"],[0.8888888888888888,\"#fdca26\"],[1.0,\"#f0f921\"]]}],\"contourcarpet\":[{\"type\":\"contourcarpet\",\"colorbar\":{\"outlinewidth\":0,\"ticks\":\"\"}}],\"contour\":[{\"type\":\"contour\",\"colorbar\":{\"outlinewidth\":0,\"ticks\":\"\"},\"colorscale\":[[0.0,\"#0d0887\"],[0.1111111111111111,\"#46039f\"],[0.2222222222222222,\"#7201a8\"],[0.3333333333333333,\"#9c179e\"],[0.4444444444444444,\"#bd3786\"],[0.5555555555555556,\"#d8576b\"],[0.6666666666666666,\"#ed7953\"],[0.7777777777777778,\"#fb9f3a\"],[0.8888888888888888,\"#fdca26\"],[1.0,\"#f0f921\"]]}],\"surface\":[{\"type\":\"surface\",\"colorbar\":{\"outlinewidth\":0,\"ticks\":\"\"},\"colorscale\":[[0.0,\"#0d0887\"],[0.1111111111111111,\"#46039f\"],[0.2222222222222222,\"#7201a8\"],[0.3333333333333333,\"#9c179e\"],[0.4444444444444444,\"#bd3786\"],[0.5555555555555556,\"#d8576b\"],[0.6666666666666666,\"#ed7953\"],[0.7777777777777778,\"#fb9f3a\"],[0.8888888888888888,\"#fdca26\"],[1.0,\"#f0f921\"]]}],\"mesh3d\":[{\"type\":\"mesh3d\",\"colorbar\":{\"outlinewidth\":0,\"ticks\":\"\"}}],\"scatter\":[{\"fillpattern\":{\"fillmode\":\"overlay\",\"size\":10,\"solidity\":0.2},\"type\":\"scatter\"}],\"parcoords\":[{\"type\":\"parcoords\",\"line\":{\"colorbar\":{\"outlinewidth\":0,\"ticks\":\"\"}}}],\"scatterpolargl\":[{\"type\":\"scatterpolargl\",\"marker\":{\"colorbar\":{\"outlinewidth\":0,\"ticks\":\"\"}}}],\"bar\":[{\"error_x\":{\"color\":\"#2a3f5f\"},\"error_y\":{\"color\":\"#2a3f5f\"},\"marker\":{\"line\":{\"color\":\"#E5ECF6\",\"width\":0.5},\"pattern\":{\"fillmode\":\"overlay\",\"size\":10,\"solidity\":0.2}},\"type\":\"bar\"}],\"scattergeo\":[{\"type\":\"scattergeo\",\"marker\":{\"colorbar\":{\"outlinewidth\":0,\"ticks\":\"\"}}}],\"scatterpolar\":[{\"type\":\"scatterpolar\",\"marker\":{\"colorbar\":{\"outlinewidth\":0,\"ticks\":\"\"}}}],\"histogram\":[{\"marker\":{\"pattern\":{\"fillmode\":\"overlay\",\"size\":10,\"solidity\":0.2}},\"type\":\"histogram\"}],\"scattergl\":[{\"type\":\"scattergl\",\"marker\":{\"colorbar\":{\"outlinewidth\":0,\"ticks\":\"\"}}}],\"scatter3d\":[{\"type\":\"scatter3d\",\"line\":{\"colorbar\":{\"outlinewidth\":0,\"ticks\":\"\"}},\"marker\":{\"colorbar\":{\"outlinewidth\":0,\"ticks\":\"\"}}}],\"scattermapbox\":[{\"type\":\"scattermapbox\",\"marker\":{\"colorbar\":{\"outlinewidth\":0,\"ticks\":\"\"}}}],\"scatterternary\":[{\"type\":\"scatterternary\",\"marker\":{\"colorbar\":{\"outlinewidth\":0,\"ticks\":\"\"}}}],\"scattercarpet\":[{\"type\":\"scattercarpet\",\"marker\":{\"colorbar\":{\"outlinewidth\":0,\"ticks\":\"\"}}}],\"carpet\":[{\"aaxis\":{\"endlinecolor\":\"#2a3f5f\",\"gridcolor\":\"white\",\"linecolor\":\"white\",\"minorgridcolor\":\"white\",\"startlinecolor\":\"#2a3f5f\"},\"baxis\":{\"endlinecolor\":\"#2a3f5f\",\"gridcolor\":\"white\",\"linecolor\":\"white\",\"minorgridcolor\":\"white\",\"startlinecolor\":\"#2a3f5f\"},\"type\":\"carpet\"}],\"table\":[{\"cells\":{\"fill\":{\"color\":\"#EBF0F8\"},\"line\":{\"color\":\"white\"}},\"header\":{\"fill\":{\"color\":\"#C8D4E3\"},\"line\":{\"color\":\"white\"}},\"type\":\"table\"}],\"barpolar\":[{\"marker\":{\"line\":{\"color\":\"#E5ECF6\",\"width\":0.5},\"pattern\":{\"fillmode\":\"overlay\",\"size\":10,\"solidity\":0.2}},\"type\":\"barpolar\"}],\"pie\":[{\"automargin\":true,\"type\":\"pie\"}]},\"layout\":{\"autotypenumbers\":\"strict\",\"colorway\":[\"#636efa\",\"#EF553B\",\"#00cc96\",\"#ab63fa\",\"#FFA15A\",\"#19d3f3\",\"#FF6692\",\"#B6E880\",\"#FF97FF\",\"#FECB52\"],\"font\":{\"color\":\"#2a3f5f\"},\"hovermode\":\"closest\",\"hoverlabel\":{\"align\":\"left\"},\"paper_bgcolor\":\"white\",\"plot_bgcolor\":\"#E5ECF6\",\"polar\":{\"bgcolor\":\"#E5ECF6\",\"angularaxis\":{\"gridcolor\":\"white\",\"linecolor\":\"white\",\"ticks\":\"\"},\"radialaxis\":{\"gridcolor\":\"white\",\"linecolor\":\"white\",\"ticks\":\"\"}},\"ternary\":{\"bgcolor\":\"#E5ECF6\",\"aaxis\":{\"gridcolor\":\"white\",\"linecolor\":\"white\",\"ticks\":\"\"},\"baxis\":{\"gridcolor\":\"white\",\"linecolor\":\"white\",\"ticks\":\"\"},\"caxis\":{\"gridcolor\":\"white\",\"linecolor\":\"white\",\"ticks\":\"\"}},\"coloraxis\":{\"colorbar\":{\"outlinewidth\":0,\"ticks\":\"\"}},\"colorscale\":{\"sequential\":[[0.0,\"#0d0887\"],[0.1111111111111111,\"#46039f\"],[0.2222222222222222,\"#7201a8\"],[0.3333333333333333,\"#9c179e\"],[0.4444444444444444,\"#bd3786\"],[0.5555555555555556,\"#d8576b\"],[0.6666666666666666,\"#ed7953\"],[0.7777777777777778,\"#fb9f3a\"],[0.8888888888888888,\"#fdca26\"],[1.0,\"#f0f921\"]],\"sequentialminus\":[[0.0,\"#0d0887\"],[0.1111111111111111,\"#46039f\"],[0.2222222222222222,\"#7201a8\"],[0.3333333333333333,\"#9c179e\"],[0.4444444444444444,\"#bd3786\"],[0.5555555555555556,\"#d8576b\"],[0.6666666666666666,\"#ed7953\"],[0.7777777777777778,\"#fb9f3a\"],[0.8888888888888888,\"#fdca26\"],[1.0,\"#f0f921\"]],\"diverging\":[[0,\"#8e0152\"],[0.1,\"#c51b7d\"],[0.2,\"#de77ae\"],[0.3,\"#f1b6da\"],[0.4,\"#fde0ef\"],[0.5,\"#f7f7f7\"],[0.6,\"#e6f5d0\"],[0.7,\"#b8e186\"],[0.8,\"#7fbc41\"],[0.9,\"#4d9221\"],[1,\"#276419\"]]},\"xaxis\":{\"gridcolor\":\"white\",\"linecolor\":\"white\",\"ticks\":\"\",\"title\":{\"standoff\":15},\"zerolinecolor\":\"white\",\"automargin\":true,\"zerolinewidth\":2},\"yaxis\":{\"gridcolor\":\"white\",\"linecolor\":\"white\",\"ticks\":\"\",\"title\":{\"standoff\":15},\"zerolinecolor\":\"white\",\"automargin\":true,\"zerolinewidth\":2},\"scene\":{\"xaxis\":{\"backgroundcolor\":\"#E5ECF6\",\"gridcolor\":\"white\",\"linecolor\":\"white\",\"showbackground\":true,\"ticks\":\"\",\"zerolinecolor\":\"white\",\"gridwidth\":2},\"yaxis\":{\"backgroundcolor\":\"#E5ECF6\",\"gridcolor\":\"white\",\"linecolor\":\"white\",\"showbackground\":true,\"ticks\":\"\",\"zerolinecolor\":\"white\",\"gridwidth\":2},\"zaxis\":{\"backgroundcolor\":\"#E5ECF6\",\"gridcolor\":\"white\",\"linecolor\":\"white\",\"showbackground\":true,\"ticks\":\"\",\"zerolinecolor\":\"white\",\"gridwidth\":2}},\"shapedefaults\":{\"line\":{\"color\":\"#2a3f5f\"}},\"annotationdefaults\":{\"arrowcolor\":\"#2a3f5f\",\"arrowhead\":0,\"arrowwidth\":1},\"geo\":{\"bgcolor\":\"white\",\"landcolor\":\"#E5ECF6\",\"subunitcolor\":\"white\",\"showland\":true,\"showlakes\":true,\"lakecolor\":\"white\"},\"title\":{\"x\":0.05},\"mapbox\":{\"style\":\"light\"}}},\"xaxis\":{\"anchor\":\"y\",\"domain\":[0.0,1.0],\"title\":{\"text\":\"Country\"},\"ticktext\":[\"Finland\",\"Germany\",\"Mexico\",\"Netherlands\",\"Spain\",\"UK\",\"USA\"],\"tickvals\":[\"Finland\",\"Germany\",\"Mexico\",\"Netherlands\",\"Spain\",\"UK\",\"USA\"]},\"yaxis\":{\"anchor\":\"x\",\"domain\":[0.0,1.0],\"title\":{\"text\":\"\"}},\"legend\":{\"title\":{\"text\":\"\"},\"tracegroupgap\":0},\"title\":{\"text\":\"Distribution of speakers leaning towards attack hypothesis by country\"},\"barmode\":\"relative\",\"barnorm\":\"fraction\"},                        {\"responsive\": true}                    ).then(function(){\n",
       "                            \n",
       "var gd = document.getElementById('fe68b3c3-fb6f-4e56-9d06-3ed3d80bc398');\n",
       "var x = new MutationObserver(function (mutations, observer) {{\n",
       "        var display = window.getComputedStyle(gd).display;\n",
       "        if (!display || display === 'none') {{\n",
       "            console.log([gd, 'removed!']);\n",
       "            Plotly.purge(gd);\n",
       "            observer.disconnect();\n",
       "        }}\n",
       "}});\n",
       "\n",
       "// Listen for the removal of the full notebook cells\n",
       "var notebookContainer = gd.closest('#notebook-container');\n",
       "if (notebookContainer) {{\n",
       "    x.observe(notebookContainer, {childList: true});\n",
       "}}\n",
       "\n",
       "// Listen for the clearing of the current output cell\n",
       "var outputEl = gd.closest('.output');\n",
       "if (outputEl) {{\n",
       "    x.observe(outputEl, {childList: true});\n",
       "}}\n",
       "\n",
       "                        })                };                });            </script>        </div>"
      ]
     },
     "metadata": {},
     "output_type": "display_data"
    }
   ],
   "source": [
    "import pandas as pd\n",
    "import plotly.express as px\n",
    "\n",
    "df = pd.read_csv(\"https://raw.githubusercontent.com/Seydii/USSMaine/Corpus/Figure%204.csv\")\n",
    "fig=px.histogram(df, x=[\"Finland\",\"Germany\",\"Mexico\", \"Netherlands\",\"Spain\",\"UK\",\"USA\"], y = [\"Experts\",\"Journalists\",\"Military Personnel\",\"Politicians\",\"Sigsbee\",\"Survivors\",\"Unknow Speaker\"],barnorm = \"fraction\",title=\"Distribution of speakers leaning towards attack hypothesis by country\",labels={\n",
    "    \"x\":\"Country\"\n",
    "})\n",
    "fig.update_layout(    \n",
    "yaxis_title=\"\",\n",
    "legend_title=\"\")\n",
    "fig.update_xaxes (\n",
    "ticktext= [\"Finland\",\"Germany\",\"Mexico\", \"Netherlands\",\"Spain\",\"UK\",\"USA\"],\n",
    "tickvals= [\"Finland\",\"Germany\",\"Mexico\", \"Netherlands\",\"Spain\",\"UK\",\"USA\"])\n",
    "fig.show(metadata={ \"jdh\":{\"object\":{\"source\":[ \"Distribution of speakers leaning towards attack hypothesis by country\" ]}}})"
   ]
  },
  {
   "cell_type": "markdown",
   "id": "1ba3b768",
   "metadata": {},
   "source": [
    "We can also see how the United States data displays a much higher diversity of voices and opinion-shapers than in other countries represented in our corpus. In Finland, by contrast, only experts claimed that the sinking was due to an attack, and in the Netherlands, the voices of journalists calling the incident an attack seemed unusually high. When we go back to the working corpus and thus shift from a distant to a close reading approach to the newspaper coverage, we can see that this was an indication of how Dutch papers re-printed the belligerent voices in the New York yellow press. In contrast to other countries, Dutch newspapers referenced no expert opinions but appeared to lean strongly towards the attack theory compared to other European papers because of the citations by American journalists who claimed that it was an attack and that Spain was behind it.\n"
   ]
  },
  {
   "cell_type": "markdown",
   "id": "09d16ded",
   "metadata": {},
   "source": [
    "It is not only insightful to learn who said what about the event, but also which voices are not represented in the press. Concerning the attack theory, we can see only the American press referenced military personnel and survivors. Likewise, regarding \"suspending opinion,\" we see that survivors, a few experts, and journalists were quoted. The accident position was also barely mentioned by journalists and Captain Sigsbee. Nonetheless, this is the hypothesis with the highest number of voices overall. In contrast, more speakers voiced the accident hypothesis than the attack theory, i.e., there was a higher degree of a plurality of points of view among those who considered the explosion to be due to an accident. Experts supported the accident theory in every country except the Netherlands and the U.K., where politicians and military personnel mostly voiced this opinion ([figure 5](#anchor-figure-5))."
   ]
  },
  {
   "cell_type": "markdown",
   "id": "282b165a",
   "metadata": {},
   "source": [
    "As can also be deduced from the data, the Finnish press relied more on expert assessments of the explosion and leaned towards the accident hypothesis more strongly than any other national press in our corpus. It is difficult to determine whether the most balanced and least biased reporting is due to Finish strivings for neutrality, with no stakes in who controls Cuba and the Western Hemisphere, or whether it reflects Russian political (and imperial) interests, given that in 1898 Finland was still officially a Grand Duchy in the Russian Empire."
   ]
  },
  {
   "cell_type": "code",
   "execution_count": 14,
   "id": "b600b4bd",
   "metadata": {
    "tags": [
     "figure-5"
    ]
   },
   "outputs": [
    {
     "data": {
      "application/vnd.plotly.v1+json": {
       "config": {
        "plotlyServerURL": "https://plot.ly"
       },
       "data": [
        {
         "alignmentgroup": "True",
         "bingroup": "x",
         "histfunc": "sum",
         "hovertemplate": "variable=Experts<br>Position/Country=%{x}<br>sum of value (normalized as percent)=%{y}<extra></extra>",
         "legendgroup": "Experts",
         "marker": {
          "color": "#636efa",
          "pattern": {
           "shape": ""
          }
         },
         "name": "Experts",
         "offsetgroup": "Experts",
         "orientation": "v",
         "showlegend": true,
         "type": "histogram",
         "x": [
          "Finland",
          "Germany",
          "Mexico",
          "Netherlands",
          "Spain",
          "UK",
          "USA"
         ],
         "xaxis": "x",
         "y": [
          0.6923076923,
          0.1666666667,
          0.3043478261,
          0,
          0.2857142857,
          0,
          0.06097560976
         ],
         "yaxis": "y"
        },
        {
         "alignmentgroup": "True",
         "bingroup": "x",
         "histfunc": "sum",
         "hovertemplate": "variable=Journalists<br>Position/Country=%{x}<br>sum of value (normalized as percent)=%{y}<extra></extra>",
         "legendgroup": "Journalists",
         "marker": {
          "color": "#EF553B",
          "pattern": {
           "shape": ""
          }
         },
         "name": "Journalists",
         "offsetgroup": "Journalists",
         "orientation": "v",
         "showlegend": true,
         "type": "histogram",
         "x": [
          "Finland",
          "Germany",
          "Mexico",
          "Netherlands",
          "Spain",
          "UK",
          "USA"
         ],
         "xaxis": "x",
         "y": [
          0,
          0,
          0,
          0,
          0,
          0,
          0.01219512195
         ],
         "yaxis": "y"
        },
        {
         "alignmentgroup": "True",
         "bingroup": "x",
         "histfunc": "sum",
         "hovertemplate": "variable=Military Personnel<br>Position/Country=%{x}<br>sum of value (normalized as percent)=%{y}<extra></extra>",
         "legendgroup": "Military Personnel",
         "marker": {
          "color": "#00cc96",
          "pattern": {
           "shape": ""
          }
         },
         "name": "Military Personnel",
         "offsetgroup": "Military Personnel",
         "orientation": "v",
         "showlegend": true,
         "type": "histogram",
         "x": [
          "Finland",
          "Germany",
          "Mexico",
          "Netherlands",
          "Spain",
          "UK",
          "USA"
         ],
         "xaxis": "x",
         "y": [
          0,
          0,
          0.08695652174,
          0.7142857143,
          0.1428571429,
          0.2,
          0.1341463415
         ],
         "yaxis": "y"
        },
        {
         "alignmentgroup": "True",
         "bingroup": "x",
         "histfunc": "sum",
         "hovertemplate": "variable=Politicians<br>Position/Country=%{x}<br>sum of value (normalized as percent)=%{y}<extra></extra>",
         "legendgroup": "Politicians",
         "marker": {
          "color": "#ab63fa",
          "pattern": {
           "shape": ""
          }
         },
         "name": "Politicians",
         "offsetgroup": "Politicians",
         "orientation": "v",
         "showlegend": true,
         "type": "histogram",
         "x": [
          "Finland",
          "Germany",
          "Mexico",
          "Netherlands",
          "Spain",
          "UK",
          "USA"
         ],
         "xaxis": "x",
         "y": [
          0,
          0.1666666667,
          0.2173913043,
          0.2857142857,
          0,
          0,
          0.262195122
         ],
         "yaxis": "y"
        },
        {
         "alignmentgroup": "True",
         "bingroup": "x",
         "histfunc": "sum",
         "hovertemplate": "variable=Sigsbee<br>Position/Country=%{x}<br>sum of value (normalized as percent)=%{y}<extra></extra>",
         "legendgroup": "Sigsbee",
         "marker": {
          "color": "#FFA15A",
          "pattern": {
           "shape": ""
          }
         },
         "name": "Sigsbee",
         "offsetgroup": "Sigsbee",
         "orientation": "v",
         "showlegend": true,
         "type": "histogram",
         "x": [
          "Finland",
          "Germany",
          "Mexico",
          "Netherlands",
          "Spain",
          "UK",
          "USA"
         ],
         "xaxis": "x",
         "y": [
          0,
          0,
          0,
          0,
          0,
          0,
          0.01219512195
         ],
         "yaxis": "y"
        },
        {
         "alignmentgroup": "True",
         "bingroup": "x",
         "histfunc": "sum",
         "hovertemplate": "variable=Survivors<br>Position/Country=%{x}<br>sum of value (normalized as percent)=%{y}<extra></extra>",
         "legendgroup": "Survivors",
         "marker": {
          "color": "#19d3f3",
          "pattern": {
           "shape": ""
          }
         },
         "name": "Survivors",
         "offsetgroup": "Survivors",
         "orientation": "v",
         "showlegend": true,
         "type": "histogram",
         "x": [
          "Finland",
          "Germany",
          "Mexico",
          "Netherlands",
          "Spain",
          "UK",
          "USA"
         ],
         "xaxis": "x",
         "y": [
          0.07692307692,
          0.6666666667,
          0.2608695652,
          0,
          0.1428571429,
          0,
          0.03048780488
         ],
         "yaxis": "y"
        },
        {
         "alignmentgroup": "True",
         "bingroup": "x",
         "histfunc": "sum",
         "hovertemplate": "variable=Unknow Speaker<br>Position/Country=%{x}<br>sum of value (normalized as percent)=%{y}<extra></extra>",
         "legendgroup": "Unknow Speaker",
         "marker": {
          "color": "#FF6692",
          "pattern": {
           "shape": ""
          }
         },
         "name": "Unknow Speaker",
         "offsetgroup": "Unknow Speaker",
         "orientation": "v",
         "showlegend": true,
         "type": "histogram",
         "x": [
          "Finland",
          "Germany",
          "Mexico",
          "Netherlands",
          "Spain",
          "UK",
          "USA"
         ],
         "xaxis": "x",
         "y": [
          0.2307692308,
          0,
          0.1304347826,
          0,
          0.4285714286,
          0.8,
          0.487804878
         ],
         "yaxis": "y"
        }
       ],
       "layout": {
        "barmode": "relative",
        "barnorm": "percent",
        "legend": {
         "title": {
          "text": "Speakers"
         },
         "tracegroupgap": 0
        },
        "template": {
         "data": {
          "bar": [
           {
            "error_x": {
             "color": "#2a3f5f"
            },
            "error_y": {
             "color": "#2a3f5f"
            },
            "marker": {
             "line": {
              "color": "#E5ECF6",
              "width": 0.5
             },
             "pattern": {
              "fillmode": "overlay",
              "size": 10,
              "solidity": 0.2
             }
            },
            "type": "bar"
           }
          ],
          "barpolar": [
           {
            "marker": {
             "line": {
              "color": "#E5ECF6",
              "width": 0.5
             },
             "pattern": {
              "fillmode": "overlay",
              "size": 10,
              "solidity": 0.2
             }
            },
            "type": "barpolar"
           }
          ],
          "carpet": [
           {
            "aaxis": {
             "endlinecolor": "#2a3f5f",
             "gridcolor": "white",
             "linecolor": "white",
             "minorgridcolor": "white",
             "startlinecolor": "#2a3f5f"
            },
            "baxis": {
             "endlinecolor": "#2a3f5f",
             "gridcolor": "white",
             "linecolor": "white",
             "minorgridcolor": "white",
             "startlinecolor": "#2a3f5f"
            },
            "type": "carpet"
           }
          ],
          "choropleth": [
           {
            "colorbar": {
             "outlinewidth": 0,
             "ticks": ""
            },
            "type": "choropleth"
           }
          ],
          "contour": [
           {
            "colorbar": {
             "outlinewidth": 0,
             "ticks": ""
            },
            "colorscale": [
             [
              0,
              "#0d0887"
             ],
             [
              0.1111111111111111,
              "#46039f"
             ],
             [
              0.2222222222222222,
              "#7201a8"
             ],
             [
              0.3333333333333333,
              "#9c179e"
             ],
             [
              0.4444444444444444,
              "#bd3786"
             ],
             [
              0.5555555555555556,
              "#d8576b"
             ],
             [
              0.6666666666666666,
              "#ed7953"
             ],
             [
              0.7777777777777778,
              "#fb9f3a"
             ],
             [
              0.8888888888888888,
              "#fdca26"
             ],
             [
              1,
              "#f0f921"
             ]
            ],
            "type": "contour"
           }
          ],
          "contourcarpet": [
           {
            "colorbar": {
             "outlinewidth": 0,
             "ticks": ""
            },
            "type": "contourcarpet"
           }
          ],
          "heatmap": [
           {
            "colorbar": {
             "outlinewidth": 0,
             "ticks": ""
            },
            "colorscale": [
             [
              0,
              "#0d0887"
             ],
             [
              0.1111111111111111,
              "#46039f"
             ],
             [
              0.2222222222222222,
              "#7201a8"
             ],
             [
              0.3333333333333333,
              "#9c179e"
             ],
             [
              0.4444444444444444,
              "#bd3786"
             ],
             [
              0.5555555555555556,
              "#d8576b"
             ],
             [
              0.6666666666666666,
              "#ed7953"
             ],
             [
              0.7777777777777778,
              "#fb9f3a"
             ],
             [
              0.8888888888888888,
              "#fdca26"
             ],
             [
              1,
              "#f0f921"
             ]
            ],
            "type": "heatmap"
           }
          ],
          "heatmapgl": [
           {
            "colorbar": {
             "outlinewidth": 0,
             "ticks": ""
            },
            "colorscale": [
             [
              0,
              "#0d0887"
             ],
             [
              0.1111111111111111,
              "#46039f"
             ],
             [
              0.2222222222222222,
              "#7201a8"
             ],
             [
              0.3333333333333333,
              "#9c179e"
             ],
             [
              0.4444444444444444,
              "#bd3786"
             ],
             [
              0.5555555555555556,
              "#d8576b"
             ],
             [
              0.6666666666666666,
              "#ed7953"
             ],
             [
              0.7777777777777778,
              "#fb9f3a"
             ],
             [
              0.8888888888888888,
              "#fdca26"
             ],
             [
              1,
              "#f0f921"
             ]
            ],
            "type": "heatmapgl"
           }
          ],
          "histogram": [
           {
            "marker": {
             "pattern": {
              "fillmode": "overlay",
              "size": 10,
              "solidity": 0.2
             }
            },
            "type": "histogram"
           }
          ],
          "histogram2d": [
           {
            "colorbar": {
             "outlinewidth": 0,
             "ticks": ""
            },
            "colorscale": [
             [
              0,
              "#0d0887"
             ],
             [
              0.1111111111111111,
              "#46039f"
             ],
             [
              0.2222222222222222,
              "#7201a8"
             ],
             [
              0.3333333333333333,
              "#9c179e"
             ],
             [
              0.4444444444444444,
              "#bd3786"
             ],
             [
              0.5555555555555556,
              "#d8576b"
             ],
             [
              0.6666666666666666,
              "#ed7953"
             ],
             [
              0.7777777777777778,
              "#fb9f3a"
             ],
             [
              0.8888888888888888,
              "#fdca26"
             ],
             [
              1,
              "#f0f921"
             ]
            ],
            "type": "histogram2d"
           }
          ],
          "histogram2dcontour": [
           {
            "colorbar": {
             "outlinewidth": 0,
             "ticks": ""
            },
            "colorscale": [
             [
              0,
              "#0d0887"
             ],
             [
              0.1111111111111111,
              "#46039f"
             ],
             [
              0.2222222222222222,
              "#7201a8"
             ],
             [
              0.3333333333333333,
              "#9c179e"
             ],
             [
              0.4444444444444444,
              "#bd3786"
             ],
             [
              0.5555555555555556,
              "#d8576b"
             ],
             [
              0.6666666666666666,
              "#ed7953"
             ],
             [
              0.7777777777777778,
              "#fb9f3a"
             ],
             [
              0.8888888888888888,
              "#fdca26"
             ],
             [
              1,
              "#f0f921"
             ]
            ],
            "type": "histogram2dcontour"
           }
          ],
          "mesh3d": [
           {
            "colorbar": {
             "outlinewidth": 0,
             "ticks": ""
            },
            "type": "mesh3d"
           }
          ],
          "parcoords": [
           {
            "line": {
             "colorbar": {
              "outlinewidth": 0,
              "ticks": ""
             }
            },
            "type": "parcoords"
           }
          ],
          "pie": [
           {
            "automargin": true,
            "type": "pie"
           }
          ],
          "scatter": [
           {
            "fillpattern": {
             "fillmode": "overlay",
             "size": 10,
             "solidity": 0.2
            },
            "type": "scatter"
           }
          ],
          "scatter3d": [
           {
            "line": {
             "colorbar": {
              "outlinewidth": 0,
              "ticks": ""
             }
            },
            "marker": {
             "colorbar": {
              "outlinewidth": 0,
              "ticks": ""
             }
            },
            "type": "scatter3d"
           }
          ],
          "scattercarpet": [
           {
            "marker": {
             "colorbar": {
              "outlinewidth": 0,
              "ticks": ""
             }
            },
            "type": "scattercarpet"
           }
          ],
          "scattergeo": [
           {
            "marker": {
             "colorbar": {
              "outlinewidth": 0,
              "ticks": ""
             }
            },
            "type": "scattergeo"
           }
          ],
          "scattergl": [
           {
            "marker": {
             "colorbar": {
              "outlinewidth": 0,
              "ticks": ""
             }
            },
            "type": "scattergl"
           }
          ],
          "scattermapbox": [
           {
            "marker": {
             "colorbar": {
              "outlinewidth": 0,
              "ticks": ""
             }
            },
            "type": "scattermapbox"
           }
          ],
          "scatterpolar": [
           {
            "marker": {
             "colorbar": {
              "outlinewidth": 0,
              "ticks": ""
             }
            },
            "type": "scatterpolar"
           }
          ],
          "scatterpolargl": [
           {
            "marker": {
             "colorbar": {
              "outlinewidth": 0,
              "ticks": ""
             }
            },
            "type": "scatterpolargl"
           }
          ],
          "scatterternary": [
           {
            "marker": {
             "colorbar": {
              "outlinewidth": 0,
              "ticks": ""
             }
            },
            "type": "scatterternary"
           }
          ],
          "surface": [
           {
            "colorbar": {
             "outlinewidth": 0,
             "ticks": ""
            },
            "colorscale": [
             [
              0,
              "#0d0887"
             ],
             [
              0.1111111111111111,
              "#46039f"
             ],
             [
              0.2222222222222222,
              "#7201a8"
             ],
             [
              0.3333333333333333,
              "#9c179e"
             ],
             [
              0.4444444444444444,
              "#bd3786"
             ],
             [
              0.5555555555555556,
              "#d8576b"
             ],
             [
              0.6666666666666666,
              "#ed7953"
             ],
             [
              0.7777777777777778,
              "#fb9f3a"
             ],
             [
              0.8888888888888888,
              "#fdca26"
             ],
             [
              1,
              "#f0f921"
             ]
            ],
            "type": "surface"
           }
          ],
          "table": [
           {
            "cells": {
             "fill": {
              "color": "#EBF0F8"
             },
             "line": {
              "color": "white"
             }
            },
            "header": {
             "fill": {
              "color": "#C8D4E3"
             },
             "line": {
              "color": "white"
             }
            },
            "type": "table"
           }
          ]
         },
         "layout": {
          "annotationdefaults": {
           "arrowcolor": "#2a3f5f",
           "arrowhead": 0,
           "arrowwidth": 1
          },
          "autotypenumbers": "strict",
          "coloraxis": {
           "colorbar": {
            "outlinewidth": 0,
            "ticks": ""
           }
          },
          "colorscale": {
           "diverging": [
            [
             0,
             "#8e0152"
            ],
            [
             0.1,
             "#c51b7d"
            ],
            [
             0.2,
             "#de77ae"
            ],
            [
             0.3,
             "#f1b6da"
            ],
            [
             0.4,
             "#fde0ef"
            ],
            [
             0.5,
             "#f7f7f7"
            ],
            [
             0.6,
             "#e6f5d0"
            ],
            [
             0.7,
             "#b8e186"
            ],
            [
             0.8,
             "#7fbc41"
            ],
            [
             0.9,
             "#4d9221"
            ],
            [
             1,
             "#276419"
            ]
           ],
           "sequential": [
            [
             0,
             "#0d0887"
            ],
            [
             0.1111111111111111,
             "#46039f"
            ],
            [
             0.2222222222222222,
             "#7201a8"
            ],
            [
             0.3333333333333333,
             "#9c179e"
            ],
            [
             0.4444444444444444,
             "#bd3786"
            ],
            [
             0.5555555555555556,
             "#d8576b"
            ],
            [
             0.6666666666666666,
             "#ed7953"
            ],
            [
             0.7777777777777778,
             "#fb9f3a"
            ],
            [
             0.8888888888888888,
             "#fdca26"
            ],
            [
             1,
             "#f0f921"
            ]
           ],
           "sequentialminus": [
            [
             0,
             "#0d0887"
            ],
            [
             0.1111111111111111,
             "#46039f"
            ],
            [
             0.2222222222222222,
             "#7201a8"
            ],
            [
             0.3333333333333333,
             "#9c179e"
            ],
            [
             0.4444444444444444,
             "#bd3786"
            ],
            [
             0.5555555555555556,
             "#d8576b"
            ],
            [
             0.6666666666666666,
             "#ed7953"
            ],
            [
             0.7777777777777778,
             "#fb9f3a"
            ],
            [
             0.8888888888888888,
             "#fdca26"
            ],
            [
             1,
             "#f0f921"
            ]
           ]
          },
          "colorway": [
           "#636efa",
           "#EF553B",
           "#00cc96",
           "#ab63fa",
           "#FFA15A",
           "#19d3f3",
           "#FF6692",
           "#B6E880",
           "#FF97FF",
           "#FECB52"
          ],
          "font": {
           "color": "#2a3f5f"
          },
          "geo": {
           "bgcolor": "white",
           "lakecolor": "white",
           "landcolor": "#E5ECF6",
           "showlakes": true,
           "showland": true,
           "subunitcolor": "white"
          },
          "hoverlabel": {
           "align": "left"
          },
          "hovermode": "closest",
          "mapbox": {
           "style": "light"
          },
          "paper_bgcolor": "white",
          "plot_bgcolor": "#E5ECF6",
          "polar": {
           "angularaxis": {
            "gridcolor": "white",
            "linecolor": "white",
            "ticks": ""
           },
           "bgcolor": "#E5ECF6",
           "radialaxis": {
            "gridcolor": "white",
            "linecolor": "white",
            "ticks": ""
           }
          },
          "scene": {
           "xaxis": {
            "backgroundcolor": "#E5ECF6",
            "gridcolor": "white",
            "gridwidth": 2,
            "linecolor": "white",
            "showbackground": true,
            "ticks": "",
            "zerolinecolor": "white"
           },
           "yaxis": {
            "backgroundcolor": "#E5ECF6",
            "gridcolor": "white",
            "gridwidth": 2,
            "linecolor": "white",
            "showbackground": true,
            "ticks": "",
            "zerolinecolor": "white"
           },
           "zaxis": {
            "backgroundcolor": "#E5ECF6",
            "gridcolor": "white",
            "gridwidth": 2,
            "linecolor": "white",
            "showbackground": true,
            "ticks": "",
            "zerolinecolor": "white"
           }
          },
          "shapedefaults": {
           "line": {
            "color": "#2a3f5f"
           }
          },
          "ternary": {
           "aaxis": {
            "gridcolor": "white",
            "linecolor": "white",
            "ticks": ""
           },
           "baxis": {
            "gridcolor": "white",
            "linecolor": "white",
            "ticks": ""
           },
           "bgcolor": "#E5ECF6",
           "caxis": {
            "gridcolor": "white",
            "linecolor": "white",
            "ticks": ""
           }
          },
          "title": {
           "x": 0.05
          },
          "xaxis": {
           "automargin": true,
           "gridcolor": "white",
           "linecolor": "white",
           "ticks": "",
           "title": {
            "standoff": 15
           },
           "zerolinecolor": "white",
           "zerolinewidth": 2
          },
          "yaxis": {
           "automargin": true,
           "gridcolor": "white",
           "linecolor": "white",
           "ticks": "",
           "title": {
            "standoff": 15
           },
           "zerolinecolor": "white",
           "zerolinewidth": 2
          }
         }
        },
        "title": {
         "text": "Distribution of speakers leaning towards accident hypothesis by country"
        },
        "xaxis": {
         "anchor": "y",
         "domain": [
          0,
          1
         ],
         "ticktext": [
          "Finland",
          "Germany",
          "Mexico",
          "Netherlands",
          "Spain",
          "UK",
          "USA"
         ],
         "tickvals": [
          "Finland",
          "Germany",
          "Mexico",
          "Netherlands",
          "Spain",
          "UK",
          "USA"
         ],
         "title": {
          "text": "Position/Country"
         }
        },
        "yaxis": {
         "anchor": "x",
         "domain": [
          0,
          1
         ],
         "ticksuffix": "%",
         "title": {
          "text": ""
         }
        }
       }
      },
      "text/html": [
       "<div>                            <div id=\"d15a2ad7-3b71-4f2c-9642-e95dff928f83\" class=\"plotly-graph-div\" style=\"height:525px; width:100%;\"></div>            <script type=\"text/javascript\">                require([\"plotly\"], function(Plotly) {                    window.PLOTLYENV=window.PLOTLYENV || {};                                    if (document.getElementById(\"d15a2ad7-3b71-4f2c-9642-e95dff928f83\")) {                    Plotly.newPlot(                        \"d15a2ad7-3b71-4f2c-9642-e95dff928f83\",                        [{\"alignmentgroup\":\"True\",\"bingroup\":\"x\",\"histfunc\":\"sum\",\"hovertemplate\":\"variable=Experts<br>Position/Country=%{x}<br>sum of value (normalized as percent)=%{y}<extra></extra>\",\"legendgroup\":\"Experts\",\"marker\":{\"color\":\"#636efa\",\"pattern\":{\"shape\":\"\"}},\"name\":\"Experts\",\"offsetgroup\":\"Experts\",\"orientation\":\"v\",\"showlegend\":true,\"x\":[\"Finland\",\"Germany\",\"Mexico\",\"Netherlands\",\"Spain\",\"UK\",\"USA\"],\"xaxis\":\"x\",\"y\":[0.6923076923,0.1666666667,0.3043478261,0.0,0.2857142857,0.0,0.06097560976],\"yaxis\":\"y\",\"type\":\"histogram\"},{\"alignmentgroup\":\"True\",\"bingroup\":\"x\",\"histfunc\":\"sum\",\"hovertemplate\":\"variable=Journalists<br>Position/Country=%{x}<br>sum of value (normalized as percent)=%{y}<extra></extra>\",\"legendgroup\":\"Journalists\",\"marker\":{\"color\":\"#EF553B\",\"pattern\":{\"shape\":\"\"}},\"name\":\"Journalists\",\"offsetgroup\":\"Journalists\",\"orientation\":\"v\",\"showlegend\":true,\"x\":[\"Finland\",\"Germany\",\"Mexico\",\"Netherlands\",\"Spain\",\"UK\",\"USA\"],\"xaxis\":\"x\",\"y\":[0.0,0.0,0.0,0.0,0.0,0.0,0.01219512195],\"yaxis\":\"y\",\"type\":\"histogram\"},{\"alignmentgroup\":\"True\",\"bingroup\":\"x\",\"histfunc\":\"sum\",\"hovertemplate\":\"variable=Military Personnel<br>Position/Country=%{x}<br>sum of value (normalized as percent)=%{y}<extra></extra>\",\"legendgroup\":\"Military Personnel\",\"marker\":{\"color\":\"#00cc96\",\"pattern\":{\"shape\":\"\"}},\"name\":\"Military Personnel\",\"offsetgroup\":\"Military Personnel\",\"orientation\":\"v\",\"showlegend\":true,\"x\":[\"Finland\",\"Germany\",\"Mexico\",\"Netherlands\",\"Spain\",\"UK\",\"USA\"],\"xaxis\":\"x\",\"y\":[0.0,0.0,0.08695652174,0.7142857143,0.1428571429,0.2,0.1341463415],\"yaxis\":\"y\",\"type\":\"histogram\"},{\"alignmentgroup\":\"True\",\"bingroup\":\"x\",\"histfunc\":\"sum\",\"hovertemplate\":\"variable=Politicians<br>Position/Country=%{x}<br>sum of value (normalized as percent)=%{y}<extra></extra>\",\"legendgroup\":\"Politicians\",\"marker\":{\"color\":\"#ab63fa\",\"pattern\":{\"shape\":\"\"}},\"name\":\"Politicians\",\"offsetgroup\":\"Politicians\",\"orientation\":\"v\",\"showlegend\":true,\"x\":[\"Finland\",\"Germany\",\"Mexico\",\"Netherlands\",\"Spain\",\"UK\",\"USA\"],\"xaxis\":\"x\",\"y\":[0.0,0.1666666667,0.2173913043,0.2857142857,0.0,0.0,0.262195122],\"yaxis\":\"y\",\"type\":\"histogram\"},{\"alignmentgroup\":\"True\",\"bingroup\":\"x\",\"histfunc\":\"sum\",\"hovertemplate\":\"variable=Sigsbee<br>Position/Country=%{x}<br>sum of value (normalized as percent)=%{y}<extra></extra>\",\"legendgroup\":\"Sigsbee\",\"marker\":{\"color\":\"#FFA15A\",\"pattern\":{\"shape\":\"\"}},\"name\":\"Sigsbee\",\"offsetgroup\":\"Sigsbee\",\"orientation\":\"v\",\"showlegend\":true,\"x\":[\"Finland\",\"Germany\",\"Mexico\",\"Netherlands\",\"Spain\",\"UK\",\"USA\"],\"xaxis\":\"x\",\"y\":[0.0,0.0,0.0,0.0,0.0,0.0,0.01219512195],\"yaxis\":\"y\",\"type\":\"histogram\"},{\"alignmentgroup\":\"True\",\"bingroup\":\"x\",\"histfunc\":\"sum\",\"hovertemplate\":\"variable=Survivors<br>Position/Country=%{x}<br>sum of value (normalized as percent)=%{y}<extra></extra>\",\"legendgroup\":\"Survivors\",\"marker\":{\"color\":\"#19d3f3\",\"pattern\":{\"shape\":\"\"}},\"name\":\"Survivors\",\"offsetgroup\":\"Survivors\",\"orientation\":\"v\",\"showlegend\":true,\"x\":[\"Finland\",\"Germany\",\"Mexico\",\"Netherlands\",\"Spain\",\"UK\",\"USA\"],\"xaxis\":\"x\",\"y\":[0.07692307692,0.6666666667,0.2608695652,0.0,0.1428571429,0.0,0.03048780488],\"yaxis\":\"y\",\"type\":\"histogram\"},{\"alignmentgroup\":\"True\",\"bingroup\":\"x\",\"histfunc\":\"sum\",\"hovertemplate\":\"variable=Unknow Speaker<br>Position/Country=%{x}<br>sum of value (normalized as percent)=%{y}<extra></extra>\",\"legendgroup\":\"Unknow Speaker\",\"marker\":{\"color\":\"#FF6692\",\"pattern\":{\"shape\":\"\"}},\"name\":\"Unknow Speaker\",\"offsetgroup\":\"Unknow Speaker\",\"orientation\":\"v\",\"showlegend\":true,\"x\":[\"Finland\",\"Germany\",\"Mexico\",\"Netherlands\",\"Spain\",\"UK\",\"USA\"],\"xaxis\":\"x\",\"y\":[0.2307692308,0.0,0.1304347826,0.0,0.4285714286,0.8,0.487804878],\"yaxis\":\"y\",\"type\":\"histogram\"}],                        {\"template\":{\"data\":{\"histogram2dcontour\":[{\"type\":\"histogram2dcontour\",\"colorbar\":{\"outlinewidth\":0,\"ticks\":\"\"},\"colorscale\":[[0.0,\"#0d0887\"],[0.1111111111111111,\"#46039f\"],[0.2222222222222222,\"#7201a8\"],[0.3333333333333333,\"#9c179e\"],[0.4444444444444444,\"#bd3786\"],[0.5555555555555556,\"#d8576b\"],[0.6666666666666666,\"#ed7953\"],[0.7777777777777778,\"#fb9f3a\"],[0.8888888888888888,\"#fdca26\"],[1.0,\"#f0f921\"]]}],\"choropleth\":[{\"type\":\"choropleth\",\"colorbar\":{\"outlinewidth\":0,\"ticks\":\"\"}}],\"histogram2d\":[{\"type\":\"histogram2d\",\"colorbar\":{\"outlinewidth\":0,\"ticks\":\"\"},\"colorscale\":[[0.0,\"#0d0887\"],[0.1111111111111111,\"#46039f\"],[0.2222222222222222,\"#7201a8\"],[0.3333333333333333,\"#9c179e\"],[0.4444444444444444,\"#bd3786\"],[0.5555555555555556,\"#d8576b\"],[0.6666666666666666,\"#ed7953\"],[0.7777777777777778,\"#fb9f3a\"],[0.8888888888888888,\"#fdca26\"],[1.0,\"#f0f921\"]]}],\"heatmap\":[{\"type\":\"heatmap\",\"colorbar\":{\"outlinewidth\":0,\"ticks\":\"\"},\"colorscale\":[[0.0,\"#0d0887\"],[0.1111111111111111,\"#46039f\"],[0.2222222222222222,\"#7201a8\"],[0.3333333333333333,\"#9c179e\"],[0.4444444444444444,\"#bd3786\"],[0.5555555555555556,\"#d8576b\"],[0.6666666666666666,\"#ed7953\"],[0.7777777777777778,\"#fb9f3a\"],[0.8888888888888888,\"#fdca26\"],[1.0,\"#f0f921\"]]}],\"heatmapgl\":[{\"type\":\"heatmapgl\",\"colorbar\":{\"outlinewidth\":0,\"ticks\":\"\"},\"colorscale\":[[0.0,\"#0d0887\"],[0.1111111111111111,\"#46039f\"],[0.2222222222222222,\"#7201a8\"],[0.3333333333333333,\"#9c179e\"],[0.4444444444444444,\"#bd3786\"],[0.5555555555555556,\"#d8576b\"],[0.6666666666666666,\"#ed7953\"],[0.7777777777777778,\"#fb9f3a\"],[0.8888888888888888,\"#fdca26\"],[1.0,\"#f0f921\"]]}],\"contourcarpet\":[{\"type\":\"contourcarpet\",\"colorbar\":{\"outlinewidth\":0,\"ticks\":\"\"}}],\"contour\":[{\"type\":\"contour\",\"colorbar\":{\"outlinewidth\":0,\"ticks\":\"\"},\"colorscale\":[[0.0,\"#0d0887\"],[0.1111111111111111,\"#46039f\"],[0.2222222222222222,\"#7201a8\"],[0.3333333333333333,\"#9c179e\"],[0.4444444444444444,\"#bd3786\"],[0.5555555555555556,\"#d8576b\"],[0.6666666666666666,\"#ed7953\"],[0.7777777777777778,\"#fb9f3a\"],[0.8888888888888888,\"#fdca26\"],[1.0,\"#f0f921\"]]}],\"surface\":[{\"type\":\"surface\",\"colorbar\":{\"outlinewidth\":0,\"ticks\":\"\"},\"colorscale\":[[0.0,\"#0d0887\"],[0.1111111111111111,\"#46039f\"],[0.2222222222222222,\"#7201a8\"],[0.3333333333333333,\"#9c179e\"],[0.4444444444444444,\"#bd3786\"],[0.5555555555555556,\"#d8576b\"],[0.6666666666666666,\"#ed7953\"],[0.7777777777777778,\"#fb9f3a\"],[0.8888888888888888,\"#fdca26\"],[1.0,\"#f0f921\"]]}],\"mesh3d\":[{\"type\":\"mesh3d\",\"colorbar\":{\"outlinewidth\":0,\"ticks\":\"\"}}],\"scatter\":[{\"fillpattern\":{\"fillmode\":\"overlay\",\"size\":10,\"solidity\":0.2},\"type\":\"scatter\"}],\"parcoords\":[{\"type\":\"parcoords\",\"line\":{\"colorbar\":{\"outlinewidth\":0,\"ticks\":\"\"}}}],\"scatterpolargl\":[{\"type\":\"scatterpolargl\",\"marker\":{\"colorbar\":{\"outlinewidth\":0,\"ticks\":\"\"}}}],\"bar\":[{\"error_x\":{\"color\":\"#2a3f5f\"},\"error_y\":{\"color\":\"#2a3f5f\"},\"marker\":{\"line\":{\"color\":\"#E5ECF6\",\"width\":0.5},\"pattern\":{\"fillmode\":\"overlay\",\"size\":10,\"solidity\":0.2}},\"type\":\"bar\"}],\"scattergeo\":[{\"type\":\"scattergeo\",\"marker\":{\"colorbar\":{\"outlinewidth\":0,\"ticks\":\"\"}}}],\"scatterpolar\":[{\"type\":\"scatterpolar\",\"marker\":{\"colorbar\":{\"outlinewidth\":0,\"ticks\":\"\"}}}],\"histogram\":[{\"marker\":{\"pattern\":{\"fillmode\":\"overlay\",\"size\":10,\"solidity\":0.2}},\"type\":\"histogram\"}],\"scattergl\":[{\"type\":\"scattergl\",\"marker\":{\"colorbar\":{\"outlinewidth\":0,\"ticks\":\"\"}}}],\"scatter3d\":[{\"type\":\"scatter3d\",\"line\":{\"colorbar\":{\"outlinewidth\":0,\"ticks\":\"\"}},\"marker\":{\"colorbar\":{\"outlinewidth\":0,\"ticks\":\"\"}}}],\"scattermapbox\":[{\"type\":\"scattermapbox\",\"marker\":{\"colorbar\":{\"outlinewidth\":0,\"ticks\":\"\"}}}],\"scatterternary\":[{\"type\":\"scatterternary\",\"marker\":{\"colorbar\":{\"outlinewidth\":0,\"ticks\":\"\"}}}],\"scattercarpet\":[{\"type\":\"scattercarpet\",\"marker\":{\"colorbar\":{\"outlinewidth\":0,\"ticks\":\"\"}}}],\"carpet\":[{\"aaxis\":{\"endlinecolor\":\"#2a3f5f\",\"gridcolor\":\"white\",\"linecolor\":\"white\",\"minorgridcolor\":\"white\",\"startlinecolor\":\"#2a3f5f\"},\"baxis\":{\"endlinecolor\":\"#2a3f5f\",\"gridcolor\":\"white\",\"linecolor\":\"white\",\"minorgridcolor\":\"white\",\"startlinecolor\":\"#2a3f5f\"},\"type\":\"carpet\"}],\"table\":[{\"cells\":{\"fill\":{\"color\":\"#EBF0F8\"},\"line\":{\"color\":\"white\"}},\"header\":{\"fill\":{\"color\":\"#C8D4E3\"},\"line\":{\"color\":\"white\"}},\"type\":\"table\"}],\"barpolar\":[{\"marker\":{\"line\":{\"color\":\"#E5ECF6\",\"width\":0.5},\"pattern\":{\"fillmode\":\"overlay\",\"size\":10,\"solidity\":0.2}},\"type\":\"barpolar\"}],\"pie\":[{\"automargin\":true,\"type\":\"pie\"}]},\"layout\":{\"autotypenumbers\":\"strict\",\"colorway\":[\"#636efa\",\"#EF553B\",\"#00cc96\",\"#ab63fa\",\"#FFA15A\",\"#19d3f3\",\"#FF6692\",\"#B6E880\",\"#FF97FF\",\"#FECB52\"],\"font\":{\"color\":\"#2a3f5f\"},\"hovermode\":\"closest\",\"hoverlabel\":{\"align\":\"left\"},\"paper_bgcolor\":\"white\",\"plot_bgcolor\":\"#E5ECF6\",\"polar\":{\"bgcolor\":\"#E5ECF6\",\"angularaxis\":{\"gridcolor\":\"white\",\"linecolor\":\"white\",\"ticks\":\"\"},\"radialaxis\":{\"gridcolor\":\"white\",\"linecolor\":\"white\",\"ticks\":\"\"}},\"ternary\":{\"bgcolor\":\"#E5ECF6\",\"aaxis\":{\"gridcolor\":\"white\",\"linecolor\":\"white\",\"ticks\":\"\"},\"baxis\":{\"gridcolor\":\"white\",\"linecolor\":\"white\",\"ticks\":\"\"},\"caxis\":{\"gridcolor\":\"white\",\"linecolor\":\"white\",\"ticks\":\"\"}},\"coloraxis\":{\"colorbar\":{\"outlinewidth\":0,\"ticks\":\"\"}},\"colorscale\":{\"sequential\":[[0.0,\"#0d0887\"],[0.1111111111111111,\"#46039f\"],[0.2222222222222222,\"#7201a8\"],[0.3333333333333333,\"#9c179e\"],[0.4444444444444444,\"#bd3786\"],[0.5555555555555556,\"#d8576b\"],[0.6666666666666666,\"#ed7953\"],[0.7777777777777778,\"#fb9f3a\"],[0.8888888888888888,\"#fdca26\"],[1.0,\"#f0f921\"]],\"sequentialminus\":[[0.0,\"#0d0887\"],[0.1111111111111111,\"#46039f\"],[0.2222222222222222,\"#7201a8\"],[0.3333333333333333,\"#9c179e\"],[0.4444444444444444,\"#bd3786\"],[0.5555555555555556,\"#d8576b\"],[0.6666666666666666,\"#ed7953\"],[0.7777777777777778,\"#fb9f3a\"],[0.8888888888888888,\"#fdca26\"],[1.0,\"#f0f921\"]],\"diverging\":[[0,\"#8e0152\"],[0.1,\"#c51b7d\"],[0.2,\"#de77ae\"],[0.3,\"#f1b6da\"],[0.4,\"#fde0ef\"],[0.5,\"#f7f7f7\"],[0.6,\"#e6f5d0\"],[0.7,\"#b8e186\"],[0.8,\"#7fbc41\"],[0.9,\"#4d9221\"],[1,\"#276419\"]]},\"xaxis\":{\"gridcolor\":\"white\",\"linecolor\":\"white\",\"ticks\":\"\",\"title\":{\"standoff\":15},\"zerolinecolor\":\"white\",\"automargin\":true,\"zerolinewidth\":2},\"yaxis\":{\"gridcolor\":\"white\",\"linecolor\":\"white\",\"ticks\":\"\",\"title\":{\"standoff\":15},\"zerolinecolor\":\"white\",\"automargin\":true,\"zerolinewidth\":2},\"scene\":{\"xaxis\":{\"backgroundcolor\":\"#E5ECF6\",\"gridcolor\":\"white\",\"linecolor\":\"white\",\"showbackground\":true,\"ticks\":\"\",\"zerolinecolor\":\"white\",\"gridwidth\":2},\"yaxis\":{\"backgroundcolor\":\"#E5ECF6\",\"gridcolor\":\"white\",\"linecolor\":\"white\",\"showbackground\":true,\"ticks\":\"\",\"zerolinecolor\":\"white\",\"gridwidth\":2},\"zaxis\":{\"backgroundcolor\":\"#E5ECF6\",\"gridcolor\":\"white\",\"linecolor\":\"white\",\"showbackground\":true,\"ticks\":\"\",\"zerolinecolor\":\"white\",\"gridwidth\":2}},\"shapedefaults\":{\"line\":{\"color\":\"#2a3f5f\"}},\"annotationdefaults\":{\"arrowcolor\":\"#2a3f5f\",\"arrowhead\":0,\"arrowwidth\":1},\"geo\":{\"bgcolor\":\"white\",\"landcolor\":\"#E5ECF6\",\"subunitcolor\":\"white\",\"showland\":true,\"showlakes\":true,\"lakecolor\":\"white\"},\"title\":{\"x\":0.05},\"mapbox\":{\"style\":\"light\"}}},\"xaxis\":{\"anchor\":\"y\",\"domain\":[0.0,1.0],\"title\":{\"text\":\"Position/Country\"},\"ticktext\":[\"Finland\",\"Germany\",\"Mexico\",\"Netherlands\",\"Spain\",\"UK\",\"USA\"],\"tickvals\":[\"Finland\",\"Germany\",\"Mexico\",\"Netherlands\",\"Spain\",\"UK\",\"USA\"]},\"yaxis\":{\"anchor\":\"x\",\"domain\":[0.0,1.0],\"title\":{\"text\":\"\"},\"ticksuffix\":\"%\"},\"legend\":{\"title\":{\"text\":\"Speakers\"},\"tracegroupgap\":0},\"title\":{\"text\":\"Distribution of speakers leaning towards accident hypothesis by country\"},\"barmode\":\"relative\",\"barnorm\":\"percent\"},                        {\"responsive\": true}                    ).then(function(){\n",
       "                            \n",
       "var gd = document.getElementById('d15a2ad7-3b71-4f2c-9642-e95dff928f83');\n",
       "var x = new MutationObserver(function (mutations, observer) {{\n",
       "        var display = window.getComputedStyle(gd).display;\n",
       "        if (!display || display === 'none') {{\n",
       "            console.log([gd, 'removed!']);\n",
       "            Plotly.purge(gd);\n",
       "            observer.disconnect();\n",
       "        }}\n",
       "}});\n",
       "\n",
       "// Listen for the removal of the full notebook cells\n",
       "var notebookContainer = gd.closest('#notebook-container');\n",
       "if (notebookContainer) {{\n",
       "    x.observe(notebookContainer, {childList: true});\n",
       "}}\n",
       "\n",
       "// Listen for the clearing of the current output cell\n",
       "var outputEl = gd.closest('.output');\n",
       "if (outputEl) {{\n",
       "    x.observe(outputEl, {childList: true});\n",
       "}}\n",
       "\n",
       "                        })                };                });            </script>        </div>"
      ]
     },
     "metadata": {},
     "output_type": "display_data"
    }
   ],
   "source": [
    "import pandas as pd\n",
    "import plotly.express as px\n",
    "\n",
    "df = pd.read_csv(\"https://raw.githubusercontent.com/Seydii/USSMaine/Corpus/Figure%205.csv\")\n",
    "fig=px.histogram(df,x=[\"Finland\",\"Germany\",\"Mexico\", \"Netherlands\",\"Spain\",\"UK\",\"USA\"], y = [\"Experts\",\"Journalists\",\"Military Personnel\",\"Politicians\",\"Sigsbee\",\"Survivors\",\"Unknow Speaker\"],barnorm = \"percent\",title=\"Distribution of speakers leaning towards accident hypothesis by country\",labels={\n",
    "    \"x\":\"Position/Country\"\n",
    "})\n",
    "fig.update_layout(    \n",
    "yaxis_title=\"\",\n",
    "legend_title=\"Speakers\")\n",
    "fig.update_yaxes (ticksuffix=\"%\")\n",
    "fig.update_xaxes (\n",
    "ticktext= [\"Finland\",\"Germany\",\"Mexico\", \"Netherlands\",\"Spain\",\"UK\",\"USA\"],\n",
    "tickvals= [\"Finland\",\"Germany\",\"Mexico\", \"Netherlands\",\"Spain\",\"UK\",\"USA\"])\n",
    "fig.show(metadata={ \"jdh\":{\"object\":{\"source\":[ \"Distribution of speakers leaning towards accident hypothesis by country\" ]}}})"
   ]
  },
  {
   "cell_type": "markdown",
   "id": "d91749a1",
   "metadata": {},
   "source": [
    "### Spain"
   ]
  },
  {
   "cell_type": "markdown",
   "id": "ad23b755",
   "metadata": {},
   "source": [
    "Our data comparison shows that pro-accident voices were featured less prominently in Spain's press than in any other national corpus. This was likely due to Spanish officials seeking to avoid further escalation of diplomatic tensions in the wake of the DeLome affair in early February 1898 by suggesting that the explosion may have been due to American negligence or even intent. We also find that experts, survivors, and military personnel identified the explosion as an accident in Spain. Upon closer inspection, Spanish newspapers such as *El Heraldo*, *La Epoca*, and *El Siglo Futuro* produced an evening edition on February 16 with information regarding the intensely reported rumors during the day about the destruction of the *Maine* in Havana. *El Día*, for example, writes:"
   ]
  },
  {
   "cell_type": "markdown",
   "id": "1479a6bb",
   "metadata": {},
   "source": [
    ">El Maine, el acorazado norteamerticano que fue al puerto de la Habana a hacernos una visita de amistad, ha sido completamente destruido por la explosión de sus calderas y depósito de pólvora. La noticia que anticipó Fabra ha circulado con gran rapidez, produciendo la natural sensación. Los telegramas oficiales que se han recibido en los ministerios de la Guerra y Marina, y las transmitidas por el corresponsal de El imparcial en la Habana a este periódico dan cuenta detallada de la catástrofe. "
   ]
  },
  {
   "cell_type": "markdown",
   "id": "a294ba2e",
   "metadata": {},
   "source": [
    ">“The *Maine*, the North American battleship that went to the port of Havana to pay us a friendly visit, has been completely destroyed by the explosion of its boilers and gunpowder deposit. The news that Fabra anticipated has circulated very quickly, producing the natural sensation. The official telegrams that have been received by the War and Navy ministries, and those transmitted by the correspondent of *El impartial* in Havana to this newspaper give a detailed account of the catastrophe.” (google.translate) "
   ]
  },
  {
   "cell_type": "markdown",
   "id": "8c777107",
   "metadata": {},
   "source": [
    "It was an important day for the Spanish press since the previous year had turned events in Cuba into front-page news (<cite data-cite=\"6095605/XKPZYPDG\"></cite> 231). Similar to the United States, for the Spanish press, the conflict in Cuba led to a significant growth in sales (<cite data-cite=\"6095605/KH3UHVCH\"></cite> 41). Access to information from Cuba made newspapers such as *El Imparcial*, the most influential newspaper at the time in Spain, *El Heraldo*, an evening newspaper that was also very popular, and *La Correspondencia Militar*, an army newspaper, essential reading. These newspapers relied on correspondents in Havana, Key West, and New York. Another important and exclusive source of information for the Spanish press were the FABRA agency cables, a predecessor of the EFE news agency, which also had correspondents in Havana and other cities. That meant that significant proportions of information circulating in Spain during the crisis caused by the explosion of the *Maine* were first-hand  products of the work of correspondents and news agencies.\n"
   ]
  },
  {
   "cell_type": "markdown",
   "id": "8bcd6326",
   "metadata": {},
   "source": [
    "On February 17, news of the *Maine* occupied the front page of the entire morning press in Spain. Newspapers highlighted two particular reports on that day: a telegram from General Blanco to the government of Spain in which he affirms that it was an accident and the telegram by Captain Sigsbee requesting the authorities of his country to suspend their opinion until further investigation. From the beginning, the press stuck to the accident thesis and aimed to praise the Spanish navy's noble intervention in rescuing the wounded and the dead bodies. *La Correspondencia Militar*, for instance, makes an extensive, informative display of the accident, describing in detail what happened and the subsequent mobilization for the rescue of sailors of the *Maine*. *El Imparcial*, in turn, narrates through the pen of its correspondent the previous days' events and details two hypotheses of how the accident could have occurred inside the ship."
   ]
  },
  {
   "cell_type": "markdown",
   "id": "3bbc91bd",
   "metadata": {},
   "source": [
    "The press reviewed the event in the context of existing political tensions with the United States. With a few exceptions like *El Socialista* and *El Nuevo Régimen*, the Spanish press was ultranationalist (<cite data-cite=\"6095605/XKPZYPDG\"></cite> 237) and very soon pro-war (<cite data-cite=\"6095605/Z8D4MCP8\"></cite> 89). *El Correo Militar* noted, for instance, that the accident should not produce conflict with the U.S. while detailing demonstrations in New York against Spain. *El Día* was the only Spanish paper to allude to the torpedo thesis but did so in the context of warning that the U.S. probably wanted to take advantage of the incident (i.e., use it as a *casus belli*). Very much in the tone of preventing the United States from taking advantage of the accident in its favor, *La Epoca* wrote:"
   ]
  },
  {
   "cell_type": "markdown",
   "id": "05f0c349",
   "metadata": {},
   "source": [
    ">De todas suertes, bien hará el Gobierno español en apercibirse contra posibles injusticias, y por eso nos parecen oportunos sus deseos de depurar pronto y por entero los hechos, para desvanecer al momento cuantas dudas pudieran surgir en este caso. "
   ]
  },
  {
   "cell_type": "markdown",
   "id": "50b67fd3",
   "metadata": {},
   "source": [
    ">“By all luck, the Spanish Government will do well to warn itself against possible injustices, and for this reason its desire to purge the facts soon and completely, to dispel at the moment any doubts that may arise in this case, seem appropriate.” (google.translate)"
   ]
  },
  {
   "cell_type": "markdown",
   "id": "4ec686ee",
   "metadata": {},
   "source": [
    "On February 18, newspapers highlighted that the dominant opinion of politicians in Washington, D.C. was that it was an accident. Several Spanish newspapers reviewed the American press and emphasized its generally moderate tone. However, papers with their correspondents, particularly *El Heraldo* and *El Imparcial*, stressed the attack hypothesis. These same newspapers and *La Correspondencia Militar* took up the issue of the formation of an investigation commission and indicated their fear that it would serve to support the attack hypothesis. Many Spanish papers also reported what their colleagues in France, England, and Germany had published on the *Maine*.\n"
   ]
  },
  {
   "cell_type": "markdown",
   "id": "cab107bc",
   "metadata": {},
   "source": [
    "The people voiced in the Spanish newspapers were predominantly military personnel (22.4%), followed by politicians (17.8%), experts (15.9%), and Sigsbee (12.1%). One might have predicted that Spanish papers would rush to blame an internal cause, but this would have led to further diplomatic tensions between Spain and the U.S. in light of the already existing ones. Rather than presenting a mirror-image to the jingoistic yellow press in New York (which was re-printed or paraphrased widely in other national newspaper corpora) that sought to direct blame to the U.S., Spanish newspapers, by and large, took Sigsbee's call to \"suspend opinion\" (44.8%) quite seriously and, like no other national press in our corpus, exercised restraint and moderation in shaping public and published opinion, at least during the initial phase after the explosion (<cite data-cite=\"6095605/Z8D4MCP8\"></cite> 88-89)."
   ]
  },
  {
   "cell_type": "markdown",
   "id": "43f6cec9",
   "metadata": {},
   "source": [
    "On February 19, Spanish newspapers began to refer to reports from Cuba that there were no dead fish in the harbor of Havana, indicating that a torpedo could not have destroyed the *Maine* and that, therefore, it must have been an accident. Toward the end of the news cycle that we studied, the \"no dead fish in the water\" news item spread from Spain to various Dutch, (regional) American, Mexican, and German newspapers. On February 20, 1898, stories on the investigation commission, the arrival of divers, including those sent by the *World* and the *Herald*, and the tensions over the authorization to inspect the wreck's hull by the Spanish colonial government or the American Consul dominated the Spanish press. Another piece of news was the Spanish Council of Ministers meeting and the diplomatic exchange with Washington. Through its correspondents, *El Imparcial* dedicated its main article to the session in the United States Senate and to the participation of Senator Mason, who maintained the theory of a direct attack. The report also referenced the existence of a group of jingoes who sought war and, in the following days, became the object of attention in the Spanish media, intending to discredit them."
   ]
  },
  {
   "cell_type": "markdown",
   "id": "75424959",
   "metadata": {},
   "source": [
    "*El Correo Militar* exemplifies a typical editorial change in the views of the Spanish press, which claimed different positions on different days. In the following example, it can be seen that the newspapers' first shift (one day’s edition) argues the explosion was an accident, while in the second shift (the next day’s edition), the same paper claims it was an attack: "
   ]
  },
  {
   "cell_type": "markdown",
   "id": "28ba1fed",
   "metadata": {},
   "source": [
    ">En la cuestión con los Estados Unidos, ya se sabe: Turno par: (el de ayer. Véanse EL Imparcial, etc.) <Todo va perfectamente. El Gobierno de Washington y la prensa sensata han convencido á las gentes de allá a un accidente casual. No irán más buques norteamericanos á Cuba. Para investigar las causas de la catástrofe, procederán de acuerdo las comisiones española y americana. Se debe confiar en que todo termine satisfactoriamente.> Turno impar: (el de hoy. Véanse los susodichos periódicos) <El espíritu más belicoso domina entre los yankees. La idea de que lo del Maine fue intencionado cunde entre las masas. La convicción general es que viene la guerra. El Gobierno de Washington prepara más buques y dispone tropas. Se aproximan graves sucesos.> "
   ]
  },
  {
   "cell_type": "markdown",
   "id": "044d1161",
   "metadata": {},
   "source": [
    ">“On the question with the United States, it is already known: One day: (yesterday's. See El Impartial, etc.) <Everything is going perfectly. The Government of Washington and the sensible press have convinced the people there to a chance accident. No more American ships will go to Cuba. To investigate the causes of the catastrophe, the Spanish and American commissions will proceed in agreement. It must be trusted that everything ends satisfactorily.> The odd day: (Today's. See the aforementioned newspapers) <The most bellicose spirit dominates among the Yankees. The idea that the *Maine* thing was intentional is spreading among the masses. The general conviction is that war is coming. The Government of Washington prepares more ships and has troops. Serious events are coming.>” (google.translate)"
   ]
  },
  {
   "cell_type": "markdown",
   "id": "9016ff70",
   "metadata": {},
   "source": [
    "\n",
    "In the days following, the press consistently alternated between certainty that it was an accident and how Americans were more inclined to believe in the attack hypothesis. A vital news focus was the report of what the North American and European press wrote and the pending investigation of the causes of the explosion. Between this moment and the end of March, the Spanish press started to talk seriously about an imminent war (<cite data-cite=\"6095605/Z8D4MCP8\"></cite> 89).\n"
   ]
  },
  {
   "cell_type": "markdown",
   "id": "700d51b8",
   "metadata": {},
   "source": [
    "### United States of America"
   ]
  },
  {
   "cell_type": "markdown",
   "id": "90e1cbf0",
   "metadata": {},
   "source": [
    "Newspapers from the United States often referenced politicians (17.3%), military personnel (16.8%), and Sigsbee (16.1%). By and large, 40.9% of American newspapers favored a deliberate attack as the cause of the explosion. 30.7% of the opinions leaned toward an accident, while 28.4% asked readers to suspend their opinion. Our data also indicates that the American press and public relied on and emphasized what Captain Sigsbee had to say on the cause of the events in Havana harbor (24.3%). That about two-thirds of the American press initially hesitated to blame Spain for the loss of the *Maine* was primarily due to the reprints of Sigsbee's note of caution following the explosion that \"public opinion should be suspended until further report.\" The first telegram Sigsbee sent to the Secretary of the Navy read: \"Maine blown up in Havana harbor at nine forty tonight and destroyed. Many wounded and doubtless more killed and drowned. Wounded and others on board Spanish man-of-war and Ward Line streamer. Send light house tenders from Key West for crew and the few pieces of equipment above water. No one has clothing other than that upon him. Public opinion should be suspended until further report. All officers believed to be saved. Jenkins and Merritt not yet accounted for.\" (cited in <cite data-cite=\"6095605/ZX5QAL9Y\"></cite> 117-18)."
   ]
  },
  {
   "cell_type": "markdown",
   "id": "8fab6517",
   "metadata": {},
   "source": [
    "After the loss of the *Maine*, the American public (or at least the press) was so anxious to learn more about Sigsbee's opinion on the cause of the explosion that rumors spread widely and quickly. One news item that repeatedly appears in our data set is that Sigsbee sent a secret telegram to the Secretary of the Navy in which he blamed a torpedo, based on the observation of an eight-inch hole in the wreck of the *Maine*. The New York yellow press \"published a cablegram allegedly sent by Captain Sigsbee to the Secretary of the navy in which the commander stated that he knew the explosion was not an accident. Supposedly, the assistant secretary of the navy, Theodore Roosevelt, concurred with Sigsbee's conclusions. There was only one problem with the story: the communication was a fabrication\" (<cite data-cite=\"6095605/6DQ7MKZ3\"></cite> 148, cf. <cite data-cite=\"6095605/P97L8XTZ\"></cite> 65). We can trace this \"fake news\" in the press by checking and counting the contexts in which the words \"Sigsbee\" and \"opinion\" occur in our corpus. Some papers printed the fabricated \"attack telegram\" by the Captain of the *Maine* as news, whereas others marked it as a rumor. Our data show that the fabricated Sigsbee telegram circulated almost exclusively in the United States, constituting about 20% of the articles that mention \"Sigsbee\" and \"opinion.\""
   ]
  },
  {
   "cell_type": "markdown",
   "id": "d7326190",
   "metadata": {},
   "source": [
    "  \n",
    " Journalists and the public, in general, reacted to the sinking of the armored cruiser in Havana harbor with a relatively clear sense that this event could lead to war between the United States and Spain, depending on the cause of the explosion. As has been well-documented, the yellow press reacted in horror and disgust in the morning editions on February 16, 1898. Next to an illustration of an exploding battleship anchored over a mine in Havana harbor, Hearst's *Journal* reported: \"The Warship *Maine* was Split in Two by an Enemy's Infernal Machine,\" leaving no room for the possibility of an accident on board the ship. Ivan Musicant and other historians and commentators have assumed that an inflammatory press picked up the battle cry \"Remember the *Maine* . To Hell With Spain!\" which resonated with a newspaper-reading public that had already developed sympathy with the Cubans who were fighting against a cruel Spanish colonial regime, especially after 1895, through increasingly one-sided press reporting (<cite data-cite=\"6095605/4YQQCH7A\"></cite>). According to this historiographic narrative, after the *Maine* incident, American public sentiment rose in revenge against Spain, and as a result, relations between the two countries quickly soured, and tensions increased continuously. Joseph Wisan, in his study of New York journalism from 1895 to 1898, has also argued that the press played a significant role in preparing the ground for military intervention in Cuba and thus for war with Spain (<cite data-cite=\"6095605/8KWJRM5V\"></cite>). Siding clearly with the efforts of the Cuban revolutionaries (although still undecided about the island's political future), parts of the New York yellow press framed the explosion of the *Maine* as a deliberate attack and called for war almost immediately (<cite data-cite=\"6095605/8KWJRM5V\"></cite> 34, <cite data-cite=\"6095605/ZX5QAL9Y\"></cite> 122-23). This was not the first time that the yellow press had done so. Given the biased and sensationalist reporting on the Cuban situation in previous years, the call for war fit neatly into an already established discourse in which Spain was the antagonist, the Cubans were oppressed people fighting against monarchical misrule, and the United States the potential hero that could step in either under the banner of \"revenge\" or \"humanitarian aid,\" while securing its economic, political, and strategic interests in the region and globally. The *Journal* and other papers that engaged in sensationalist reporting saw the sinking of the *Maine* as yet another indication of the inevitability of a regime change in Cuba and increased publication numbers, page numbers, and expenses for generating news. Wisan explains: \"During the week beginning February 17, the *Journal* devoted an average daily space of 8½ pages to the *Maine* – news, editorials, and pictures. It sent the yachts *Buccaneer* and *Anita* and the tug *Echo* to Havana and massed at the Cuban capital its group of special correspondents [...]. It offered a reward of fifty thousand dollars\" (<cite data-cite=\"6095605/8KWJRM5V\"></cite>,390) for finding the perpetrator of the explosion, thereby denying that the incident could have been accidental. The yellow press repeatedly proved that it cared little for truthful accounts of reality. As if the investigation on the *Maine*'s wreck did not matter, the *Journal* declared that a mine had caused the explosion on the day divers were to inspect the site (<cite data-cite=\"6095605/ZX5QAL9Y\"></cite> 124).\n",
    "\n",
    "\n"
   ]
  },
  {
   "cell_type": "markdown",
   "id": "0d36f1b2",
   "metadata": {},
   "source": [
    "It is often overlooked, however, that the two leading New York yellow papers did not initially agree on the causes and consequences of the destruction of the *Maine* and reacted quite differently to the event. While the *Journal* had wanted war with Spain, was in favor of the independence of Cuba for a while, and considered the explosion to be the proverbial straw that broke the camel's back, the *World* reacted with more restraint when it came to blaming Spain and calling for military intervention (<cite data-cite=\"6095605/8KWJRM5V\"></cite> 393-94). Other New York papers, especially those critical of the jingoism expressed by the sensationalist press, sought to separate the *Maine* incident from an intervention into Cuba. By and large, the *Sun*, the *Evening Post*, the *Tribune*, and the *Times* accepted the accident theory and, to varying degrees, denounced the warmongering of parts of the American press (<cite data-cite=\"6095605/8KWJRM5V\"></cite> 396-99). In line with historians who emphasize the role of the (American) press in McKinley's decision to declare war on Spain, Wisan concludes that \"though the destruction of the *Maine* did not plunge the nation into immediate war, it created a situation from which escape without war was well-nigh impossible\" (<cite data-cite=\"6095605/8KWJRM5V\"></cite> 400). This assumption is only partly true. While Wisan's deep dive into New York journalism at the end of the nineteenth century offers essential insights into a media landscape that was highly relevant and visible (given, for instance, the amount of coverage of the New York press as American press in European papers), other studies of American journalism at the time indicate a much broader and varied spectrum of reporting than the scene in New York studied by Wisan. While the yellow and traditional New York presses still held particular importance, not least because of its international reception and citation, Harold J. Sylwester, George Auxier, and others have shown the diversity of opinions on the prospect of war and, significantly, the hostility of many Midwestern newspaper editors towards the sensationalist and increasingly powerful yellow press in New York, whose circulation and hence political capital was increasing steadily. "
   ]
  },
  {
   "cell_type": "markdown",
   "id": "73fd1e77",
   "metadata": {},
   "source": [
    "The *Indianapolis Journal* was a typical Midwestern paper that exemplified the more cautious and restrained position that part of the American press took after the destruction of the *Maine*. For instance, their reporting on what was known about the explosion on February 18, 1898, is comparatively objective and leveled, without engaging in sensationalism or jingoism. There is no sense of information suppression. The paper attempts to identify various rumors, and the reporting includes several sources, opinions, and angles on the situation in Havana, Washington, and Madrid that were available three days after the explosion. "
   ]
  },
  {
   "cell_type": "code",
   "execution_count": 15,
   "id": "fd01bfb9",
   "metadata": {
    "tags": [
     "figure-6"
    ]
   },
   "outputs": [
    {
     "data": {
      "text/html": [
       "\n",
       "        <iframe\n",
       "            width=\"1000\"\n",
       "            height=\"550\"\n",
       "            src=\"https://chroniclingamerica.loc.gov/data/batches/in_bradlaugh_ver02/data/sn82015679/0041566574A/1898021801/0483.pdf\"\n",
       "            frameborder=\"0\"\n",
       "            allowfullscreen\n",
       "            \n",
       "        ></iframe>\n",
       "        "
      ],
      "text/plain": [
       "<IPython.lib.display.IFrame at 0x7f77fc06e610>"
      ]
     },
     "metadata": {
      "jdh": {
       "module": "object",
       "object": {
        "source": [
         "figure 6: The *Indianapolis Journal*, February 18, 1898; digital facsimile, front page, excerpt. https://chroniclingamerica.loc.gov/lccn/sn82015679/1898-02-18/ed-1/"
        ],
        "type": "image"
       }
      }
     },
     "output_type": "display_data"
    }
   ],
   "source": [
    "from IPython.display import IFrame\n",
    "\n",
    "src = 'https://chroniclingamerica.loc.gov/data/batches/in_bradlaugh_ver02/data/sn82015679/0041566574A/1898021801/0483.pdf'\n",
    "metadata={\n",
    "    \"jdh\":{\n",
    "        \"module\": \"object\",\n",
    "        \"object\": {\n",
    "          \"type\": \"image\",\n",
    "           \"source\": [\n",
    "            \"figure 6: The *Indianapolis Journal*, February 18, 1898; digital facsimile, front page. https://chroniclingamerica.loc.gov/lccn/sn82015679/1898-02-18/ed-1/\"\n",
    "\n",
    "          ]\n",
    "        }\n",
    "    }\n",
    "}\n",
    "display(IFrame(src, width=1000, height=550), metadata=metadata)"
   ]
  },
  {
   "cell_type": "markdown",
   "id": "493895ca",
   "metadata": {},
   "source": [
    "It is particularly interesting to note how this regional paper, as with most dailies published in the United States during the late nineteenth century, included the reception by the foreign press, which newspapers received through the growing international cable system that facilitated a more rapid exchange of information. For instance, the *Indianapolis Journal*, featuring foreign reactions to the sinking of the *Maine* quite prominently on pages one and two, wrote about the British press reaction: \"The provincial morning newspapers make comment [sic!] similar in tone to those of the London morning, and the London afternoon newspapers devote much space to the disaster\" (*Indianapolis Journal*, February 18, 1898, p.2). This illustrates how well-connected the American press was at the time and how well-regarded the United States' international reputation was, especially in Europe, indicating where national support of European countries in a possible conflict between the United States and Spain might fall.\n",
    "\n"
   ]
  },
  {
   "cell_type": "markdown",
   "id": "e391621a",
   "metadata": {},
   "source": [
    "Similar to the diversification of opinions in American newspapers, the reactions to the *Maine*'s sinking from non-Spanish newspaper offices in European countries were also far from unanimous. Despite various ideological and regional differences, most conservative editorials in Europe had been rather critical of U.S. military interventions since the Mexican-American War (1846-1848) and hence tended to side with Spain in the emerging conflict with the United States; whereas liberal and progressive/socialist voices in the press tended to be more pro-American (<cite data-cite=\"6095605/BLSHWQQ2\"></cite> 84, <cite data-cite=\"6095605/G8NB8QB5\"></cite> 12-13). In most European countries, the reactions to the explosion reflected the political direction of the respective paper, which, similar to the newspaper scene in the United States, was affiliated with a particular political movement, faith, or economic sector. While one can detect transnational similarities between how certain political interest groups in different European countries reacted to the news about the *Maine*, specific national perspectives on the ensuing conflict are recognizable in the digitized newspaper data collected for this study."
   ]
  },
  {
   "cell_type": "markdown",
   "id": "d513801a",
   "metadata": {},
   "source": [
    "### Great Britain"
   ]
  },
  {
   "cell_type": "markdown",
   "id": "ccb128bd",
   "metadata": {},
   "source": [
    "The U.K. was the only major power in Europe that sided openly with the United States. The newspapers from the British Isles included in our corpus offer extensive reporting on the events surrounding the events in Havana harbor. Overall, the first reports in the British press printed details that came from various telegrams from the United States, Spain, mainland Europe, and Cuba (including Sigsbee's note of caution) as well as from American newspapers and special correspondents in various locations.  Several newspapers referenced the New York yellow press, e.g., the London-based *Daily News* blamed Spain solely. Other newspapers, such as the *Glasgow Herald*, emphasized the \"Bravery of Spanish Seamen\" (February 17, 1898) who came to aid the American sailors after the explosion. Furthermore, some newspapers compared the sinking of the *Maine* to similar events that had occurred in British naval history to relate the severity to their readers. In the first few days after the incident, the British press leaned on the side of the accident hypothesis, mainly because the ship did not sink immediately, while also stating that the cause of the explosion needed further investigation. Sigsbee was the most often quoted voice concerning the cause of the explosion (22.2%), followed by military personnel (13.9%) and experts (11.1%). These actors generally asked the public to suspend opinion (61.1%), and some voices leaned towards an accident (27.8%). British papers also expressed a general concern about the necessity and inevitability of war between the U.S. and Spain in the first days after the explosion. "
   ]
  },
  {
   "cell_type": "markdown",
   "id": "f23f0e4e",
   "metadata": {},
   "source": [
    "In the following days, reports became longer and attempts to convey the human tragedy of the explosion increased. Articles on how politicians in Washington and Captain Sigsbee tried to quell rushed calls for war with Spain also appeared in numerous papers. Furthermore the British press amplified the sympathy expressed by the Cubans and the Spanish for the loss of lives and materials and the respect that was given to the dead American soldiers. The subtext underlying this reporting was that the explosion did not constitute an intentional act of war but rather a tragic accident. On February 18, the *Daily News* claimed that all signs pointed in the direction of an accident and that the American press was initially quite actively engaged in suppressing calls for war with Spain. "
   ]
  },
  {
   "cell_type": "markdown",
   "id": "a678524d",
   "metadata": {},
   "source": [
    "On February 19, the news cycle shifted towards various condolences and the funeral for the lost sailors. In addition, the British press began to report extensively on the Spanish plan to send the battleship *Vizcaya* to New York City on a \"friendly\" visit, which was considered a sign of increasing tension between the United States and Spain. Also, on the day of the funeral, there were first reports about a torpedo hole in the wreck of the *Maine* in newspapers in the U.S. British readers further learned that the American public was increasingly convinced that war was coming, as was indicated by reports of an increase of young American men signing up for military service."
   ]
  },
  {
   "cell_type": "markdown",
   "id": "fa88a5e0",
   "metadata": {},
   "source": [
    "The following news week (starting Monday, February 21) began with British papers relaying the latest information on the *Maine* incident, including the selection of divers investigating the cause and the different hypotheses (accident vs. design) discussed in political and media circles in the United States. The reporting was now integrated into other international news, even though the imminent danger of war was voiced and caution was called for repeatedly. Shifting away from the accident hypothesis, the British press began to present increasing evidence for the torpedo theory and to report on the attendant shift toward war in American public opinion: \"The belief most widely held by the outside public is that the ship was blown up by a mine.\" (*Glasgow Herald*, February 21, 1898)."
   ]
  },
  {
   "cell_type": "markdown",
   "id": "a857c869",
   "metadata": {},
   "source": [
    "Overall, the British press proved comparatively well-informed about political developments and the media discourse in the United States (and to a lesser extent in Spain). Our data shows that their access to various cable and news services as well as to the leading New York and Washington newspapers, yellow and more traditional, was extensive, and hence allowed them to present their readers with the latest news on the events occurring during and after the explosion of the *Maine*. The amount of detailed information about the event that readers in the U.K. received differed significantly from that in other European countries, primarily due to news censorship in countries such as Germany and Austria-Hungary. \n"
   ]
  },
  {
   "cell_type": "markdown",
   "id": "e7c3f1ff",
   "metadata": {},
   "source": [
    "### Germany"
   ]
  },
  {
   "cell_type": "markdown",
   "id": "e109b669",
   "metadata": {},
   "source": [
    "German newspapers relied almost exclusively on A.P. sources through London, Washington, and New York in addition to some reports from Cuba and Madrid immediately following the explosion. While initial reports after the sinking of the *Maine* remained uncertain about its cause, German newspapers soon concluded that it had to have originated internally and thus not by Spain. In addition, most of the editorials rejected U.S. military interventions on legal and moral grounds. Commentators first mourned the loss of a fine cruiser and then quickly criticized how the American yellow press employed the incident to fan the flames of war (<cite data-cite=\"6095605/E3FNKKMA\"></cite> 76-78). Instead of siding with Spain, the German press propagated a neutral stance while failing to report on Germany's own imperial ambitions  in the conflict between Spain and the United States (<cite data-cite=\"6095605/E3FNKKMA\"></cite> 83, <cite data-cite=\"6095605/6KQ8G8UC\"></cite> 144-48, <cite data-cite=\"6095605/CAHH74FZ\"></cite>)."
   ]
  },
  {
   "cell_type": "markdown",
   "id": "03c5cdb3",
   "metadata": {},
   "source": [
    "Although the German press purported to stay neutral, our data show a clear tendency towards the accident hypothesis and towards amplifying Sigsbee's note of caution. Our scalable reading method indicates that newspapers in Germany re-printed Captain Sigsbee's call to \"suspend opinion\" more frequently than any other nation in our corpus. It is also interesting to note that they relied far less on expert opinions or those of politicians but rather on those by Sigsbee (21.4%) and survivors (35.7%). In addition, no other group of papers available to us from different countries seemed as interested in the opinions of eyewitnesses as the German one. This reliance on survivor testimony and the high frequency of re-printing Sigsbee's call to suspend judgment ties in with a comparatively strong leaning towards the accident hypothesis (50%) in the digitized German newspapers. "
   ]
  },
  {
   "cell_type": "markdown",
   "id": "e3f0add2",
   "metadata": {},
   "source": [
    "Most of the initial German newspaper reports attributed the explosion to an internal combustion in the bunkers of the *Maine*. The editorial section of an article on the explosion in the *Neue Hamburger Zeitung* was unusually clear about the (unconfirmed) *Schadenfreude* among Spanish circles in Havana and Madrid about the loss of an American warship. On February 18, most German newspapers stressed the message of condolence sent by the German Emperor, and the sampled data indicates that most papers expressed the opinion that the explosion could only have originated inside the *Maine*. The *Hamburger Anzeiger* reported on the torpedo hypothesis that had been gaining traction in Washington and New York and added that if this were proven accurate, then war between the United States and Spain would be inevitable. The *Berliner Tageblatt* declared the discovery of the *Maine*'s wreck hole, which could only be attributed to a torpedo hitting the ship, as a rumor. According to this Berlin newspaper, most first-hand accounts by surviving soldiers agreed that the explosion was caused internally. On February 19, German newspapers reported on the funeral and again on how eagerly German officials had expressed their condolences to various members of the U.S. government. In hindsight, it is clear that the German press served as a mouthpiece for seemingly noble official acts while being largely silent on the issue of German involvement in a possible Spanish-American war. "
   ]
  },
  {
   "cell_type": "markdown",
   "id": "86dcea6f",
   "metadata": {},
   "source": [
    "\n",
    "On February 21, many papers discussed the two explanatory approaches and discarded the torpedo hypothesis because of the lack of dead fish in Havana harbor that would naturally occur when a torpedo or mine detonates. In addition, German papers provided information on the imminent friendly visit of the *Vizcaya* to New York and the debate about who would lead and participate in the official investigation of the wreck. On February 22, the *Hamburger Nachrichten* again discussed various aspects of accident and design theories, landing clearly on the side of the former. Most German papers cited the primary New York papers, including the *Times*, the *Journal*, the *Herald*, and the *World*, when they reported on how the event was seen in the American press and, by extension, the American public. The *Berliner Tageblatt* proved especially critical of the \"jingo press\" that made its readers believe that a (Spanish/Cuban) torpedo was responsible for the sinking of the *Maine*, with war being the only option for the U.S. to avenge this humiliating act.\n"
   ]
  },
  {
   "cell_type": "markdown",
   "id": "5885a1a4",
   "metadata": {},
   "source": [
    "### The Netherlands"
   ]
  },
  {
   "cell_type": "markdown",
   "id": "98d87c01",
   "metadata": {},
   "source": [
    "The Dutch press also picked up the topic of the *Maine* on February 17 by re-printing telegraphic reports on the explosion itself and the number of missing sailors known at the time. The *Algemeen Handelsblad* from Amsterdam, one of the first papers in the Netherlands to report on the event, speculated that the explosion was internally caused (and not by a torpedo) because the cruiser did not sink immediately, an opinion that was echoed and repeated in other Dutch papers. In the following days, the reports on the *Maine* became more elaborate, although they still relied on telegrams relaying basic information about the event. On February 18, the *Algemeen Handelsblad* and other Dutch papers attempted to absolve Spain from actively pursuing the bombing of the *Maine* by pointing out how the Spanish navy and colonial government came to help the survivors of the American ship. On February 19, the peak day of reporting, most newspapers reported on a Reuter's telegram about an 8-inch hole discovered near the keel of the *Maine*, indicating the possibility that the ship was sunk intentionally by a torpedo or an underwater mine placed and operated on behalf of Spain. In contrast to other national presses, however, this information was not marked as a rumor but as fact. Rather than solely relying on telegraphic reports, editors and journalists now also included what newspapers in the United States, especially the *Journal* and *Herald*, featured in their reporting. Many Dutch papers considered the jingoistic New York yellow press, with its early amplification of the torpedo theory, as an expression of American public opinion beginning to become more bellicose. As stated above, the re-printing of American yellow papers is why a comparatively high number of voices of journalists in the Dutch press leaned towards the attack hypothesis."
   ]
  },
  {
   "cell_type": "code",
   "execution_count": 16,
   "id": "7d4e6f54",
   "metadata": {
    "tags": [
     "figure-7"
    ]
   },
   "outputs": [
    {
     "data": {
      "text/html": [
       "\n",
       "        <iframe\n",
       "            width=\"1000\"\n",
       "            height=\"550\"\n",
       "            src=\"https://resolver.kb.nl/resolve?urn=ddd:010177239:mpeg21:pdf\"\n",
       "            frameborder=\"0\"\n",
       "            allowfullscreen\n",
       "            \n",
       "        ></iframe>\n",
       "        "
      ],
      "text/plain": [
       "<IPython.lib.display.IFrame at 0x7f77f77e9f10>"
      ]
     },
     "metadata": {
      "jdh": {
       "module": "object",
       "object": {
        "source": [
         "figure 7: *Rotterdamsch Nieuwsblad*, February 19, 1898; digital facsimile, page 5, excerpt. https://resolver.kb.nl/resolve?urn=ddd:010177239:mpeg21:pdf"
        ],
        "type": "image"
       }
      }
     },
     "output_type": "display_data"
    }
   ],
   "source": [
    "from IPython.display import IFrame\n",
    "\n",
    "src = 'https://resolver.kb.nl/resolve?urn=ddd:010177239:mpeg21:pdf'\n",
    "metadata={\n",
    "    \"jdh\":{\n",
    "        \"module\": \"object\",\n",
    "        \"object\": {\n",
    "          \"type\": \"image\",\n",
    "           \"source\": [\n",
    "            \"figure 7: *Rotterdamsch Nieuwsblad*, February 19, 1898; digital facsimile. https://resolver.kb.nl/resolve?urn=ddd:010177239:mpeg21:pdf\"\n",
    "\n",
    "          ]\n",
    "        }\n",
    "    }\n",
    "}\n",
    "display(IFrame(src, width=1000, height=550), metadata=metadata)"
   ]
  },
  {
   "cell_type": "markdown",
   "id": "812a6952",
   "metadata": {},
   "source": [
    "Such rather detailed articles appeared mostly in metropolitan papers from Amsterdam, Den Haag, and Rotterdam, whereas most regional papers (e.g., the *Venloosche Courant*) only reported on the explosion on February 19, 1898. Beginning on February 20, Dutch news on the *Maine* became shorter and less frequent as they focused mainly on the explosion's aftermath, such as the number of casualties or the pending investigation of the wreck, rather than on the possible cause. Overall, as Bootsma concludes, \"[d]espite the ideological diversity of the Dutch press, most papers fitted into the almost general European pattern (British newspapers excepted) of condemning the American intervention in Cuba\" (<cite data-cite=\"6095605/JWLE9TI6\"></cite> 40). In the first week after the sinking, Dutch papers did not rely on survivor or expert testimony at all, which is in stark contrast to German-language reporting and other national presses at the time. Military personnel (27.8%) and journalists (16.7%) were the most vocal actors in the press, while Sigsbee and politicians appeared less prominently (11.1% each). In addition, our data support the ideological diversity assumption in the Dutch press, which indicates an almost even distribution of published opinions that favor an accident (46.7%) and those that claim it was a deliberate attack (40%). "
   ]
  },
  {
   "cell_type": "markdown",
   "id": "20a5ee40",
   "metadata": {},
   "source": [
    "### Finland"
   ]
  },
  {
   "cell_type": "markdown",
   "id": "2b1744de",
   "metadata": {},
   "source": [
    "Our newspaper corpus on the *Maine* exposes various details about the Finnish press and the transatlantic dissemination of knowledge. The news appeared first in Helsinki and from there spread to smaller cities and towns. Although the number of newspapers written in Finnish was higher, the Swedish-language press, especially *Hufvudstadsbladet*, was the first to publish extensive reports about the explosion. Moreover, *Hufvudstadsbladet* appeared to dominate the internal dissemination of knowledge about the explosion because various newspapers referred to the reports published in this newspaper. In addition, the explosion of the *Maine* is a telling example of how the transmission of knowledge operated concerning an occurrence that took place far removed from, yet linked to, Finland. The efficient reporting of the event indicates that the Finnish people saw it as relevant and exciting news.  Moreover, the Finnish press also discovered a national connection with the case, as they began to speculate that Arthur Brofeldt, a Finnish citizen who had emigrated to the United States, was serving on the ship as Chief Gunner’s Mate and died during the explosion. In addition, and in contrast to other countries, Finnish newspapers mainly relied on expert testimony (60%). Sigsbee's note of caution is not mentioned at all. Nonetheless, most papers argued it was an accident (81.3%), which is a significantly higher number than in any other national press sampled for this study."
   ]
  },
  {
   "cell_type": "markdown",
   "id": "2afd602e",
   "metadata": {},
   "source": [
    "### Mexico"
   ]
  },
  {
   "cell_type": "markdown",
   "id": "32d2272d",
   "metadata": {},
   "source": [
    "The Mexican news coverage showed both idiosyncrasies and similarities with other national presses. For instance, it differed from others in the fluidity and fast communication between continents. The reception of telegrams in Mexican news offices generated a lot of political confrontations that were in part fed by the clear and comparatively open stances of newspapers that covered the story. At the end of the nineteenth century, Mexico City was well connected to the conduits of global information flows. Due to its geographic location and a recent push to extend telegraph lines in the Western Hemisphere, Mexico was connected to Havana and Jamaica via a submarine cable and landlines to the United States. The emerging confrontation between the U.S. and Spain over hegemony in the Americas accelerated the telegraphic line's expansion in Mexico, which was part of a more extensive network of communication than, for example, that which existed in Germany, a country that relied primarily on Anglo-American news sources. Another interesting point in this context is that in the last decade of the nineteenth century, the press in Mexico was made up of a range of newspapers that represented not only the interests of various national or political groups but also those of foreign communities living in Mexico, notably the Spanish and the North American (<cite data-cite=\"6095605/AJFI6GIE\"></cite> 258)."
   ]
  },
  {
   "cell_type": "markdown",
   "id": "e7ab8ee4",
   "metadata": {},
   "source": [
    "Overall, the opinions voiced in the Mexican press tended towards an accident (50%), while voices asking for suspension of opinion (26.1%) and those claiming an attack (23.9%) make up the rest. Mexican newspapers represent a comparatively balanced number of voices, especially Sigsbee (16.7%), politicians (15.6%), military personnel (13.3%), and experts (16.7%). Interestingly, we find both positions (accident and attack) distributed almost equally among the politicians whose opinions were printed. The rest are unanimous voices in favor of the accident hypothesis. In the case of Sigsbee's opinion, we found evidence of the circulation of the fabricated telegram showing the connection of some of the Mexican papers with the news sources in the United States. "
   ]
  },
  {
   "cell_type": "markdown",
   "id": "d9b0b6cd",
   "metadata": {},
   "source": [
    "In the days following the explosion of the *Maine*, the Mexican press featured opposing versions concerning its cause. For instance, *El Correo Español* published its anti-American stance in its editorials bluntly and openly by favoring the accident hypothesis. Yet, different accounts about what happened came from New York, whose press broadly and quickly concluded that it was a targeted Spanish attack from Cuban soil. Soon, Mexican newspapers were filled with rumors and arguments for and against the two positions."
   ]
  },
  {
   "cell_type": "code",
   "execution_count": 17,
   "id": "f249f11d",
   "metadata": {
    "tags": [
     "figure-8"
    ]
   },
   "outputs": [
    {
     "data": {
      "text/html": [
       "\n",
       "        <iframe\n",
       "            width=\"1000\"\n",
       "            height=\"550\"\n",
       "            src=\"https://hndm.iib.unam.mx/consulta/resultados/visualizar/558a33207d1ed64f16908db9?resultado=14&tipo=pagina&intPagina=1&palabras=Maine#bajar\"\n",
       "            frameborder=\"0\"\n",
       "            allowfullscreen\n",
       "            \n",
       "        ></iframe>\n",
       "        "
      ],
      "text/plain": [
       "<IPython.lib.display.IFrame at 0x7f77f7749b10>"
      ]
     },
     "metadata": {
      "jdh": {
       "module": "object",
       "object": {
        "source": [
         "figure 8: The *Mexican Herald*, February 17, 1898; digital facsimile, front page, excerpt. https://hndm.iib.unam.mx/consulta/resultados/visualizar/558a33207d1ed64f16908db9?resultado=14&tipo=pagina&intPagina=1&palabras=Maine#bajar"
        ],
        "type": "image"
       }
      }
     },
     "output_type": "display_data"
    }
   ],
   "source": [
    "from IPython.display import IFrame\n",
    "\n",
    "src = 'https://hndm.iib.unam.mx/consulta/resultados/visualizar/558a33207d1ed64f16908db9?resultado=14&tipo=pagina&intPagina=1&palabras=Maine#bajar'\n",
    "metadata={\n",
    "    \"jdh\":{\n",
    "        \"module\": \"object\",\n",
    "        \"object\": {\n",
    "          \"type\": \"image\",\n",
    "           \"source\": [\n",
    "            \"figure 8: The *Mexican Herald*, February 17, 1898; digital facsimile, front page, excerpt. https://hndm.iib.unam.mx/consulta/resultados/visualizar/558a33207d1ed64f16908db9?resultado=14&tipo=pagina&intPagina=1&palabras=Maine#bajar\"\n",
    "\n",
    "          ]\n",
    "        }\n",
    "    }\n",
    "}\n",
    "display(IFrame(src, width=1000, height=550), metadata=metadata)"
   ]
  },
  {
   "cell_type": "markdown",
   "id": "6ac911bd",
   "metadata": {},
   "source": [
    "In addition, more details about the tribulation, the *Maine*'s physical characteristics, and the time of service, among other aspects, were published. Many articles referenced Captain Sigsbee's statements to the press and the confrontation between his version of the facts before and after the explosion. Mexican newspapers consistently offered competing explanations about the explosion, both official ones and those from the case's investigative group, who reported on how Spanish authorities had intercepted Captain Sigsbee's communications to and from the United States. There was also quite a bit of concern in the Mexican press because Spain had initially refused to allow American divers and experts to enter Havana harbor to inspect the *Maine*'s wreck. The newspapers also included satirical and mocking columns, usually on the margin of the official news. The Mexican press, influenced by the French and Spanish press, published opinion pieces like those in *Croniquillas* (a diminutive for chronicle), defined as gloss of a fact, of an event, that not only informs but judges and values (<cite data-cite=\"6095605/E44KKNDN\"></cite> 146). Professional literary writers usually wrote these in a flexible style to show their point of view and their ingenuity."
   ]
  },
  {
   "cell_type": "markdown",
   "id": "c1d60329",
   "metadata": {},
   "source": [
    "During this study's investigation period, those who sympathized with Spain tended to be more active in the press than those who favored the American side. For instance, several prose pieces, poems, and songs dedicated to Spain appear in the Mexican press. Many of these literary texts also displayed a sense of *Schadenfreude* at seeing the *Maine* sunk. Other newspapers publicly sanctioned some positions, and the *Correo Español* was asked to retract what they had published. \n"
   ]
  },
  {
   "cell_type": "markdown",
   "id": "c39f0b87",
   "metadata": {},
   "source": [
    ">“If I was to speak frankly, of course I’ve felt the deaths\n",
    ">from the explosion, but I don’t think is wrong that the Maine went down. \n",
    ">This lost for someone with so much money is nothing. \n",
    ">Is like picking a hair from a pig.” (*Continente Americano*, February 20, 1898)"
   ]
  },
  {
   "cell_type": "markdown",
   "id": "01f6aa3a",
   "metadata": {},
   "source": [
    "Notably, these two publications, under the title \"Thoughts from *El Correo Español* about the *Maine* disaster,\" aroused the publication of protest stories because of the \"outrageous\" demonstration of Spanish \"nobility.\" Newspapers, such as *Continente Americano*, edited in Mexico City, published a story on February 20, 1898, in which it explained that they refused to print some texts coming from Spain because of their high content of \"rude language\" and lamented the \"vengeful spirit\" of the received telegrams. *La Voz* and *El Imparcial* also published their opinions about the distasteful and inconvenient publication from the Spanish press. In response, *El Correo Español* published the following: "
   ]
  },
  {
   "cell_type": "markdown",
   "id": "4229013e",
   "metadata": {},
   "source": [
    ">*El Mundo y El Imparcial*,\n",
    ">Que muestran su amor a España\n",
    ">Cuantas veces se presenta\n",
    ">La ocasión para alabarla,\n",
    ">Con el asunto del “Maine”\n",
    ">han dejado bien sentada\n",
    ">su reputación de …. Sables,\n",
    ">por no usar otra palabra.\n",
    ">Su información es tan sólo\n",
    ">De Cayo Hueso y de Tampa,\n",
    ">Y por lo mismo insurrecta,\n",
    ">Y por lo mismo muy mala.\n",
    ">Hora es ya que se comprima\n",
    ">la prensa subvencionada;\n",
    ">hora es ya que se presente\n",
    ">noblemente y cara á cara,\n",
    ">para que todos sepamos\n",
    ">si es ó no amiga de España.\n",
    ">Porque nunca ha sido noble\n",
    ">valerse de malas mañas,\n",
    ">como hace todos los días\n",
    ">la prensa subvencionada."
   ]
  },
  {
   "cell_type": "markdown",
   "id": "2958812c",
   "metadata": {},
   "source": [
    ">“*The World* and *The Impartial*,\n",
    ">Who show their love to Spain\n",
    ">How many times does it show up?\n",
    ">The occasion to praise her,\n",
    ">With the matter of the \"*Maine*\"\n",
    ">they have left well seated\n",
    ">its reputation for... sabers,\n",
    ">not to use another word.\n",
    ">Your information is only\n",
    ">From Key West and from Tampa,\n",
    ">And for the same insurgent,\n",
    ">And for the same very bad.\n",
    ">Time it is already compressed\n",
    ">the subsidized press;\n",
    ">time is now for it to show up\n",
    ">nobly and face to face,\n",
    ">so we all know\n",
    ">whether or not she is a friend of Spain.\n",
    ">Because she has never been noble\n",
    ">make use of bad habits,\n",
    ">like she does every day\n",
    ">the subsidized press.” (google.translate)"
   ]
  },
  {
   "cell_type": "markdown",
   "id": "72b4edf1",
   "metadata": {},
   "source": [
    "American newspapers in Mexico, including those that tried to portray neutrality, refrained from publishing these literary forms when covering the events. However, one can easily detect an increase in opinion pieces about the diplomatic crisis that were in favor of American hegemony in the region and that argued for the need for the U.S. to intervene on the island as it saw fit, without authorization from Spain."
   ]
  },
  {
   "cell_type": "markdown",
   "id": "1a4cd8f2",
   "metadata": {},
   "source": [
    "## Conclusion: Remember the *Maine*?"
   ]
  },
  {
   "cell_type": "markdown",
   "id": "365515b5",
   "metadata": {},
   "source": [
    "Although largely forgotten in public education and imagination, the Spanish-American war played an essential role in changing the imperial guards in the Western Hemisphere. After a brief war of only four months, the United States had not only acquired control over Puerto Rico, Hawaii, Guam, the Philippines, and Cuba but had also asserted its role as the regional superpower and as a new and aspiring player on the international scene. The explosion of the *Maine* on February 15, 1898, is seen by historians as the point of no return on the imperial path for the U.S. While war sentiment was still relatively low immediately after the explosion, voices calling for armed intervention in Cuba grew in numbers and strength consistently during the spring of 1898. In light of a public geared up for military intervention in part by a warmongering yellow press and driven by political and economic interests, President McKinley decided to take the United States to war with Spain over its remaining holdings in the Western Hemisphere. In the months following the declaration of war against Spain, the American press reflected and amplified public opinion in the United States that was increasingly in favor of military intervention. By January 1898, the press and the public had sympathized with the cause of Cuban independence, yet there was relatively strong disagreement over the right course of intervening in the conflict on the island. This sentiment began to shift towards war only after the sinking of the *Maine*, which remained an important reference point in the international press, especially in American papers, in the two months leading up to the outbreak of war. After the time window analyzed in this article (February 16-23, 1898), the slogan \"Remember the *Maine*, (to hell with Spain)!\" began to circulate throughout U.S. newspapers and was often cited and commented on in various international papers. This call for mobilization intensified, especially after the investigative committee's report was published on March 28, 1898, which attributed the cause of the explosion to a mine while remaining silent on who placed it. By the time Spain and the United States declared war on each other (on April 19 and 25, respectively), the American press was by and large behind the national cause of freeing Cuba and securing American interests in the region (<cite data-cite=\"6095605/ZX5QAL9Y\"></cite> 145-46). "
   ]
  },
  {
   "cell_type": "markdown",
   "id": "248e8058",
   "metadata": {},
   "source": [
    "Our data-assisted approach to studying international reactions to a seminal event illustrates how national presses used specific authorities (e.g., military members, survivors, or politicians) to present certain opinions that served varying interest groups. When we look at how actors and their opinions on the incident are represented in newspaper data, we get a clearer sense of how the print media shaped and reflected public opinion about the sinking of the *Maine* across the countries studied. We can conclude that except for the yellow press in the United States, there was no immediate call for war in the U.S. or the international press by politicians or experts, primarily because of Captain Sigsbee's note of caution that circulated in almost all the newspapers in all countries. Another relevant conclusion is that our results show that the press shaped local public opinion by the voices it reproduced and how often they were frequented. Notoriously, the U.S. press reported on both the attack and accident hypotheses through a plurality of speakers. In Spain's case, the attack position came from reports from politicians in the United States or the reaction of Spanish politicians to what was said in Washington, as well as reports on what was circulating in the American press. By contrast, the possibility of it being an accident came from experts, military personnel, and survivors. The relative uniformity of the sources used for the U.S. case contrasts with the multiple voices used in the Spanish, and it shows how uniformity among those who supported the attack hypothesis skewed the information in favor of the accident hypothesis. With regard to countries with less interest in the conflict between Spain and the United States over Cuba, the sources tend to be less confident, with the extreme case being Finland, whose newspapers relied exclusively on experts. This may reflect different causes in each country, from the informative interest at the local level of the event to some political bias, to local journalistic practices and access to international news."
   ]
  },
  {
   "cell_type": "markdown",
   "id": "7f0ad0b1",
   "metadata": {},
   "source": [
    "Our analysis of international news coverage of a particular historical event presents several advantages over more conventional research methods while also being prone to limitations. Previous research projects have often relied on scholars spending time in physical archives, which was often necessarily limited to a single country or even a specific region or city. The increasing availability of digitized newspapers and information technology allows for a \"democratization\" of historical research due to access to material previously only available in print. While there are still many obstacles for scholars engaging with digital newspaper archives–ranging from a lack of access to specific papers owned by profit-oriented institutions to challenges involved in the computational processing of newspapers as data–the new access to historical information facilitated by newspaper archives and other data providers has generated new opportunities for research in the Humanities. The hybrid methods employed in the present research project, albeit still limited in the degree of automation and flexibility, have enabled the recognition of outliers and patterns in the data that would otherwise have been impossible or at least very difficult to detect. In addition, the transnational cooperation of scholars from various Humanities and Computational disciplines to study journalistic representations of an event with global repercussions has facilitated the inclusion of diverse viewpoints and approaches."
   ]
  },
  {
   "cell_type": "markdown",
   "id": "10b48069",
   "metadata": {},
   "source": [
    "Finally, the present study offers insights into the self-referential nature of the international press system at the end of the nineteenth century. With our scalable method employed in studying newspaper data from that period, we were able to illustrate how certain newspapers paid attention to what happened in other countries through their newspapers, how they reacted to specific events of international scope, and how these were perceived at home and abroad. In doing so, many newspapers created and built upon already existing enemy and ally images; their gauging of public opinion in other countries in and through newspapers played a crucial role in foreign policy-making, as the case of the United States, and the willingness of its national community to engage in military conflict, makes particularly clear.\n"
   ]
  },
  {
   "cell_type": "markdown",
   "id": "a3c6a83e",
   "metadata": {},
   "source": [
    "### Acknowledgments"
   ]
  },
  {
   "cell_type": "markdown",
   "id": "20f0bf75",
   "metadata": {},
   "source": [
    "The authors would like to thank Seyda Akkaya, Ryan Cordell, Laura Martínez Domínguez, Jana Keck, Otto Latva, Laura Angélica López Méndez, Fabiola Delfín Martínez, Jamie Parker, Miriam Peña Pimentel, Rocío Castellanos Rueda, Iván Vladimir Meza Ruiz, Isabel Galina Russell, David Smith, and Ximena Gutiérrez Vásques for their help in preparing this article. "
   ]
  },
  {
   "cell_type": "markdown",
   "id": "fb8a1fb0",
   "metadata": {},
   "source": [
    "<div class=\"cite2c-biblio\"></div>"
   ]
  }
 ],
 "metadata": {
  "celltoolbar": "Tags",
  "cite2c": {
   "citations": {
    "6095605/3K5NG55P": {
     "editor": [
      {
       "family": "Dyal",
       "given": "Donald H."
      }
     ],
     "event-place": "Westport, CT",
     "id": "6095605/3K5NG55P",
     "issued": {
      "year": 1996
     },
     "language": "en",
     "publisher": "Greenwood Press",
     "publisher-place": "Westport, CT",
     "title": "Historical Dictionary of the Spanish American War",
     "type": "book"
    },
    "6095605/46XUDA7Z": {
     "author": [
      {
       "family": "Perez Jr.",
       "given": "Louis A."
      }
     ],
     "event-place": "Chapel Hill",
     "id": "6095605/46XUDA7Z",
     "issued": {
      "year": 1998
     },
     "language": "en",
     "publisher": "University of North Carolina Press",
     "publisher-place": "Chapel Hill",
     "title": "The War of 1898: The United States and Cuba in History and Historiography",
     "type": "book"
    },
    "6095605/4BGQ3G5T": {
     "author": [
      {
       "family": "Marian Magaña",
       "given": "Rosa F."
      },
      {
       "family": "Ornelas Tostado",
       "given": "Karla R."
      }
     ],
     "container-title": "Ab Initio",
     "id": "6095605/4BGQ3G5T",
     "issued": {
      "year": 2018
     },
     "language": "es",
     "page": "108–21",
     "page-first": "108",
     "title": "‘Tan lejos de Dios y tan cerca de Estados Unidos’: La posición adoptada por México durante la Guerra Hispano-norteamericana de 1898",
     "type": "article-journal",
     "volume": "12"
    },
    "6095605/4YQQCH7A": {
     "author": [
      {
       "family": "Musicant",
       "given": "Ivan"
      }
     ],
     "event-place": "New York",
     "id": "6095605/4YQQCH7A",
     "issued": {
      "year": 1990
     },
     "language": "en",
     "publisher": "Macmillan",
     "publisher-place": "New York",
     "title": "The Banana Wars: A History of United States Military Intervention in Latin America from the Spanish-American War to the Invasion of Panama",
     "type": "book"
    },
    "6095605/6APGTG5J": {
     "ISBN": "978-3-8258-0738-2",
     "author": [
      {
       "family": "Emmes",
       "given": "Manfred P."
      }
     ],
     "event-place": "Wien; Berlin; Zürich; Münster",
     "id": "6095605/6APGTG5J",
     "issued": {
      "day": 1,
      "month": 8,
      "year": 2007
     },
     "language": "German",
     "number-of-pages": "144",
     "publisher": "LIT",
     "publisher-place": "Wien; Berlin; Zürich; Münster",
     "title": "Deutschland und der Aufstieg der Vereinigten Staaten von Amerika zur Weltmacht",
     "type": "book"
    },
    "6095605/6DQ7MKZ3": {
     "author": [
      {
       "family": "Spencer",
       "given": "David Ralph"
      },
      {
       "family": "Overholser",
       "given": "Geneva"
      }
     ],
     "id": "6095605/6DQ7MKZ3",
     "issued": {
      "year": 2007
     },
     "language": "en",
     "publisher": "Northwestern University Press",
     "title": "The Yellow Journalism: The Press and America's Emergence as a World Power",
     "type": "book"
    },
    "6095605/6KQ8G8UC": {
     "author": [
      {
       "family": "Lowe",
       "given": "John"
      }
     ],
     "event-place": "London",
     "id": "6095605/6KQ8G8UC",
     "issued": {
      "year": 1994
     },
     "language": "en",
     "publisher": "Routledge",
     "publisher-place": "London",
     "title": "The Great Powers, Imperialism and the German Problem, 1865–1925",
     "type": "book"
    },
    "6095605/6TXMVZNM": {
     "author": [
      {
       "family": "Hendrickson Jr.",
       "given": "Kenneth E."
      }
     ],
     "event-place": "Westport, CT",
     "id": "6095605/6TXMVZNM",
     "issued": {
      "year": 2003
     },
     "language": "en",
     "publisher": "Greenwood Press",
     "publisher-place": "Westport, CT",
     "title": "The Spanish-American War",
     "type": "book"
    },
    "6095605/8B7QHMNB": {
     "author": [
      {
       "family": "Auxier",
       "given": "George W."
      }
     ],
     "container-title": "The Mississippi Valley Historical Review",
     "id": "6095605/8B7QHMNB",
     "issue": "4",
     "issued": {
      "month": 3,
      "year": 1940
     },
     "language": "en",
     "page": "523–34",
     "page-first": "523",
     "title": "Middle Western Newspapers and the Spanish American War, 1895-1898",
     "type": "article-journal",
     "volume": "26"
    },
    "6095605/8KWJRM5V": {
     "author": [
      {
       "family": "Wisan",
       "given": "Joseph E."
      }
     ],
     "event-place": "New York",
     "id": "6095605/8KWJRM5V",
     "issued": {
      "year": 1965
     },
     "language": "en",
     "publisher": "Columbia University Press",
     "publisher-place": "New York",
     "title": "The Cuban Crisis as Reflected in the New York Press (1895-1898)",
     "type": "book"
    },
    "6095605/AJFI6GIE": {
     "DOI": "10.35424/rha.159.2020.644",
     "accessed": {
      "day": 7,
      "month": 3,
      "year": 2022
     },
     "author": [
      {
       "family": "Castellanos",
       "given": "Rocío"
      },
      {
       "family": "Saisó",
       "given": "Ernesto Priani"
      },
      {
       "family": "Domínguez",
       "given": "Laura Martínez"
      }
     ],
     "container-title": "Revista de Historia de América",
     "id": "6095605/AJFI6GIE",
     "issued": {
      "year": 2020
     },
     "language": "es",
     "page": "255–287",
     "page-first": "255",
     "title": "Si los telegramas no mienten. Origen y circulación de las noticias de la explosión del Maine en la prensa mexicana, febrero 1898",
     "type": "article-journal",
     "volume": "159"
    },
    "6095605/BLSHWQQ2": {
     "author": [
      {
       "family": "Torruella",
       "given": "Juan R."
      }
     ],
     "event-place": "San Juan",
     "id": "6095605/BLSHWQQ2",
     "issued": {
      "year": 2007
     },
     "language": "en",
     "publisher": "La Editorial, Universidad de Puerto Rico",
     "publisher-place": "San Juan",
     "title": "Global Intrigues: The Era of the Spanish-American War and the Rise of the United States to World Power",
     "type": "book"
    },
    "6095605/BW8UK5UU": {
     "author": [
      {
       "family": "Moretti",
       "given": "Franco"
      }
     ],
     "container-title": "New Left Review",
     "id": "6095605/BW8UK5UU",
     "issued": {
      "year": 2000
     },
     "language": "en",
     "title": "Conjectures on World Literature",
     "type": "article-journal",
     "volume": "1-238"
    },
    "6095605/CAHH74FZ": {
     "author": [
      {
       "family": "Mitchell",
       "given": "Nancy"
      }
     ],
     "id": "6095605/CAHH74FZ",
     "issued": {
      "year": 1999
     },
     "language": "en",
     "publisher": "U of North Carolina P",
     "title": "The Danger of Dreams: German and American Imperialism in Latin America",
     "type": "book"
    },
    "6095605/CHKZZDP8": {
     "author": [
      {
       "family": "Blow",
       "given": "Michael"
      }
     ],
     "event-place": "New York",
     "id": "6095605/CHKZZDP8",
     "issued": {
      "year": 1992
     },
     "language": "en",
     "publisher": "Morrow",
     "publisher-place": "New York",
     "title": "A Ship to Remember: The “Maine” and the Spanish-American War",
     "type": "book"
    },
    "6095605/E3FNKKMA": {
     "author": [
      {
       "family": "Hugo",
       "given": "Markus M."
      }
     ],
     "container-title": "European Perceptions of the Spanish-American War of 1898",
     "editor": [
      {
       "family": "Hilton",
       "given": "Sylvia L."
      },
      {
       "family": "Ickringill",
       "given": "Steve J.S."
      }
     ],
     "event-place": "New York",
     "id": "6095605/E3FNKKMA",
     "issued": {
      "year": 1999
     },
     "language": "en",
     "page": "71–94",
     "page-first": "71",
     "publisher": "Peter Lang",
     "publisher-place": "New York",
     "title": "'Uncle Sam I Cannot Stand, for Spain I have No Sympathy': An Analysis of Discourse about the Spanish-American War in Imperial Germany, 1898-1899'",
     "type": "chapter"
    },
    "6095605/E44KKNDN": {
     "author": [
      {
       "family": "Parratt",
       "given": "Sonia"
      }
     ],
     "event-place": "Quito",
     "id": "6095605/E44KKNDN",
     "issued": {
      "year": 2008
     },
     "language": "es",
     "publisher": "Quipus, CIESPAL",
     "publisher-place": "Quito",
     "title": "Generos periodísticos en prensa",
     "type": "book"
    },
    "6095605/EV79DXBF": {
     "author": [
      {
       "family": "Jarlbrink",
       "given": "Johan"
      },
      {
       "family": "Snickars",
       "given": "Pelle"
      }
     ],
     "container-title": "Journal of Documentation",
     "id": "6095605/EV79DXBF",
     "issue": "6",
     "issued": {
      "year": 2017
     },
     "language": "en",
     "page": "1228–43",
     "page-first": "1228",
     "title": "Cultural Heritage as Digital Noise: Nineteenth Century Newspapers in the Digital Archive",
     "type": "article-journal",
     "volume": "73"
    },
    "6095605/FD8IKH5J": {
     "URL": "http://www.loufisher.org/docs/wi/434.pdf",
     "accessed": {
      "day": 12,
      "month": 5,
      "year": 2021
     },
     "author": [
      {
       "family": "Fisher",
       "given": "Louis"
      }
     ],
     "id": "6095605/FD8IKH5J",
     "issued": {
      "day": 4,
      "month": 8,
      "year": 2009
     },
     "language": "en",
     "publisher": "The Law Library of Congress",
     "title": "Destruction of the Maine (1898)",
     "type": "article"
    },
    "6095605/G8NB8QB5": {
     "editor": [
      {
       "family": "Hilton",
       "given": "Sylvia L."
      },
      {
       "family": "Ickingill",
       "given": "Steve J. S."
      }
     ],
     "event-place": "New York",
     "id": "6095605/G8NB8QB5",
     "issued": {
      "year": 1999
     },
     "language": "en",
     "publisher": "Peter Lang",
     "publisher-place": "New York",
     "title": "European Perceptions of the Spanish-American War of 1898",
     "type": "book"
    },
    "6095605/GUDUZYMP": {
     "author": [
      {
       "family": "Herman",
       "given": "Edward S."
      },
      {
       "family": "Chomsky",
       "given": "Noam"
      }
     ],
     "event-place": "New York",
     "id": "6095605/GUDUZYMP",
     "issued": {
      "year": 1988
     },
     "language": "en",
     "publisher": "Pantheon Books",
     "publisher-place": "New York",
     "title": "Manufacturing Consent: The Political Economy of the Mass Media",
     "type": "book"
    },
    "6095605/H3L2CQG4": {
     "author": [
      {
       "family": "Hamilton",
       "given": "Richard F."
      }
     ],
     "id": "6095605/H3L2CQG4",
     "issued": {
      "year": 2017
     },
     "language": "en",
     "publisher": "Taylor & Francis",
     "title": "President McKinley, War and Empire: President McKinley and America's New Empire",
     "type": "book"
    },
    "6095605/HNWNC6RC": {
     "DOI": "10.1515/hzhz-2021-1059",
     "accessed": {
      "day": 14,
      "month": 2,
      "year": 2021
     },
     "author": [
      {
       "family": "Hampf",
       "given": "M. Michaela"
      }
     ],
     "container-title": "De Gruyter Oldenbourg",
     "id": "6095605/HNWNC6RC",
     "issued": {
      "year": 2019
     },
     "language": "de",
     "note": "Place: Berlin, Boston",
     "title": "Empire of Liberty: Die Vereinigten Staaten von der Reconstruction zum Spanisch-Amerikanischen Krieg",
     "type": "article-journal"
    },
    "6095605/JWLE9TI6": {
     "author": [
      {
       "family": "Bootsma",
       "given": "Nico A."
      }
     ],
     "editor": [
      {
       "family": "Hilton",
       "given": "Sylvia L."
      },
      {
       "family": "Ickringill",
       "given": "Steve J. S."
      }
     ],
     "event-place": "New York",
     "id": "6095605/JWLE9TI6",
     "issued": {
      "year": 1999
     },
     "language": "en",
     "number-of-pages": "35–52",
     "publisher": "Peter Lang",
     "publisher-place": "New York",
     "title": "Reactions to the Spanish-American War in the Netherlands and in the Dutch East Indies.” European Perceptions of the Spanish-American War of 1898",
     "type": "book"
    },
    "6095605/KH3UHVCH": {
     "author": [
      {
       "family": "Edo",
       "given": "Concha"
      }
     ],
     "container-title": "Estudios sobre el mensaje periodístico",
     "id": "6095605/KH3UHVCH",
     "issued": {
      "year": 1998
     },
     "language": "es",
     "page": "39–60",
     "page-first": "39",
     "title": "Los periódicos de Madrid en 1898",
     "type": "article-journal",
     "volume": "4"
    },
    "6095605/MS9GS47Z": {
     "author": [
      {
       "family": "Mussell",
       "given": "James"
      }
     ],
     "event-place": "Basingstoke",
     "id": "6095605/MS9GS47Z",
     "issued": {
      "year": 2012
     },
     "language": "en",
     "publisher": "Palgrave Macmillan",
     "publisher-place": "Basingstoke",
     "title": "The Nineteenth-Century Press in the Digital Age",
     "type": "book"
    },
    "6095605/P97L8XTZ": {
     "author": [
      {
       "family": "Cooke",
       "given": "John Byrne"
      }
     ],
     "event-place": "New York",
     "id": "6095605/P97L8XTZ",
     "issued": {
      "year": 2007
     },
     "language": "en",
     "publisher": "Palgrave Macmillan",
     "publisher-place": "New York",
     "title": "Reporting the War: Freedom of the Press from the American Revolutionto the War on Terrorism",
     "type": "book"
    },
    "6095605/QBEIUL7M": {
     "accessed": {
      "day": 23,
      "month": 10,
      "year": 2020
     },
     "author": [
      {
       "family": "Benjamin",
       "given": "Jules R."
      },
      {
       "family": "Offner",
       "given": "John L."
      }
     ],
     "id": "6095605/QBEIUL7M",
     "issued": {
      "year": 1993
     },
     "language": "en",
     "title": "Review of An Unwanted War: The Diplomacy of the United States and Spain over Cuba, 1895-1898",
     "type": "book",
     "volume": "73"
    },
    "6095605/QNF6PJQD": {
     "author": [
      {
       "family": "Secunda",
       "given": "Eugene"
      },
      {
       "family": "Moran",
       "given": "Terence P."
      }
     ],
     "event-place": "Westport, CT",
     "id": "6095605/QNF6PJQD",
     "issued": {
      "year": 2007
     },
     "language": "en",
     "publisher": "Praeger",
     "publisher-place": "Westport, CT",
     "title": "Selling War to America: From the Spanish American War to the Global War on Terror",
     "type": "book"
    },
    "6095605/R48SEVSY": {
     "author": [
      {
       "family": "Offner",
       "given": "John"
      }
     ],
     "container-title": "The Crisis of 1898: Colonial Redistribution and Nationalist Mobilization",
     "editor": [
      {
       "family": "Smith",
       "given": "Angel"
      },
      {
       "family": "Dávila-Cox",
       "given": "Emma"
      }
     ],
     "event-place": "Basingstoke",
     "id": "6095605/R48SEVSY",
     "issued": {
      "year": 1999
     },
     "language": "en",
     "page": "8–44",
     "page-first": "8",
     "publisher": "Macmillan",
     "publisher-place": "Basingstoke",
     "title": "United States Politics and the 1898 War over Cuba",
     "type": "chapter"
    },
    "6095605/SBVQYHFC": {
     "author": [
      {
       "family": "Thomas",
       "given": "Mark A."
      }
     ],
     "container-title": "Historical Dictionary of the Spanish American War",
     "editor": [
      {
       "family": "Dyal",
       "given": "Donald H."
      }
     ],
     "event-place": "Westport, CT",
     "id": "6095605/SBVQYHFC",
     "issued": {
      "year": 1996
     },
     "language": "en",
     "page": "264-67",
     "page-first": "264",
     "publisher": "Greenwood Press",
     "publisher-place": "Westport, CT",
     "title": "The Press and the War.",
     "type": "chapter"
    },
    "6095605/T34HBCBC": {
     "URL": "https://figshare.com/articles/online_resource/The_Atlas_of_Digitised_Newspapers_and_Metadata_Reports_from_Oceanic_Exchanges/11560059",
     "accessed": {
      "day": 9,
      "month": 11,
      "year": 2020
     },
     "author": [
      {
       "family": "Beals",
       "given": "Melodee"
      },
      {
       "family": "Bell",
       "given": "Emily"
      }
     ],
     "id": "6095605/T34HBCBC",
     "issued": {
      "day": 5,
      "month": 5,
      "year": 2020
     },
     "language": "en",
     "title": "The Atlas of Digitised Newspapers and Metadata: Reports from Oceanic Exchanges",
     "type": "article-newspaper"
    },
    "6095605/TE5IANE9": {
     "author": [
      {
       "family": "Wilkerson",
       "given": "Marcus M."
      }
     ],
     "event-place": "New York",
     "id": "6095605/TE5IANE9",
     "issued": {
      "year": 1967
     },
     "language": "en",
     "note": "Place: New York, Russell & Russell",
     "publisher": "Russell & Russell",
     "publisher-place": "New York",
     "title": "Public Opinion and the Spanish-American War: A Study in War Propaganda",
     "type": "book"
    },
    "6095605/TXZGKNJI": {
     "author": [
      {
       "family": "Sylwester",
       "given": "Harold J."
      }
     ],
     "container-title": "The Historian",
     "id": "6095605/TXZGKNJI",
     "issue": "2",
     "issued": {
      "month": 2,
      "year": 1969
     },
     "language": "en",
     "page": "251–67",
     "page-first": "251",
     "title": "The Kansas Press and the Coming of the Spanish-American War",
     "type": "article-journal",
     "volume": "31"
    },
    "6095605/X6AY9XQ3": {
     "author": [
      {
       "family": "Ryer",
       "given": "Paul"
      }
     ],
     "container-title": "International Journal of Cuban Studies",
     "id": "6095605/X6AY9XQ3",
     "issue": "2",
     "issued": {
      "year": 2015
     },
     "language": "en",
     "page": "200–11",
     "page-first": "200",
     "title": "The Maine, the Romney and the Threads of Conspiracy in Cuba",
     "type": "article-journal",
     "volume": "7"
    },
    "6095605/XKPZYPDG": {
     "author": [
      {
       "family": "Sintes-Gómez",
       "given": "Carlos Alberto"
      }
     ],
     "container-title": "Santiago, enero-abril",
     "id": "6095605/XKPZYPDG",
     "issued": {
      "year": 2019
     },
     "language": "es",
     "page": "228-44",
     "page-first": "228",
     "title": "El reflejo en la prensa madrileña de la guerra hispano-cubano-norteamericana",
     "type": "article-journal",
     "volume": "151"
    },
    "6095605/Z8D4MCP8": {
     "author": [
      {
       "family": "Lima Sarmiento",
       "given": "Edel"
      }
     ],
     "container-title": "Islas",
     "id": "6095605/Z8D4MCP8",
     "issue": "191",
     "issued": {
      "year": 2018
     },
     "language": "es",
     "page": "87-101",
     "page-first": "87",
     "title": "Sin pulso y vocinglera. La prensa española ante la Guerra hispano.-cubana-norteamericana",
     "type": "article-journal",
     "volume": "60"
    },
    "6095605/ZX5QAL9Y": {
     "author": [
      {
       "family": "Brown",
       "given": "Charles H."
      }
     ],
     "event-place": "New York",
     "id": "6095605/ZX5QAL9Y",
     "issued": {
      "year": 1967
     },
     "language": "en",
     "publisher": "Scribner’s",
     "publisher-place": "New York",
     "title": "The Correspondents’ War: Journalists in the Spanish American War",
     "type": "book"
    }
   }
  },
  "kernelspec": {
   "display_name": "Python 3 (ipykernel)",
   "language": "python",
   "name": "python3"
  },
  "language_info": {
   "codemirror_mode": {
    "name": "ipython",
    "version": 3
   },
   "file_extension": ".py",
   "mimetype": "text/x-python",
   "name": "python",
   "nbconvert_exporter": "python",
   "pygments_lexer": "ipython3",
   "version": "3.7.13"
  },
  "toc": {
   "base_numbering": 1,
   "nav_menu": {},
   "number_sections": true,
   "sideBar": true,
   "skip_h1_title": false,
   "title_cell": "Table of Contents",
   "title_sidebar": "Contents",
   "toc_cell": false,
   "toc_position": {
    "height": "calc(100% - 180px)",
    "left": "10px",
    "top": "150px",
    "width": "165px"
   },
   "toc_section_display": true,
   "toc_window_display": false
  }
 },
 "nbformat": 4,
 "nbformat_minor": 5
}
