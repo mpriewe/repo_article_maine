{
 "cells": [
  {
   "cell_type": "markdown",
   "metadata": {
    "id": "tGblA2SyqVh9"
   },
   "source": [
    "**THIS IS A READ-ONLY VERSION, PLASE MAKE A COPY BEFORE YOU WORK ON THIS NOTEBOOK**"
   ]
  },
  {
   "cell_type": "code",
   "execution_count": null,
   "metadata": {
    "id": "QltLTfyHnWE1"
   },
   "outputs": [],
   "source": [
    "import nltk #Libraries that we are going to use\n",
    "nltk.download('punkt')\n",
    "import sys\n"
   ]
  },
  {
   "cell_type": "code",
   "execution_count": null,
   "metadata": {
    "id": "0QGKidfbnYtn"
   },
   "outputs": [],
   "source": [
    "##For opening the files we are going to simply use the file explorer (left bar, file icon). Once we are there:\n",
    "# 1)Mount our drive \n",
    "# 2)Drag and drop there the files we want to analyze\n",
    "\n",
    "corpusinput= '/content/mexico.txt'  #Corpus that we are using\n",
    "listofwords= '/content/list.txt'    #List of words/entities that we are interested in\n",
    "#output = open('/content/results.txt','w')   #A file in which we are goingt to save the results\n",
    "\n",
    "\n",
    "f=open(corpusinput,'r')\n",
    "raw=f.read()\n",
    "\n",
    "tokens = nltk.word_tokenize(raw)\n",
    "text = nltk.Text(tokens)\n",
    "\n",
    "####We extract contexts###\n",
    "f2 = open(listofwords, \"r\")\n",
    "for x in f2:\t\n",
    "  \n",
    "  word=x.replace('\\n', '').replace(' ', '')\n",
    "  print(\"--\",word,\"--\")\n",
    "  print(\"Similar words (words in similar contexts):\")\n",
    "  similares=text.similar(word, 7)  #How many similar words we want to retrieve\n",
    "\t\n",
    "  text.concordance(word, width=200, lines=20)  #Width controls the size of the context window. Lines the number of results\n",
    "  print()"
   ]
  }
 ],
 "metadata": {
  "colab": {
   "provenance": []
  },
  "kernelspec": {
   "display_name": "Python 3 (ipykernel)",
   "language": "python",
   "name": "python3"
  },
  "language_info": {
   "codemirror_mode": {
    "name": "ipython",
    "version": 3
   },
   "file_extension": ".py",
   "mimetype": "text/x-python",
   "name": "python",
   "nbconvert_exporter": "python",
   "pygments_lexer": "ipython3",
   "version": "3.7.13"
  },
  "toc": {
   "base_numbering": 1,
   "nav_menu": {},
   "number_sections": true,
   "sideBar": true,
   "skip_h1_title": false,
   "title_cell": "Table of Contents",
   "title_sidebar": "Contents",
   "toc_cell": false,
   "toc_position": {},
   "toc_section_display": true,
   "toc_window_display": false
  }
 },
 "nbformat": 4,
 "nbformat_minor": 1
}
